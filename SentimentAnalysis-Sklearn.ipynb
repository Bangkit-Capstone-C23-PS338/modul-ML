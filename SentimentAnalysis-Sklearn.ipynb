{
  "cells": [
    {
      "attachments": {},
      "cell_type": "markdown",
      "metadata": {
        "colab_type": "text",
        "id": "view-in-github"
      },
      "source": [
        "<a href=\"https://colab.research.google.com/github/Bangkit-Capstone-C23-PS338/modul-ML/blob/main/SentimentAnalysis-Main.ipynb\" target=\"_parent\"><img src=\"https://colab.research.google.com/assets/colab-badge.svg\" alt=\"Open In Colab\"/></a>\n"
      ]
    },
    {
      "attachments": {},
      "cell_type": "markdown",
      "metadata": {
        "id": "uG6B94eGF35p"
      },
      "source": [
        "# Data Preprocessing\n"
      ]
    },
    {
      "cell_type": "code",
      "execution_count": null,
      "metadata": {},
      "outputs": [],
      "source": []
    },
    {
      "attachments": {},
      "cell_type": "markdown",
      "metadata": {
        "id": "3eq-PaYXD5YB"
      },
      "source": [
        "## Load data from Google Spreadsheet\n"
      ]
    },
    {
      "cell_type": "code",
      "execution_count": 91,
      "metadata": {
        "id": "OqQ_yYlvD_hc"
      },
      "outputs": [],
      "source": [
        "import os\n",
        "import pandas as pd\n",
        "import numpy as np\n",
        "import pickle\n",
        "\n",
        "#set warning \n",
        "import warnings\n",
        "warnings.filterwarnings('ignore')\n",
        "\n",
        "# setup (authorization)\n",
        "# from google.colab import auth\n",
        "# import gspread\n",
        "# from google.auth import default\n",
        "\n",
        "# auth.authenticate_user()\n",
        "# creds, _ = default()\n",
        "\n",
        "# gc = gspread.authorize(creds)"
      ]
    },
    {
      "cell_type": "code",
      "execution_count": 92,
      "metadata": {},
      "outputs": [],
      "source": [
        "import matplotlib.pyplot as plt\n",
        "from sklearn.naive_bayes import MultinomialNB\n",
        "from sklearn.feature_extraction.text import CountVectorizer, TfidfVectorizer\n",
        "from sklearn.model_selection import cross_val_score\n",
        "from sklearn.ensemble import ExtraTreesClassifier\n",
        "from sklearn.neighbors import KNeighborsClassifier\n",
        "from sklearn.linear_model import LogisticRegression\n",
        "from sklearn.ensemble import RandomForestClassifier\n",
        "from sklearn.naive_bayes import MultinomialNB\n",
        "from sklearn.svm import SVC\n",
        "from sklearn.model_selection import train_test_split\n",
        "from sklearn.metrics import accuracy_score, precision_score, recall_score, f1_score\n",
        "from sklearn.metrics import classification_report\n",
        "from sklearn.metrics import confusion_matrix\n",
        "from sklearn.metrics import mean_squared_error, mean_absolute_error"
      ]
    },
    {
      "cell_type": "code",
      "execution_count": 93,
      "metadata": {
        "colab": {
          "base_uri": "https://localhost:8080/",
          "height": 832
        },
        "id": "a03IA3xcIhSR",
        "outputId": "99eec5e7-2239-402a-c634-8427ec205bab"
      },
      "outputs": [
        {
          "data": {
            "text/html": [
              "<div>\n",
              "<style scoped>\n",
              "    .dataframe tbody tr th:only-of-type {\n",
              "        vertical-align: middle;\n",
              "    }\n",
              "\n",
              "    .dataframe tbody tr th {\n",
              "        vertical-align: top;\n",
              "    }\n",
              "\n",
              "    .dataframe thead th {\n",
              "        text-align: right;\n",
              "    }\n",
              "</style>\n",
              "<table border=\"1\" class=\"dataframe\">\n",
              "  <thead>\n",
              "    <tr style=\"text-align: right;\">\n",
              "      <th></th>\n",
              "      <th>no</th>\n",
              "      <th>sentiment</th>\n",
              "      <th>Text</th>\n",
              "      <th>char</th>\n",
              "      <th>word</th>\n",
              "      <th>source</th>\n",
              "      <th>author</th>\n",
              "      <th>type</th>\n",
              "      <th>stats (top 1000)</th>\n",
              "    </tr>\n",
              "  </thead>\n",
              "  <tbody>\n",
              "    <tr>\n",
              "      <th>0</th>\n",
              "      <td>1</td>\n",
              "      <td>Neutral</td>\n",
              "      <td>Sudah keliatan kalau dari video ini kalau dia ...</td>\n",
              "      <td>241</td>\n",
              "      <td>39</td>\n",
              "      <td>https://id.quora.com/Siapakah-Youtuber-yang-me...</td>\n",
              "      <td>Raditya Christoaji Ballandean Prabowo</td>\n",
              "      <td>post</td>\n",
              "      <td>95.0</td>\n",
              "    </tr>\n",
              "    <tr>\n",
              "      <th>1</th>\n",
              "      <td>2</td>\n",
              "      <td>Positive</td>\n",
              "      <td>Hampir pada setiap video,ia selalu melakukanny...</td>\n",
              "      <td>291</td>\n",
              "      <td>36</td>\n",
              "      <td>https://id.quora.com/Siapakah-Youtuber-yang-me...</td>\n",
              "      <td>Raditya Christoaji Ballandean Prabowo</td>\n",
              "      <td>post</td>\n",
              "      <td>93.0</td>\n",
              "    </tr>\n",
              "    <tr>\n",
              "      <th>2</th>\n",
              "      <td>3</td>\n",
              "      <td>Neutral</td>\n",
              "      <td>Channel ini usung tema pengelolaan keuangan.Aw...</td>\n",
              "      <td>181</td>\n",
              "      <td>23</td>\n",
              "      <td>https://id.quora.com/Siapakah-Youtuber-yang-me...</td>\n",
              "      <td>Raditya Christoaji Ballandean Prabowo</td>\n",
              "      <td>post</td>\n",
              "      <td>17.0</td>\n",
              "    </tr>\n",
              "    <tr>\n",
              "      <th>3</th>\n",
              "      <td>4</td>\n",
              "      <td>Neutral</td>\n",
              "      <td>Ferry Irwandi, adalah seorang PNS lulusan STAN...</td>\n",
              "      <td>279</td>\n",
              "      <td>36</td>\n",
              "      <td>https://id.quora.com/Siapakah-Youtuber-yang-me...</td>\n",
              "      <td>Raditya Christoaji Ballandean Prabowo</td>\n",
              "      <td>post</td>\n",
              "      <td>205.0</td>\n",
              "    </tr>\n",
              "    <tr>\n",
              "      <th>4</th>\n",
              "      <td>5</td>\n",
              "      <td>Positive</td>\n",
              "      <td>Tidak hanya video-video yang mengulas permasal...</td>\n",
              "      <td>382</td>\n",
              "      <td>55</td>\n",
              "      <td>https://id.quora.com/Siapakah-Youtuber-yang-me...</td>\n",
              "      <td>Raditya Christoaji Ballandean Prabowo</td>\n",
              "      <td>post</td>\n",
              "      <td>NaN</td>\n",
              "    </tr>\n",
              "    <tr>\n",
              "      <th>...</th>\n",
              "      <td>...</td>\n",
              "      <td>...</td>\n",
              "      <td>...</td>\n",
              "      <td>...</td>\n",
              "      <td>...</td>\n",
              "      <td>...</td>\n",
              "      <td>...</td>\n",
              "      <td>...</td>\n",
              "      <td>...</td>\n",
              "    </tr>\n",
              "    <tr>\n",
              "      <th>200</th>\n",
              "      <td>201</td>\n",
              "      <td>Negative</td>\n",
              "      <td>Untuk 3 orang lainnya yang barangnya saya kiri...</td>\n",
              "      <td>285</td>\n",
              "      <td>43</td>\n",
              "      <td>https://id.quora.com/Pernahkah-kamu-membayar-s...</td>\n",
              "      <td>Hanny Zen</td>\n",
              "      <td>post</td>\n",
              "      <td>NaN</td>\n",
              "    </tr>\n",
              "    <tr>\n",
              "      <th>201</th>\n",
              "      <td>202</td>\n",
              "      <td>Positive</td>\n",
              "      <td>Anyway, baik Alisa maupun suaminya memention a...</td>\n",
              "      <td>267</td>\n",
              "      <td>39</td>\n",
              "      <td>https://id.quora.com/Pernahkah-kamu-membayar-s...</td>\n",
              "      <td>Hanny Zen</td>\n",
              "      <td>post</td>\n",
              "      <td>NaN</td>\n",
              "    </tr>\n",
              "    <tr>\n",
              "      <th>202</th>\n",
              "      <td>203</td>\n",
              "      <td>Positive</td>\n",
              "      <td>Postingan dari Alisa mendapat respon yang sang...</td>\n",
              "      <td>219</td>\n",
              "      <td>30</td>\n",
              "      <td>https://id.quora.com/Pernahkah-kamu-membayar-s...</td>\n",
              "      <td>Hanny Zen</td>\n",
              "      <td>post</td>\n",
              "      <td>NaN</td>\n",
              "    </tr>\n",
              "    <tr>\n",
              "      <th>203</th>\n",
              "      <td>204</td>\n",
              "      <td>Positive</td>\n",
              "      <td>Tapi wow, itu adalah feedback yang sangat bagu...</td>\n",
              "      <td>154</td>\n",
              "      <td>25</td>\n",
              "      <td>https://id.quora.com/Pernahkah-kamu-membayar-s...</td>\n",
              "      <td>Hanny Zen</td>\n",
              "      <td>post</td>\n",
              "      <td>NaN</td>\n",
              "    </tr>\n",
              "    <tr>\n",
              "      <th>204</th>\n",
              "      <td>205</td>\n",
              "      <td>Negative</td>\n",
              "      <td>saya pernah iseng - iseng ketika baru memulai ...</td>\n",
              "      <td>219</td>\n",
              "      <td>34</td>\n",
              "      <td>https://id.quora.com/Pernahkah-kamu-membayar-s...</td>\n",
              "      <td>Hanny Zen</td>\n",
              "      <td>post</td>\n",
              "      <td>NaN</td>\n",
              "    </tr>\n",
              "  </tbody>\n",
              "</table>\n",
              "<p>205 rows × 9 columns</p>\n",
              "</div>"
            ],
            "text/plain": [
              "      no sentiment                                               Text  char   \n",
              "0      1   Neutral  Sudah keliatan kalau dari video ini kalau dia ...   241  \\\n",
              "1      2  Positive  Hampir pada setiap video,ia selalu melakukanny...   291   \n",
              "2      3   Neutral  Channel ini usung tema pengelolaan keuangan.Aw...   181   \n",
              "3      4   Neutral  Ferry Irwandi, adalah seorang PNS lulusan STAN...   279   \n",
              "4      5  Positive  Tidak hanya video-video yang mengulas permasal...   382   \n",
              "..   ...       ...                                                ...   ...   \n",
              "200  201  Negative  Untuk 3 orang lainnya yang barangnya saya kiri...   285   \n",
              "201  202  Positive  Anyway, baik Alisa maupun suaminya memention a...   267   \n",
              "202  203  Positive  Postingan dari Alisa mendapat respon yang sang...   219   \n",
              "203  204  Positive  Tapi wow, itu adalah feedback yang sangat bagu...   154   \n",
              "204  205  Negative  saya pernah iseng - iseng ketika baru memulai ...   219   \n",
              "\n",
              "     word                                             source   \n",
              "0      39  https://id.quora.com/Siapakah-Youtuber-yang-me...  \\\n",
              "1      36  https://id.quora.com/Siapakah-Youtuber-yang-me...   \n",
              "2      23  https://id.quora.com/Siapakah-Youtuber-yang-me...   \n",
              "3      36  https://id.quora.com/Siapakah-Youtuber-yang-me...   \n",
              "4      55  https://id.quora.com/Siapakah-Youtuber-yang-me...   \n",
              "..    ...                                                ...   \n",
              "200    43  https://id.quora.com/Pernahkah-kamu-membayar-s...   \n",
              "201    39  https://id.quora.com/Pernahkah-kamu-membayar-s...   \n",
              "202    30  https://id.quora.com/Pernahkah-kamu-membayar-s...   \n",
              "203    25  https://id.quora.com/Pernahkah-kamu-membayar-s...   \n",
              "204    34  https://id.quora.com/Pernahkah-kamu-membayar-s...   \n",
              "\n",
              "                                    author  type  stats (top 1000)  \n",
              "0    Raditya Christoaji Ballandean Prabowo  post              95.0  \n",
              "1    Raditya Christoaji Ballandean Prabowo  post              93.0  \n",
              "2    Raditya Christoaji Ballandean Prabowo  post              17.0  \n",
              "3    Raditya Christoaji Ballandean Prabowo  post             205.0  \n",
              "4    Raditya Christoaji Ballandean Prabowo  post               NaN  \n",
              "..                                     ...   ...               ...  \n",
              "200                              Hanny Zen  post               NaN  \n",
              "201                              Hanny Zen  post               NaN  \n",
              "202                              Hanny Zen  post               NaN  \n",
              "203                              Hanny Zen  post               NaN  \n",
              "204                              Hanny Zen  post               NaN  \n",
              "\n",
              "[205 rows x 9 columns]"
            ]
          },
          "execution_count": 93,
          "metadata": {},
          "output_type": "execute_result"
        }
      ],
      "source": [
        "\n",
        "# gsheets = gc.open_by_url('https://docs.google.com/spreadsheets/d/1y4ZUPwWEWvAXuu1YcSZQFZpXQuF_K8uTQHQ1ho_AZ8I/edit#gid=0')\n",
        "# sheets = gsheets.worksheet('Sheet1').get_all_values()\n",
        "# df_raw = pd.DataFrame(sheets[1:], columns=sheets[0])\n",
        "df_raw = pd.read_csv('Data Sentiment Analysis.csv')\n",
        "df_raw = df_raw.iloc[:, :9]\n",
        "df_raw"
      ]
    },
    {
      "attachments": {},
      "cell_type": "markdown",
      "metadata": {
        "id": "OF90uomnOKa4"
      },
      "source": [
        "Remove empty rows and cols and adjust data type\n"
      ]
    },
    {
      "cell_type": "code",
      "execution_count": 94,
      "metadata": {
        "colab": {
          "base_uri": "https://localhost:8080/",
          "height": 641
        },
        "id": "ybnyrHvxAkPp",
        "outputId": "d1ebd8e3-a98b-43e0-f447-7466f6778b5d"
      },
      "outputs": [
        {
          "data": {
            "text/html": [
              "<div>\n",
              "<style scoped>\n",
              "    .dataframe tbody tr th:only-of-type {\n",
              "        vertical-align: middle;\n",
              "    }\n",
              "\n",
              "    .dataframe tbody tr th {\n",
              "        vertical-align: top;\n",
              "    }\n",
              "\n",
              "    .dataframe thead th {\n",
              "        text-align: right;\n",
              "    }\n",
              "</style>\n",
              "<table border=\"1\" class=\"dataframe\">\n",
              "  <thead>\n",
              "    <tr style=\"text-align: right;\">\n",
              "      <th></th>\n",
              "      <th>no</th>\n",
              "      <th>sentiment</th>\n",
              "      <th>Text</th>\n",
              "      <th>char</th>\n",
              "      <th>word</th>\n",
              "      <th>source</th>\n",
              "      <th>author</th>\n",
              "      <th>type</th>\n",
              "    </tr>\n",
              "  </thead>\n",
              "  <tbody>\n",
              "    <tr>\n",
              "      <th>0</th>\n",
              "      <td>1</td>\n",
              "      <td>Neutral</td>\n",
              "      <td>Sudah keliatan kalau dari video ini kalau dia ...</td>\n",
              "      <td>241</td>\n",
              "      <td>39</td>\n",
              "      <td>https://id.quora.com/Siapakah-Youtuber-yang-me...</td>\n",
              "      <td>Raditya Christoaji Ballandean Prabowo</td>\n",
              "      <td>post</td>\n",
              "    </tr>\n",
              "    <tr>\n",
              "      <th>1</th>\n",
              "      <td>2</td>\n",
              "      <td>Positive</td>\n",
              "      <td>Hampir pada setiap video,ia selalu melakukanny...</td>\n",
              "      <td>291</td>\n",
              "      <td>36</td>\n",
              "      <td>https://id.quora.com/Siapakah-Youtuber-yang-me...</td>\n",
              "      <td>Raditya Christoaji Ballandean Prabowo</td>\n",
              "      <td>post</td>\n",
              "    </tr>\n",
              "    <tr>\n",
              "      <th>2</th>\n",
              "      <td>3</td>\n",
              "      <td>Neutral</td>\n",
              "      <td>Channel ini usung tema pengelolaan keuangan.Aw...</td>\n",
              "      <td>181</td>\n",
              "      <td>23</td>\n",
              "      <td>https://id.quora.com/Siapakah-Youtuber-yang-me...</td>\n",
              "      <td>Raditya Christoaji Ballandean Prabowo</td>\n",
              "      <td>post</td>\n",
              "    </tr>\n",
              "    <tr>\n",
              "      <th>3</th>\n",
              "      <td>4</td>\n",
              "      <td>Neutral</td>\n",
              "      <td>Ferry Irwandi, adalah seorang PNS lulusan STAN...</td>\n",
              "      <td>279</td>\n",
              "      <td>36</td>\n",
              "      <td>https://id.quora.com/Siapakah-Youtuber-yang-me...</td>\n",
              "      <td>Raditya Christoaji Ballandean Prabowo</td>\n",
              "      <td>post</td>\n",
              "    </tr>\n",
              "    <tr>\n",
              "      <th>4</th>\n",
              "      <td>5</td>\n",
              "      <td>Positive</td>\n",
              "      <td>Tidak hanya video-video yang mengulas permasal...</td>\n",
              "      <td>382</td>\n",
              "      <td>55</td>\n",
              "      <td>https://id.quora.com/Siapakah-Youtuber-yang-me...</td>\n",
              "      <td>Raditya Christoaji Ballandean Prabowo</td>\n",
              "      <td>post</td>\n",
              "    </tr>\n",
              "    <tr>\n",
              "      <th>...</th>\n",
              "      <td>...</td>\n",
              "      <td>...</td>\n",
              "      <td>...</td>\n",
              "      <td>...</td>\n",
              "      <td>...</td>\n",
              "      <td>...</td>\n",
              "      <td>...</td>\n",
              "      <td>...</td>\n",
              "    </tr>\n",
              "    <tr>\n",
              "      <th>200</th>\n",
              "      <td>201</td>\n",
              "      <td>Negative</td>\n",
              "      <td>Untuk 3 orang lainnya yang barangnya saya kiri...</td>\n",
              "      <td>285</td>\n",
              "      <td>43</td>\n",
              "      <td>https://id.quora.com/Pernahkah-kamu-membayar-s...</td>\n",
              "      <td>Hanny Zen</td>\n",
              "      <td>post</td>\n",
              "    </tr>\n",
              "    <tr>\n",
              "      <th>201</th>\n",
              "      <td>202</td>\n",
              "      <td>Positive</td>\n",
              "      <td>Anyway, baik Alisa maupun suaminya memention a...</td>\n",
              "      <td>267</td>\n",
              "      <td>39</td>\n",
              "      <td>https://id.quora.com/Pernahkah-kamu-membayar-s...</td>\n",
              "      <td>Hanny Zen</td>\n",
              "      <td>post</td>\n",
              "    </tr>\n",
              "    <tr>\n",
              "      <th>202</th>\n",
              "      <td>203</td>\n",
              "      <td>Positive</td>\n",
              "      <td>Postingan dari Alisa mendapat respon yang sang...</td>\n",
              "      <td>219</td>\n",
              "      <td>30</td>\n",
              "      <td>https://id.quora.com/Pernahkah-kamu-membayar-s...</td>\n",
              "      <td>Hanny Zen</td>\n",
              "      <td>post</td>\n",
              "    </tr>\n",
              "    <tr>\n",
              "      <th>203</th>\n",
              "      <td>204</td>\n",
              "      <td>Positive</td>\n",
              "      <td>Tapi wow, itu adalah feedback yang sangat bagu...</td>\n",
              "      <td>154</td>\n",
              "      <td>25</td>\n",
              "      <td>https://id.quora.com/Pernahkah-kamu-membayar-s...</td>\n",
              "      <td>Hanny Zen</td>\n",
              "      <td>post</td>\n",
              "    </tr>\n",
              "    <tr>\n",
              "      <th>204</th>\n",
              "      <td>205</td>\n",
              "      <td>Negative</td>\n",
              "      <td>saya pernah iseng - iseng ketika baru memulai ...</td>\n",
              "      <td>219</td>\n",
              "      <td>34</td>\n",
              "      <td>https://id.quora.com/Pernahkah-kamu-membayar-s...</td>\n",
              "      <td>Hanny Zen</td>\n",
              "      <td>post</td>\n",
              "    </tr>\n",
              "  </tbody>\n",
              "</table>\n",
              "<p>205 rows × 8 columns</p>\n",
              "</div>"
            ],
            "text/plain": [
              "      no sentiment                                               Text  char   \n",
              "0      1   Neutral  Sudah keliatan kalau dari video ini kalau dia ...   241  \\\n",
              "1      2  Positive  Hampir pada setiap video,ia selalu melakukanny...   291   \n",
              "2      3   Neutral  Channel ini usung tema pengelolaan keuangan.Aw...   181   \n",
              "3      4   Neutral  Ferry Irwandi, adalah seorang PNS lulusan STAN...   279   \n",
              "4      5  Positive  Tidak hanya video-video yang mengulas permasal...   382   \n",
              "..   ...       ...                                                ...   ...   \n",
              "200  201  Negative  Untuk 3 orang lainnya yang barangnya saya kiri...   285   \n",
              "201  202  Positive  Anyway, baik Alisa maupun suaminya memention a...   267   \n",
              "202  203  Positive  Postingan dari Alisa mendapat respon yang sang...   219   \n",
              "203  204  Positive  Tapi wow, itu adalah feedback yang sangat bagu...   154   \n",
              "204  205  Negative  saya pernah iseng - iseng ketika baru memulai ...   219   \n",
              "\n",
              "     word                                             source   \n",
              "0      39  https://id.quora.com/Siapakah-Youtuber-yang-me...  \\\n",
              "1      36  https://id.quora.com/Siapakah-Youtuber-yang-me...   \n",
              "2      23  https://id.quora.com/Siapakah-Youtuber-yang-me...   \n",
              "3      36  https://id.quora.com/Siapakah-Youtuber-yang-me...   \n",
              "4      55  https://id.quora.com/Siapakah-Youtuber-yang-me...   \n",
              "..    ...                                                ...   \n",
              "200    43  https://id.quora.com/Pernahkah-kamu-membayar-s...   \n",
              "201    39  https://id.quora.com/Pernahkah-kamu-membayar-s...   \n",
              "202    30  https://id.quora.com/Pernahkah-kamu-membayar-s...   \n",
              "203    25  https://id.quora.com/Pernahkah-kamu-membayar-s...   \n",
              "204    34  https://id.quora.com/Pernahkah-kamu-membayar-s...   \n",
              "\n",
              "                                    author  type  \n",
              "0    Raditya Christoaji Ballandean Prabowo  post  \n",
              "1    Raditya Christoaji Ballandean Prabowo  post  \n",
              "2    Raditya Christoaji Ballandean Prabowo  post  \n",
              "3    Raditya Christoaji Ballandean Prabowo  post  \n",
              "4    Raditya Christoaji Ballandean Prabowo  post  \n",
              "..                                     ...   ...  \n",
              "200                              Hanny Zen  post  \n",
              "201                              Hanny Zen  post  \n",
              "202                              Hanny Zen  post  \n",
              "203                              Hanny Zen  post  \n",
              "204                              Hanny Zen  post  \n",
              "\n",
              "[205 rows x 8 columns]"
            ]
          },
          "execution_count": 94,
          "metadata": {},
          "output_type": "execute_result"
        }
      ],
      "source": [
        "# Remove empty rows\n",
        "df = df_raw.loc[df_raw[\"Text\"] != \"\"]\n",
        "\n",
        "# Get label stats\n",
        "pos, neg, neutral, total = tuple(df[\"stats (top 1000)\"].to_numpy()[0:4].astype(int))\n",
        "\n",
        "# Get important cols\n",
        "df = df.iloc[:, :8]\n",
        "\n",
        "# Replace empty value with None\n",
        "df = df.replace(r'^\\s*$', None, regex=True)\n",
        "\n",
        "# Convert data type from string\n",
        "df = df.astype({\"no\": \"int32\", \"char\": \"int32\", \"word\": \"int32\"})\n",
        "\n",
        "df"
      ]
    },
    {
      "attachments": {},
      "cell_type": "markdown",
      "metadata": {
        "id": "Zp2x9jLqNGCJ"
      },
      "source": [
        "## Data Exploration\n"
      ]
    },
    {
      "attachments": {},
      "cell_type": "markdown",
      "metadata": {
        "id": "nPQAi06BNnp4"
      },
      "source": [
        "### Preview\n"
      ]
    },
    {
      "cell_type": "code",
      "execution_count": 95,
      "metadata": {
        "colab": {
          "base_uri": "https://localhost:8080/",
          "height": 337
        },
        "id": "DZZHzEKyNJJ5",
        "outputId": "b483c7db-89e6-4e10-a269-6d63fb97ade8"
      },
      "outputs": [
        {
          "data": {
            "text/html": [
              "<div>\n",
              "<style scoped>\n",
              "    .dataframe tbody tr th:only-of-type {\n",
              "        vertical-align: middle;\n",
              "    }\n",
              "\n",
              "    .dataframe tbody tr th {\n",
              "        vertical-align: top;\n",
              "    }\n",
              "\n",
              "    .dataframe thead th {\n",
              "        text-align: right;\n",
              "    }\n",
              "</style>\n",
              "<table border=\"1\" class=\"dataframe\">\n",
              "  <thead>\n",
              "    <tr style=\"text-align: right;\">\n",
              "      <th></th>\n",
              "      <th>no</th>\n",
              "      <th>sentiment</th>\n",
              "      <th>Text</th>\n",
              "      <th>char</th>\n",
              "      <th>word</th>\n",
              "      <th>source</th>\n",
              "      <th>author</th>\n",
              "      <th>type</th>\n",
              "    </tr>\n",
              "  </thead>\n",
              "  <tbody>\n",
              "    <tr>\n",
              "      <th>0</th>\n",
              "      <td>1</td>\n",
              "      <td>Neutral</td>\n",
              "      <td>Sudah keliatan kalau dari video ini kalau dia ...</td>\n",
              "      <td>241</td>\n",
              "      <td>39</td>\n",
              "      <td>https://id.quora.com/Siapakah-Youtuber-yang-me...</td>\n",
              "      <td>Raditya Christoaji Ballandean Prabowo</td>\n",
              "      <td>post</td>\n",
              "    </tr>\n",
              "    <tr>\n",
              "      <th>1</th>\n",
              "      <td>2</td>\n",
              "      <td>Positive</td>\n",
              "      <td>Hampir pada setiap video,ia selalu melakukanny...</td>\n",
              "      <td>291</td>\n",
              "      <td>36</td>\n",
              "      <td>https://id.quora.com/Siapakah-Youtuber-yang-me...</td>\n",
              "      <td>Raditya Christoaji Ballandean Prabowo</td>\n",
              "      <td>post</td>\n",
              "    </tr>\n",
              "    <tr>\n",
              "      <th>2</th>\n",
              "      <td>3</td>\n",
              "      <td>Neutral</td>\n",
              "      <td>Channel ini usung tema pengelolaan keuangan.Aw...</td>\n",
              "      <td>181</td>\n",
              "      <td>23</td>\n",
              "      <td>https://id.quora.com/Siapakah-Youtuber-yang-me...</td>\n",
              "      <td>Raditya Christoaji Ballandean Prabowo</td>\n",
              "      <td>post</td>\n",
              "    </tr>\n",
              "    <tr>\n",
              "      <th>3</th>\n",
              "      <td>4</td>\n",
              "      <td>Neutral</td>\n",
              "      <td>Ferry Irwandi, adalah seorang PNS lulusan STAN...</td>\n",
              "      <td>279</td>\n",
              "      <td>36</td>\n",
              "      <td>https://id.quora.com/Siapakah-Youtuber-yang-me...</td>\n",
              "      <td>Raditya Christoaji Ballandean Prabowo</td>\n",
              "      <td>post</td>\n",
              "    </tr>\n",
              "    <tr>\n",
              "      <th>4</th>\n",
              "      <td>5</td>\n",
              "      <td>Positive</td>\n",
              "      <td>Tidak hanya video-video yang mengulas permasal...</td>\n",
              "      <td>382</td>\n",
              "      <td>55</td>\n",
              "      <td>https://id.quora.com/Siapakah-Youtuber-yang-me...</td>\n",
              "      <td>Raditya Christoaji Ballandean Prabowo</td>\n",
              "      <td>post</td>\n",
              "    </tr>\n",
              "  </tbody>\n",
              "</table>\n",
              "</div>"
            ],
            "text/plain": [
              "   no sentiment                                               Text  char   \n",
              "0   1   Neutral  Sudah keliatan kalau dari video ini kalau dia ...   241  \\\n",
              "1   2  Positive  Hampir pada setiap video,ia selalu melakukanny...   291   \n",
              "2   3   Neutral  Channel ini usung tema pengelolaan keuangan.Aw...   181   \n",
              "3   4   Neutral  Ferry Irwandi, adalah seorang PNS lulusan STAN...   279   \n",
              "4   5  Positive  Tidak hanya video-video yang mengulas permasal...   382   \n",
              "\n",
              "   word                                             source   \n",
              "0    39  https://id.quora.com/Siapakah-Youtuber-yang-me...  \\\n",
              "1    36  https://id.quora.com/Siapakah-Youtuber-yang-me...   \n",
              "2    23  https://id.quora.com/Siapakah-Youtuber-yang-me...   \n",
              "3    36  https://id.quora.com/Siapakah-Youtuber-yang-me...   \n",
              "4    55  https://id.quora.com/Siapakah-Youtuber-yang-me...   \n",
              "\n",
              "                                  author  type  \n",
              "0  Raditya Christoaji Ballandean Prabowo  post  \n",
              "1  Raditya Christoaji Ballandean Prabowo  post  \n",
              "2  Raditya Christoaji Ballandean Prabowo  post  \n",
              "3  Raditya Christoaji Ballandean Prabowo  post  \n",
              "4  Raditya Christoaji Ballandean Prabowo  post  "
            ]
          },
          "execution_count": 95,
          "metadata": {},
          "output_type": "execute_result"
        }
      ],
      "source": [
        "df.head(5)"
      ]
    },
    {
      "attachments": {},
      "cell_type": "markdown",
      "metadata": {
        "id": "lMH4TRlHNqhZ"
      },
      "source": [
        "### Data types\n"
      ]
    },
    {
      "cell_type": "code",
      "execution_count": 96,
      "metadata": {
        "colab": {
          "base_uri": "https://localhost:8080/"
        },
        "id": "pbquZKNcF94g",
        "outputId": "42894246-70a9-4c78-a62a-f92f0708e525"
      },
      "outputs": [
        {
          "data": {
            "text/plain": [
              "no            int32\n",
              "sentiment    object\n",
              "Text         object\n",
              "char          int32\n",
              "word          int32\n",
              "source       object\n",
              "author       object\n",
              "type         object\n",
              "dtype: object"
            ]
          },
          "execution_count": 96,
          "metadata": {},
          "output_type": "execute_result"
        }
      ],
      "source": [
        "df.dtypes"
      ]
    },
    {
      "attachments": {},
      "cell_type": "markdown",
      "metadata": {
        "id": "HEn8RWHNNsqY"
      },
      "source": [
        "### Empty value\n"
      ]
    },
    {
      "cell_type": "code",
      "execution_count": 97,
      "metadata": {
        "colab": {
          "base_uri": "https://localhost:8080/"
        },
        "id": "8NSTzfQMJZwx",
        "outputId": "84ac7658-4f26-403b-e1db-76432a574c27"
      },
      "outputs": [
        {
          "data": {
            "text/plain": [
              "no           0\n",
              "sentiment    0\n",
              "Text         0\n",
              "char         0\n",
              "word         0\n",
              "source       0\n",
              "author       0\n",
              "type         0\n",
              "dtype: int64"
            ]
          },
          "execution_count": 97,
          "metadata": {},
          "output_type": "execute_result"
        }
      ],
      "source": [
        "df.isnull().sum()"
      ]
    },
    {
      "attachments": {},
      "cell_type": "markdown",
      "metadata": {
        "id": "JfNJXqwPNwuA"
      },
      "source": [
        "### Label Distribution\n"
      ]
    },
    {
      "cell_type": "code",
      "execution_count": 98,
      "metadata": {
        "colab": {
          "base_uri": "https://localhost:8080/",
          "height": 428
        },
        "id": "vVDv0oFCJirq",
        "outputId": "1feaa423-e5e9-468e-e9a2-03654fb6964b"
      },
      "outputs": [
        {
          "data": {
            "image/png": "[encoded data removed]",
            "text/plain": [
              "<Figure size 640x480 with 1 Axes>"
            ]
          },
          "metadata": {},
          "output_type": "display_data"
        }
      ],
      "source": [
        "# Chart labels\n",
        "label_counts = [pos, neg, neutral]\n",
        "label_text = [\"Positive\", \"Negative\", \"Neutral\"]\n",
        "pct_format = lambda x: \"{:.2f}%\\n({:.0f})\".format(x, total*x/100)\n",
        "color = [\"#ccebc5\", \"#fbb4ae\", \"#f2f2f2\"]\n",
        "\n",
        "# Show pie chart\n",
        "plt.title(\"Label Distribution\")\n",
        "plt.pie(label_counts, labels=label_text, autopct=pct_format, colors=color)\n",
        "plt.show()"
      ]
    },
    {
      "attachments": {},
      "cell_type": "markdown",
      "metadata": {
        "id": "N5MGvSQRlbRp"
      },
      "source": [
        "## Data Cleaning\n"
      ]
    },
    {
      "attachments": {},
      "cell_type": "markdown",
      "metadata": {
        "id": "tVMjngeMle3p"
      },
      "source": [
        "### Helper functions\n"
      ]
    },
    {
      "attachments": {},
      "cell_type": "markdown",
      "metadata": {
        "id": "7sVrzkA-lwgB"
      },
      "source": [
        "Defining data cleaning procedure in functions to make experimenting easier\n"
      ]
    },
    {
      "cell_type": "code",
      "execution_count": 99,
      "metadata": {
        "id": "_zSjZwMW5jrM"
      },
      "outputs": [],
      "source": [
        "import requests\n",
        "import string\n",
        "import json\n",
        "\n",
        "# Split text\n",
        "def split_text(text):\n",
        "  return text.split()\n",
        "\n",
        "# Punctuation\n",
        "def remove_punctuation(text: str) -> str:\n",
        "  return text.translate(str.maketrans('', '', string.punctuation))\n",
        "\n",
        "# Lowercase\n",
        "def lowercase(text: str) -> str:\n",
        "  return text.lower()\n",
        "\n",
        "# Stopwords\n",
        "def get_stopwords() -> list[str]:\n",
        "  STOPWORD_SOURCES = [\n",
        "      \"https://raw.githubusercontent.com/louisowen6/NLP_bahasa_resources/master/combined_stop_words.txt\"\n",
        "  ]\n",
        "\n",
        "  stopwords = requests.get(STOPWORD_SOURCES[0]).text.split(\"\\r\\n\")\n",
        "  return stopwords\n",
        "\n",
        "def remove_stopwords(text_split: list[str], stopwords: list[str]) -> list[str]:\n",
        "  return [word for word in text_split if word not in stopwords]\n",
        "\n",
        "# Slangs\n",
        "def get_slangs() -> list[str]:\n",
        "  SLANG_SOURCES = [\n",
        "      \"https://raw.githubusercontent.com/louisowen6/NLP_bahasa_resources/master/combined_slang_words.txt\"\n",
        "  ]\n",
        "\n",
        "  slangs = requests.get(SLANG_SOURCES[0]).json() # Convert json format to dict\n",
        "  return slangs\n",
        "\n",
        "def remove_slangs(text_split: list[str], slangs) -> list[str]:\n",
        "  return [slangs.get(string, string) for string in text_split]"
      ]
    },
    {
      "cell_type": "code",
      "execution_count": 100,
      "metadata": {
        "colab": {
          "base_uri": "https://localhost:8080/",
          "height": 641
        },
        "id": "YEf9dzU65jrM",
        "outputId": "783210c4-046c-4729-cb07-b338c54170c9"
      },
      "outputs": [
        {
          "data": {
            "text/html": [
              "<div>\n",
              "<style scoped>\n",
              "    .dataframe tbody tr th:only-of-type {\n",
              "        vertical-align: middle;\n",
              "    }\n",
              "\n",
              "    .dataframe tbody tr th {\n",
              "        vertical-align: top;\n",
              "    }\n",
              "\n",
              "    .dataframe thead th {\n",
              "        text-align: right;\n",
              "    }\n",
              "</style>\n",
              "<table border=\"1\" class=\"dataframe\">\n",
              "  <thead>\n",
              "    <tr style=\"text-align: right;\">\n",
              "      <th></th>\n",
              "      <th>no</th>\n",
              "      <th>sentiment</th>\n",
              "      <th>Text</th>\n",
              "      <th>char</th>\n",
              "      <th>word</th>\n",
              "      <th>source</th>\n",
              "      <th>author</th>\n",
              "      <th>type</th>\n",
              "    </tr>\n",
              "  </thead>\n",
              "  <tbody>\n",
              "    <tr>\n",
              "      <th>0</th>\n",
              "      <td>1</td>\n",
              "      <td>Neutral</td>\n",
              "      <td>[kelihatan, video, kutu, bukukalau, salah, ung...</td>\n",
              "      <td>241</td>\n",
              "      <td>19</td>\n",
              "      <td>https://id.quora.com/Siapakah-Youtuber-yang-me...</td>\n",
              "      <td>Raditya Christoaji Ballandean Prabowo</td>\n",
              "      <td>post</td>\n",
              "    </tr>\n",
              "    <tr>\n",
              "      <th>1</th>\n",
              "      <td>2</td>\n",
              "      <td>Positive</td>\n",
              "      <td>[hampir, videoia, melakukannya, didepan, books...</td>\n",
              "      <td>291</td>\n",
              "      <td>21</td>\n",
              "      <td>https://id.quora.com/Siapakah-Youtuber-yang-me...</td>\n",
              "      <td>Raditya Christoaji Ballandean Prabowo</td>\n",
              "      <td>post</td>\n",
              "    </tr>\n",
              "    <tr>\n",
              "      <th>2</th>\n",
              "      <td>3</td>\n",
              "      <td>Neutral</td>\n",
              "      <td>[channel, usung, tema, pengelolaan, keuanganaw...</td>\n",
              "      <td>181</td>\n",
              "      <td>13</td>\n",
              "      <td>https://id.quora.com/Siapakah-Youtuber-yang-me...</td>\n",
              "      <td>Raditya Christoaji Ballandean Prabowo</td>\n",
              "      <td>post</td>\n",
              "    </tr>\n",
              "    <tr>\n",
              "      <th>3</th>\n",
              "      <td>4</td>\n",
              "      <td>Neutral</td>\n",
              "      <td>[ferry, irwandi, pns, lulusan, stan, memulai, ...</td>\n",
              "      <td>279</td>\n",
              "      <td>24</td>\n",
              "      <td>https://id.quora.com/Siapakah-Youtuber-yang-me...</td>\n",
              "      <td>Raditya Christoaji Ballandean Prabowo</td>\n",
              "      <td>post</td>\n",
              "    </tr>\n",
              "    <tr>\n",
              "      <th>4</th>\n",
              "      <td>5</td>\n",
              "      <td>Positive</td>\n",
              "      <td>[videovideo, mengulas, permasalah, topik, duni...</td>\n",
              "      <td>382</td>\n",
              "      <td>29</td>\n",
              "      <td>https://id.quora.com/Siapakah-Youtuber-yang-me...</td>\n",
              "      <td>Raditya Christoaji Ballandean Prabowo</td>\n",
              "      <td>post</td>\n",
              "    </tr>\n",
              "    <tr>\n",
              "      <th>...</th>\n",
              "      <td>...</td>\n",
              "      <td>...</td>\n",
              "      <td>...</td>\n",
              "      <td>...</td>\n",
              "      <td>...</td>\n",
              "      <td>...</td>\n",
              "      <td>...</td>\n",
              "      <td>...</td>\n",
              "    </tr>\n",
              "    <tr>\n",
              "      <th>200</th>\n",
              "      <td>201</td>\n",
              "      <td>Negative</td>\n",
              "      <td>[3, barangnya, kirim, bersamaan, chacha, 2, me...</td>\n",
              "      <td>285</td>\n",
              "      <td>18</td>\n",
              "      <td>https://id.quora.com/Pernahkah-kamu-membayar-s...</td>\n",
              "      <td>Hanny Zen</td>\n",
              "      <td>post</td>\n",
              "    </tr>\n",
              "    <tr>\n",
              "      <th>201</th>\n",
              "      <td>202</td>\n",
              "      <td>Positive</td>\n",
              "      <td>[anyway, alisa, suaminya, memention, akun, pri...</td>\n",
              "      <td>267</td>\n",
              "      <td>18</td>\n",
              "      <td>https://id.quora.com/Pernahkah-kamu-membayar-s...</td>\n",
              "      <td>Hanny Zen</td>\n",
              "      <td>post</td>\n",
              "    </tr>\n",
              "    <tr>\n",
              "      <th>202</th>\n",
              "      <td>203</td>\n",
              "      <td>Positive</td>\n",
              "      <td>[postingan, alisa, respon, karena, paska, alis...</td>\n",
              "      <td>219</td>\n",
              "      <td>19</td>\n",
              "      <td>https://id.quora.com/Pernahkah-kamu-membayar-s...</td>\n",
              "      <td>Hanny Zen</td>\n",
              "      <td>post</td>\n",
              "    </tr>\n",
              "    <tr>\n",
              "      <th>203</th>\n",
              "      <td>204</td>\n",
              "      <td>Positive</td>\n",
              "      <td>[wow, feedback, bagus, karena, alisa, suaminya...</td>\n",
              "      <td>154</td>\n",
              "      <td>11</td>\n",
              "      <td>https://id.quora.com/Pernahkah-kamu-membayar-s...</td>\n",
              "      <td>Hanny Zen</td>\n",
              "      <td>post</td>\n",
              "    </tr>\n",
              "    <tr>\n",
              "      <th>204</th>\n",
              "      <td>205</td>\n",
              "      <td>Negative</td>\n",
              "      <td>[iseng, iseng, memulai, bisnis, mengendorse, s...</td>\n",
              "      <td>219</td>\n",
              "      <td>13</td>\n",
              "      <td>https://id.quora.com/Pernahkah-kamu-membayar-s...</td>\n",
              "      <td>Hanny Zen</td>\n",
              "      <td>post</td>\n",
              "    </tr>\n",
              "  </tbody>\n",
              "</table>\n",
              "<p>205 rows × 8 columns</p>\n",
              "</div>"
            ],
            "text/plain": [
              "      no sentiment                                               Text  char   \n",
              "0      1   Neutral  [kelihatan, video, kutu, bukukalau, salah, ung...   241  \\\n",
              "1      2  Positive  [hampir, videoia, melakukannya, didepan, books...   291   \n",
              "2      3   Neutral  [channel, usung, tema, pengelolaan, keuanganaw...   181   \n",
              "3      4   Neutral  [ferry, irwandi, pns, lulusan, stan, memulai, ...   279   \n",
              "4      5  Positive  [videovideo, mengulas, permasalah, topik, duni...   382   \n",
              "..   ...       ...                                                ...   ...   \n",
              "200  201  Negative  [3, barangnya, kirim, bersamaan, chacha, 2, me...   285   \n",
              "201  202  Positive  [anyway, alisa, suaminya, memention, akun, pri...   267   \n",
              "202  203  Positive  [postingan, alisa, respon, karena, paska, alis...   219   \n",
              "203  204  Positive  [wow, feedback, bagus, karena, alisa, suaminya...   154   \n",
              "204  205  Negative  [iseng, iseng, memulai, bisnis, mengendorse, s...   219   \n",
              "\n",
              "     word                                             source   \n",
              "0      19  https://id.quora.com/Siapakah-Youtuber-yang-me...  \\\n",
              "1      21  https://id.quora.com/Siapakah-Youtuber-yang-me...   \n",
              "2      13  https://id.quora.com/Siapakah-Youtuber-yang-me...   \n",
              "3      24  https://id.quora.com/Siapakah-Youtuber-yang-me...   \n",
              "4      29  https://id.quora.com/Siapakah-Youtuber-yang-me...   \n",
              "..    ...                                                ...   \n",
              "200    18  https://id.quora.com/Pernahkah-kamu-membayar-s...   \n",
              "201    18  https://id.quora.com/Pernahkah-kamu-membayar-s...   \n",
              "202    19  https://id.quora.com/Pernahkah-kamu-membayar-s...   \n",
              "203    11  https://id.quora.com/Pernahkah-kamu-membayar-s...   \n",
              "204    13  https://id.quora.com/Pernahkah-kamu-membayar-s...   \n",
              "\n",
              "                                    author  type  \n",
              "0    Raditya Christoaji Ballandean Prabowo  post  \n",
              "1    Raditya Christoaji Ballandean Prabowo  post  \n",
              "2    Raditya Christoaji Ballandean Prabowo  post  \n",
              "3    Raditya Christoaji Ballandean Prabowo  post  \n",
              "4    Raditya Christoaji Ballandean Prabowo  post  \n",
              "..                                     ...   ...  \n",
              "200                              Hanny Zen  post  \n",
              "201                              Hanny Zen  post  \n",
              "202                              Hanny Zen  post  \n",
              "203                              Hanny Zen  post  \n",
              "204                              Hanny Zen  post  \n",
              "\n",
              "[205 rows x 8 columns]"
            ]
          },
          "execution_count": 100,
          "metadata": {},
          "output_type": "execute_result"
        }
      ],
      "source": [
        "df_cleaned = df.copy()\n",
        "stopwords = get_stopwords()\n",
        "slangs = get_slangs()\n",
        "\n",
        "# Basic cleaning\n",
        "df_cleaned['Text'] = df_cleaned['Text'].apply(lambda x: split_text(lowercase(remove_punctuation(x))))\n",
        "\n",
        "# Clean stopwords, slangs, etc\n",
        "df_cleaned['Text'] = df_cleaned['Text'].apply(lambda x: remove_stopwords(x, stopwords))\n",
        "df_cleaned['Text'] = df_cleaned['Text'].apply(lambda x: remove_slangs(x, slangs))\n",
        "df_cleaned['word'] = df_cleaned['Text'].apply(lambda x: len(x))\n",
        "\n",
        "df_cleaned"
      ]
    },
    {
      "cell_type": "code",
      "execution_count": 101,
      "metadata": {
        "colab": {
          "base_uri": "https://localhost:8080/"
        },
        "id": "Te-ovb5B8udY",
        "outputId": "03310f97-042a-4538-eac5-ee989dd15d19"
      },
      "outputs": [
        {
          "data": {
            "text/plain": [
              "3946"
            ]
          },
          "execution_count": 101,
          "metadata": {},
          "output_type": "execute_result"
        }
      ],
      "source": [
        "words = 0\n",
        "for i in range(len(df_cleaned)):\n",
        "  words += len(df_cleaned['Text'][i])\n",
        "\n",
        "words"
      ]
    },
    {
      "cell_type": "code",
      "execution_count": 102,
      "metadata": {
        "colab": {
          "base_uri": "https://localhost:8080/"
        },
        "id": "YTYoO3FrANzR",
        "outputId": "1660e486-460b-48bd-c1e9-36e603074e09"
      },
      "outputs": [
        {
          "data": {
            "text/plain": [
              "sentiment\n",
              "Positive    95\n",
              "Negative    93\n",
              "Neutral     17\n",
              "Name: count, dtype: int64"
            ]
          },
          "execution_count": 102,
          "metadata": {},
          "output_type": "execute_result"
        }
      ],
      "source": [
        "df_cleaned['sentiment'].value_counts()"
      ]
    },
    {
      "attachments": {},
      "cell_type": "markdown",
      "metadata": {
        "id": "Zeb_k88msBjY"
      },
      "source": [
        "## Removing Neutral Sentiment\n"
      ]
    },
    {
      "cell_type": "code",
      "execution_count": 103,
      "metadata": {
        "colab": {
          "base_uri": "https://localhost:8080/"
        },
        "id": "hB98O7rcSXPQ",
        "outputId": "3f07ac86-8acb-413e-9a61-75e979ddbf9e"
      },
      "outputs": [],
      "source": [
        "df_cleaned = df_cleaned[df_cleaned['sentiment'] != 'Neutral']\n",
        "df_cleaned['sentiment'] = df_cleaned['sentiment'].replace('Positive', 1)\n",
        "df_cleaned['sentiment'] = df_cleaned['sentiment'].replace('Negative', 0)\n",
        "df_cleaned = df_cleaned.astype({'Text': 'string'})"
      ]
    },
    {
      "cell_type": "code",
      "execution_count": 104,
      "metadata": {
        "colab": {
          "base_uri": "https://localhost:8080/"
        },
        "id": "zZ0ZmDfQAus6",
        "outputId": "29687723-104f-4937-da59-7efc0ce1ffb3"
      },
      "outputs": [
        {
          "name": "stdout",
          "output_type": "stream",
          "text": [
            "<class 'pandas.core.frame.DataFrame'>\n",
            "Index: 188 entries, 1 to 204\n",
            "Data columns (total 8 columns):\n",
            " #   Column     Non-Null Count  Dtype \n",
            "---  ------     --------------  ----- \n",
            " 0   no         188 non-null    int32 \n",
            " 1   sentiment  188 non-null    int64 \n",
            " 2   Text       188 non-null    string\n",
            " 3   char       188 non-null    int32 \n",
            " 4   word       188 non-null    int64 \n",
            " 5   source     188 non-null    object\n",
            " 6   author     188 non-null    object\n",
            " 7   type       188 non-null    object\n",
            "dtypes: int32(2), int64(2), object(3), string(1)\n",
            "memory usage: 11.8+ KB\n"
          ]
        }
      ],
      "source": [
        "df_cleaned.info()"
      ]
    },
    {
      "cell_type": "code",
      "execution_count": 105,
      "metadata": {
        "colab": {
          "base_uri": "https://localhost:8080/"
        },
        "id": "kDEnvVgcSz4Q",
        "outputId": "1a49b579-453f-41b3-b1e8-ab8df95d473e"
      },
      "outputs": [
        {
          "data": {
            "text/plain": [
              "sentiment\n",
              "1    95\n",
              "0    93\n",
              "Name: count, dtype: int64"
            ]
          },
          "execution_count": 105,
          "metadata": {},
          "output_type": "execute_result"
        }
      ],
      "source": [
        "df_cleaned['sentiment'].value_counts()"
      ]
    },
    {
      "attachments": {},
      "cell_type": "markdown",
      "metadata": {
        "id": "2VjOgrnNAUmW"
      },
      "source": [
        "## Model Selection\n"
      ]
    },
    {
      "cell_type": "code",
      "execution_count": 106,
      "metadata": {
        "colab": {
          "base_uri": "https://localhost:8080/"
        },
        "id": "eMWXV80iAyUe",
        "outputId": "2ec65d89-5f8a-4cc3-f38c-77fde02c4046"
      },
      "outputs": [
        {
          "name": "stdout",
          "output_type": "stream",
          "text": [
            "['10' '10000' '100jt' ... 'ytnya' 'yutuber' 'zb']\n"
          ]
        },
        {
          "data": {
            "text/plain": [
              "1861"
            ]
          },
          "execution_count": 106,
          "metadata": {},
          "output_type": "execute_result"
        }
      ],
      "source": [
        "\n",
        "corpus = [\n",
        "    \"This is an example\"\n",
        "]\n",
        "# Initialize the TfidfVectorizer\n",
        "tf = TfidfVectorizer()\n",
        "\n",
        "# Fit the vectorizer with the text data\n",
        "text_tf = tf.fit_transform(df_cleaned['Text'].astype('U'))\n",
        "\n",
        "# Retrieve the feature names\n",
        "feature_names = tf.get_feature_names_out()\n",
        "print(feature_names)\n",
        "len(feature_names)"
      ]
    },
    {
      "cell_type": "code",
      "execution_count": 107,
      "metadata": {
        "id": "I04LxmtBBKDE"
      },
      "outputs": [],
      "source": [
        "from sklearn.model_selection import train_test_split\n",
        "\n",
        "X_train, X_test, y_train, y_test = train_test_split(text_tf, df_cleaned['sentiment'], test_size=0.2, random_state=42)"
      ]
    },
    {
      "cell_type": "code",
      "execution_count": 108,
      "metadata": {
        "colab": {
          "base_uri": "https://localhost:8080/"
        },
        "id": "k3QxaxMpsZ71",
        "outputId": "a4710a30-e0ed-42bd-f835-cfc13743c492"
      },
      "outputs": [
        {
          "name": "stdout",
          "output_type": "stream",
          "text": [
            "Naive Bayes\n",
            " accuracy - 0.74 \n",
            " precision - 0.7827777777777778 \n",
            " recall - 0.6946428571428571 \n",
            " f1 - 0.7176864801864802 \n",
            "\n",
            "Logistic Regression\n",
            " accuracy - 0.74 \n",
            " precision - 0.7889285714285715 \n",
            " recall - 0.6803571428571428 \n",
            " f1 - 0.7149483849483849 \n",
            "\n",
            "Random Forest\n",
            " accuracy - 0.6333333333333332 \n",
            " precision - 0.763452380952381 \n",
            " recall - 0.43035714285714277 \n",
            " f1 - 0.5448107448107448 \n",
            "\n",
            "SVM\n",
            " accuracy - 0.7533333333333333 \n",
            " precision - 0.7831349206349207 \n",
            " recall - 0.7196428571428571 \n",
            " f1 - 0.7396978021978021 \n",
            "\n",
            "KNN\n",
            " accuracy - 0.6866666666666668 \n",
            " precision - 0.7189285714285714 \n",
            " recall - 0.6678571428571428 \n",
            " f1 - 0.6777005674064498 \n",
            "\n",
            "Extra Trees\n",
            " accuracy - 0.6733333333333332 \n",
            " precision - 0.8333333333333333 \n",
            " recall - 0.425 \n",
            " f1 - 0.5466305916305917 \n",
            "\n"
          ]
        }
      ],
      "source": [
        "models = [\n",
        "        MultinomialNB(),\n",
        "        LogisticRegression(),\n",
        "        RandomForestClassifier(n_estimators = 150),\n",
        "        SVC(kernel = 'linear'),\n",
        "        KNeighborsClassifier(n_neighbors = 5),\n",
        "        ExtraTreesClassifier(n_estimators=150, random_state=50)\n",
        "    ]\n",
        "names = [\"Naive Bayes\", \"Logistic Regression\", \"Random Forest\", \"SVM\", \"KNN\", \"Extra Trees\"]\n",
        "for model, name in zip(models, names):\n",
        "    print(name)\n",
        "    for score in [\"accuracy\", \"precision\", \"recall\", \"f1\"]:\n",
        "        print(f\" {score} - {cross_val_score(model, X_train, y_train, scoring=score, cv=10).mean()} \")\n",
        "    print()"
      ]
    },
    {
      "cell_type": "code",
      "execution_count": 109,
      "metadata": {
        "colab": {
          "base_uri": "https://localhost:8080/"
        },
        "id": "D4XeniDwBY2m",
        "outputId": "8b8b760e-3871-45f5-eff7-6fe317f74f4e"
      },
      "outputs": [
        {
          "name": "stdout",
          "output_type": "stream",
          "text": [
            "MultinomialNB Accuracy: 0.8157894736842105\n",
            "MultinomialNB Precision: 0.75\n",
            "MultinomialNB Recall: 0.8823529411764706\n",
            "MultinomialNB f1_score: 0.8108108108108107\n",
            "Confusion matrix:\n",
            "[[15  2]\n",
            " [ 5 16]]\n",
            "==================================================\n",
            "\n",
            "              precision    recall  f1-score   support\n",
            "\n",
            "           0       0.75      0.88      0.81        17\n",
            "           1       0.89      0.76      0.82        21\n",
            "\n",
            "    accuracy                           0.82        38\n",
            "   macro avg       0.82      0.82      0.82        38\n",
            "weighted avg       0.83      0.82      0.82        38\n",
            "\n"
          ]
        }
      ],
      "source": [
        "clf = MultinomialNB().fit(X_train, y_train)\n",
        "predicted = clf.predict(X_test)\n",
        "print(\"MultinomialNB Accuracy:\", accuracy_score(y_test, predicted))\n",
        "print(\"MultinomialNB Precision:\", precision_score(y_test, predicted, average='binary', pos_label=0))\n",
        "print(\"MultinomialNB Recall:\", recall_score(y_test, predicted, average='binary', pos_label=0))\n",
        "print(\"MultinomialNB f1_score:\", f1_score(y_test, predicted, average='binary', pos_label=0))\n",
        "\n",
        "print(f'Confusion matrix:\\n{confusion_matrix(y_test, predicted)}')\n",
        "print(\"==================================================\\n\")\n",
        "print(classification_report(y_test, predicted, zero_division=0))"
      ]
    },
    {
      "cell_type": "code",
      "execution_count": 110,
      "metadata": {
        "colab": {
          "base_uri": "https://localhost:8080/"
        },
        "id": "6Rx3nzXaTljE",
        "outputId": "c524babd-0088-4ca2-d33f-30c09c59b48e"
      },
      "outputs": [],
      "source": [
        "# Train the MultinomialNB classifier\n",
        "clf = MultinomialNB().fit(X_train, y_train)\n",
        "\n",
        "# Predict the probabilities for each class\n",
        "predicted_probabilities = clf.predict_proba(X_test)\n",
        "\n",
        "# Extract the probability of the positive class (assuming class 1 represents positive)\n",
        "predicted = predicted_probabilities[:, 1]"
      ]
    },
    {
      "cell_type": "code",
      "execution_count": 111,
      "metadata": {
        "id": "9ecDzJ97rl1t"
      },
      "outputs": [],
      "source": [
        "cv = CountVectorizer()\n",
        "X_cv = cv.fit_transform(df_cleaned['Text']) # Fit the Data\n",
        "y_cv = df_cleaned['sentiment']\n",
        "\n",
        "from sklearn.model_selection import train_test_split\n",
        "X_train_cv, X_test_cv, y_train_cv, y_test_cv = train_test_split(X_cv, y_cv, test_size=0.3, random_state=42)"
      ]
    },
    {
      "cell_type": "code",
      "execution_count": 112,
      "metadata": {},
      "outputs": [],
      "source": [
        "# Save the tf object\n",
        "with open('model/df_cleaned.pkl', 'wb') as file:\n",
        "    pickle.dump(df_cleaned['Text'], file)"
      ]
    },
    {
      "cell_type": "code",
      "execution_count": 113,
      "metadata": {
        "colab": {
          "base_uri": "https://localhost:8080/"
        },
        "id": "6wAl-FfyrxUm",
        "outputId": "b90f62ba-1acf-44f7-b176-208010688829"
      },
      "outputs": [
        {
          "data": {
            "text/html": [
              "<style>#sk-container-id-3 {color: black;background-color: white;}#sk-container-id-3 pre{padding: 0;}#sk-container-id-3 div.sk-toggleable {background-color: white;}#sk-container-id-3 label.sk-toggleable__label {cursor: pointer;display: block;width: 100%;margin-bottom: 0;padding: 0.3em;box-sizing: border-box;text-align: center;}#sk-container-id-3 label.sk-toggleable__label-arrow:before {content: \"▸\";float: left;margin-right: 0.25em;color: #696969;}#sk-container-id-3 label.sk-toggleable__label-arrow:hover:before {color: black;}#sk-container-id-3 div.sk-estimator:hover label.sk-toggleable__label-arrow:before {color: black;}#sk-container-id-3 div.sk-toggleable__content {max-height: 0;max-width: 0;overflow: hidden;text-align: left;background-color: #f0f8ff;}#sk-container-id-3 div.sk-toggleable__content pre {margin: 0.2em;color: black;border-radius: 0.25em;background-color: #f0f8ff;}#sk-container-id-3 input.sk-toggleable__control:checked~div.sk-toggleable__content {max-height: 200px;max-width: 100%;overflow: auto;}#sk-container-id-3 input.sk-toggleable__control:checked~label.sk-toggleable__label-arrow:before {content: \"▾\";}#sk-container-id-3 div.sk-estimator input.sk-toggleable__control:checked~label.sk-toggleable__label {background-color: #d4ebff;}#sk-container-id-3 div.sk-label input.sk-toggleable__control:checked~label.sk-toggleable__label {background-color: #d4ebff;}#sk-container-id-3 input.sk-hidden--visually {border: 0;clip: rect(1px 1px 1px 1px);clip: rect(1px, 1px, 1px, 1px);height: 1px;margin: -1px;overflow: hidden;padding: 0;position: absolute;width: 1px;}#sk-container-id-3 div.sk-estimator {font-family: monospace;background-color: #f0f8ff;border: 1px dotted black;border-radius: 0.25em;box-sizing: border-box;margin-bottom: 0.5em;}#sk-container-id-3 div.sk-estimator:hover {background-color: #d4ebff;}#sk-container-id-3 div.sk-parallel-item::after {content: \"\";width: 100%;border-bottom: 1px solid gray;flex-grow: 1;}#sk-container-id-3 div.sk-label:hover label.sk-toggleable__label {background-color: #d4ebff;}#sk-container-id-3 div.sk-serial::before {content: \"\";position: absolute;border-left: 1px solid gray;box-sizing: border-box;top: 0;bottom: 0;left: 50%;z-index: 0;}#sk-container-id-3 div.sk-serial {display: flex;flex-direction: column;align-items: center;background-color: white;padding-right: 0.2em;padding-left: 0.2em;position: relative;}#sk-container-id-3 div.sk-item {position: relative;z-index: 1;}#sk-container-id-3 div.sk-parallel {display: flex;align-items: stretch;justify-content: center;background-color: white;position: relative;}#sk-container-id-3 div.sk-item::before, #sk-container-id-3 div.sk-parallel-item::before {content: \"\";position: absolute;border-left: 1px solid gray;box-sizing: border-box;top: 0;bottom: 0;left: 50%;z-index: -1;}#sk-container-id-3 div.sk-parallel-item {display: flex;flex-direction: column;z-index: 1;position: relative;background-color: white;}#sk-container-id-3 div.sk-parallel-item:first-child::after {align-self: flex-end;width: 50%;}#sk-container-id-3 div.sk-parallel-item:last-child::after {align-self: flex-start;width: 50%;}#sk-container-id-3 div.sk-parallel-item:only-child::after {width: 0;}#sk-container-id-3 div.sk-dashed-wrapped {border: 1px dashed gray;margin: 0 0.4em 0.5em 0.4em;box-sizing: border-box;padding-bottom: 0.4em;background-color: white;}#sk-container-id-3 div.sk-label label {font-family: monospace;font-weight: bold;display: inline-block;line-height: 1.2em;}#sk-container-id-3 div.sk-label-container {text-align: center;}#sk-container-id-3 div.sk-container {/* jupyter's `normalize.less` sets `[hidden] { display: none; }` but bootstrap.min.css set `[hidden] { display: none !important; }` so we also need the `!important` here to be able to override the default hidden behavior on the sphinx rendered scikit-learn.org. See: https://github.com/scikit-learn/scikit-learn/issues/21755 */display: inline-block !important;position: relative;}#sk-container-id-3 div.sk-text-repr-fallback {display: none;}</style><div id=\"sk-container-id-3\" class=\"sk-top-container\"><div class=\"sk-text-repr-fallback\"><pre>MultinomialNB()</pre><b>In a Jupyter environment, please rerun this cell to show the HTML representation or trust the notebook. <br />On GitHub, the HTML representation is unable to render, please try loading this page with nbviewer.org.</b></div><div class=\"sk-container\" hidden><div class=\"sk-item\"><div class=\"sk-estimator sk-toggleable\"><input class=\"sk-toggleable__control sk-hidden--visually\" id=\"sk-estimator-id-3\" type=\"checkbox\" checked><label for=\"sk-estimator-id-3\" class=\"sk-toggleable__label sk-toggleable__label-arrow\">MultinomialNB</label><div class=\"sk-toggleable__content\"><pre>MultinomialNB()</pre></div></div></div></div></div>"
            ],
            "text/plain": [
              "MultinomialNB()"
            ]
          },
          "execution_count": 113,
          "metadata": {},
          "output_type": "execute_result"
        }
      ],
      "source": [
        "clf = MultinomialNB()\n",
        "\n",
        "clf.fit(X_train_cv, y_train_cv)"
      ]
    },
    {
      "cell_type": "code",
      "execution_count": 114,
      "metadata": {
        "colab": {
          "base_uri": "https://localhost:8080/"
        },
        "id": "o5BUOWj5rzeu",
        "outputId": "6f67d2f3-be5c-47a6-e69b-4263ba28b663"
      },
      "outputs": [
        {
          "data": {
            "text/plain": [
              "array([[0, 0, 0, ..., 0, 0, 0]], dtype=int64)"
            ]
          },
          "execution_count": 114,
          "metadata": {},
          "output_type": "execute_result"
        }
      ],
      "source": [
        "data = [\"bagus banget\"]\n",
        "vect = cv.transform(data).toarray()\n",
        "\n",
        "my_prediction = clf.predict_proba(vect)\n",
        "vect"
      ]
    },
    {
      "cell_type": "code",
      "execution_count": 115,
      "metadata": {},
      "outputs": [
        {
          "name": "stdout",
          "output_type": "stream",
          "text": [
            "[0.65466297]\n"
          ]
        }
      ],
      "source": [
        "print(my_prediction[:, 1])"
      ]
    },
    {
      "cell_type": "code",
      "execution_count": 116,
      "metadata": {
        "colab": {
          "base_uri": "https://localhost:8080/",
          "height": 1000
        },
        "id": "3wx0l53YCV4K",
        "outputId": "e20fbacf-be70-4f52-d554-7434be811cdf"
      },
      "outputs": [
        {
          "data": {
            "text/html": [
              "<div>\n",
              "<style scoped>\n",
              "    .dataframe tbody tr th:only-of-type {\n",
              "        vertical-align: middle;\n",
              "    }\n",
              "\n",
              "    .dataframe tbody tr th {\n",
              "        vertical-align: top;\n",
              "    }\n",
              "\n",
              "    .dataframe thead th {\n",
              "        text-align: right;\n",
              "    }\n",
              "</style>\n",
              "<table border=\"1\" class=\"dataframe\">\n",
              "  <thead>\n",
              "    <tr style=\"text-align: right;\">\n",
              "      <th></th>\n",
              "      <th>sentiment</th>\n",
              "      <th>predicted</th>\n",
              "    </tr>\n",
              "  </thead>\n",
              "  <tbody>\n",
              "    <tr>\n",
              "      <th>0</th>\n",
              "      <td>0</td>\n",
              "      <td>0.632909</td>\n",
              "    </tr>\n",
              "    <tr>\n",
              "      <th>1</th>\n",
              "      <td>1</td>\n",
              "      <td>0.437734</td>\n",
              "    </tr>\n",
              "    <tr>\n",
              "      <th>2</th>\n",
              "      <td>1</td>\n",
              "      <td>0.515584</td>\n",
              "    </tr>\n",
              "    <tr>\n",
              "      <th>3</th>\n",
              "      <td>1</td>\n",
              "      <td>0.563032</td>\n",
              "    </tr>\n",
              "    <tr>\n",
              "      <th>4</th>\n",
              "      <td>1</td>\n",
              "      <td>0.542254</td>\n",
              "    </tr>\n",
              "    <tr>\n",
              "      <th>5</th>\n",
              "      <td>0</td>\n",
              "      <td>0.417317</td>\n",
              "    </tr>\n",
              "    <tr>\n",
              "      <th>6</th>\n",
              "      <td>0</td>\n",
              "      <td>0.378538</td>\n",
              "    </tr>\n",
              "    <tr>\n",
              "      <th>7</th>\n",
              "      <td>0</td>\n",
              "      <td>0.287829</td>\n",
              "    </tr>\n",
              "    <tr>\n",
              "      <th>8</th>\n",
              "      <td>1</td>\n",
              "      <td>0.636420</td>\n",
              "    </tr>\n",
              "    <tr>\n",
              "      <th>9</th>\n",
              "      <td>0</td>\n",
              "      <td>0.477326</td>\n",
              "    </tr>\n",
              "    <tr>\n",
              "      <th>10</th>\n",
              "      <td>0</td>\n",
              "      <td>0.428614</td>\n",
              "    </tr>\n",
              "    <tr>\n",
              "      <th>11</th>\n",
              "      <td>0</td>\n",
              "      <td>0.377667</td>\n",
              "    </tr>\n",
              "    <tr>\n",
              "      <th>12</th>\n",
              "      <td>1</td>\n",
              "      <td>0.525586</td>\n",
              "    </tr>\n",
              "    <tr>\n",
              "      <th>13</th>\n",
              "      <td>1</td>\n",
              "      <td>0.610647</td>\n",
              "    </tr>\n",
              "    <tr>\n",
              "      <th>14</th>\n",
              "      <td>0</td>\n",
              "      <td>0.455971</td>\n",
              "    </tr>\n",
              "    <tr>\n",
              "      <th>15</th>\n",
              "      <td>1</td>\n",
              "      <td>0.485375</td>\n",
              "    </tr>\n",
              "    <tr>\n",
              "      <th>16</th>\n",
              "      <td>0</td>\n",
              "      <td>0.465135</td>\n",
              "    </tr>\n",
              "    <tr>\n",
              "      <th>17</th>\n",
              "      <td>1</td>\n",
              "      <td>0.514683</td>\n",
              "    </tr>\n",
              "    <tr>\n",
              "      <th>18</th>\n",
              "      <td>1</td>\n",
              "      <td>0.607429</td>\n",
              "    </tr>\n",
              "    <tr>\n",
              "      <th>19</th>\n",
              "      <td>1</td>\n",
              "      <td>0.483616</td>\n",
              "    </tr>\n",
              "    <tr>\n",
              "      <th>20</th>\n",
              "      <td>0</td>\n",
              "      <td>0.326804</td>\n",
              "    </tr>\n",
              "    <tr>\n",
              "      <th>21</th>\n",
              "      <td>1</td>\n",
              "      <td>0.524284</td>\n",
              "    </tr>\n",
              "    <tr>\n",
              "      <th>22</th>\n",
              "      <td>1</td>\n",
              "      <td>0.475067</td>\n",
              "    </tr>\n",
              "    <tr>\n",
              "      <th>23</th>\n",
              "      <td>1</td>\n",
              "      <td>0.557256</td>\n",
              "    </tr>\n",
              "    <tr>\n",
              "      <th>24</th>\n",
              "      <td>0</td>\n",
              "      <td>0.223908</td>\n",
              "    </tr>\n",
              "    <tr>\n",
              "      <th>25</th>\n",
              "      <td>0</td>\n",
              "      <td>0.336967</td>\n",
              "    </tr>\n",
              "    <tr>\n",
              "      <th>26</th>\n",
              "      <td>1</td>\n",
              "      <td>0.548803</td>\n",
              "    </tr>\n",
              "    <tr>\n",
              "      <th>27</th>\n",
              "      <td>0</td>\n",
              "      <td>0.502456</td>\n",
              "    </tr>\n",
              "    <tr>\n",
              "      <th>28</th>\n",
              "      <td>1</td>\n",
              "      <td>0.608902</td>\n",
              "    </tr>\n",
              "    <tr>\n",
              "      <th>29</th>\n",
              "      <td>1</td>\n",
              "      <td>0.719903</td>\n",
              "    </tr>\n",
              "    <tr>\n",
              "      <th>30</th>\n",
              "      <td>1</td>\n",
              "      <td>0.542288</td>\n",
              "    </tr>\n",
              "    <tr>\n",
              "      <th>31</th>\n",
              "      <td>1</td>\n",
              "      <td>0.584885</td>\n",
              "    </tr>\n",
              "    <tr>\n",
              "      <th>32</th>\n",
              "      <td>0</td>\n",
              "      <td>0.439908</td>\n",
              "    </tr>\n",
              "    <tr>\n",
              "      <th>33</th>\n",
              "      <td>0</td>\n",
              "      <td>0.437120</td>\n",
              "    </tr>\n",
              "    <tr>\n",
              "      <th>34</th>\n",
              "      <td>1</td>\n",
              "      <td>0.379030</td>\n",
              "    </tr>\n",
              "    <tr>\n",
              "      <th>35</th>\n",
              "      <td>0</td>\n",
              "      <td>0.394206</td>\n",
              "    </tr>\n",
              "    <tr>\n",
              "      <th>36</th>\n",
              "      <td>1</td>\n",
              "      <td>0.523547</td>\n",
              "    </tr>\n",
              "    <tr>\n",
              "      <th>37</th>\n",
              "      <td>0</td>\n",
              "      <td>0.415158</td>\n",
              "    </tr>\n",
              "  </tbody>\n",
              "</table>\n",
              "</div>"
            ],
            "text/plain": [
              "    sentiment  predicted\n",
              "0           0   0.632909\n",
              "1           1   0.437734\n",
              "2           1   0.515584\n",
              "3           1   0.563032\n",
              "4           1   0.542254\n",
              "5           0   0.417317\n",
              "6           0   0.378538\n",
              "7           0   0.287829\n",
              "8           1   0.636420\n",
              "9           0   0.477326\n",
              "10          0   0.428614\n",
              "11          0   0.377667\n",
              "12          1   0.525586\n",
              "13          1   0.610647\n",
              "14          0   0.455971\n",
              "15          1   0.485375\n",
              "16          0   0.465135\n",
              "17          1   0.514683\n",
              "18          1   0.607429\n",
              "19          1   0.483616\n",
              "20          0   0.326804\n",
              "21          1   0.524284\n",
              "22          1   0.475067\n",
              "23          1   0.557256\n",
              "24          0   0.223908\n",
              "25          0   0.336967\n",
              "26          1   0.548803\n",
              "27          0   0.502456\n",
              "28          1   0.608902\n",
              "29          1   0.719903\n",
              "30          1   0.542288\n",
              "31          1   0.584885\n",
              "32          0   0.439908\n",
              "33          0   0.437120\n",
              "34          1   0.379030\n",
              "35          0   0.394206\n",
              "36          1   0.523547\n",
              "37          0   0.415158"
            ]
          },
          "execution_count": 116,
          "metadata": {},
          "output_type": "execute_result"
        }
      ],
      "source": [
        "predicted_df = pd.DataFrame(predicted, columns=['predicted'])\n",
        "\n",
        "y_test.reset_index(drop=True, inplace=True)\n",
        "predicted_df.reset_index(drop=True, inplace=True)\n",
        "\n",
        "concatenated_df = pd.concat([y_test, predicted_df], axis=1)\n",
        "\n",
        "concatenated_df"
      ]
    },
    {
      "cell_type": "code",
      "execution_count": 117,
      "metadata": {},
      "outputs": [],
      "source": [
        "with open('model/sentiment_model.pkl','wb') as f:\n",
        "    pickle.dump(clf, f)"
      ]
    }
  ],
  "metadata": {
    "colab": {
      "include_colab_link": true,
      "provenance": []
    },
    "kernelspec": {
      "display_name": "Python 3",
      "name": "python3"
    },
    "language_info": {
      "codemirror_mode": {
        "name": "ipython",
        "version": 3
      },
      "file_extension": ".py",
      "mimetype": "text/x-python",
      "name": "python",
      "nbconvert_exporter": "python",
      "pygments_lexer": "ipython3",
      "version": "3.11.1"
    }
  },
  "nbformat": 4,
  "nbformat_minor": 0
}
