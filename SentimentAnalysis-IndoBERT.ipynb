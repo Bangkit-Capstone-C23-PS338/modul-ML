{
 "cells": [
  {
   "cell_type": "code",
   "execution_count": 1,
   "metadata": {},
   "outputs": [],
   "source": [
    "import numpy as np\n",
    "import pandas as pd\n",
    "from random import shuffle\n",
    "import matplotlib.pyplot as plt"
   ]
  },
  {
   "cell_type": "code",
   "execution_count": 2,
   "metadata": {},
   "outputs": [
    {
     "name": "stderr",
     "output_type": "stream",
     "text": [
      "c:\\Users\\Fikri\\AppData\\Local\\Programs\\Python\\Python311\\Lib\\site-packages\\tqdm\\auto.py:21: TqdmWarning: IProgress not found. Please update jupyter and ipywidgets. See https://ipywidgets.readthedocs.io/en/stable/user_install.html\n",
      "  from .autonotebook import tqdm as notebook_tqdm\n"
     ]
    }
   ],
   "source": [
    "import tensorflow as tf\n",
    "from transformers import BertTokenizer, TFBertForSequenceClassification\n",
    "\n",
    "# Prepare the data\n",
    "tokenizer = BertTokenizer.from_pretrained('indobenchmark/indobert-base-p1')\n",
    "\n",
    "# Load and preprocess your sentiment analysis dataset\n",
    "# Replace 'your_dataset_file.txt' with the path to your dataset file\n",
    "\n",
    "texts_train = []  # List of training texts\n",
    "labels_train = []  # List of training labels\n",
    "texts_val = []  # List of validatiowiedni[efnoiaeswio0fjngteawasedfg] texts\n",
    "labels_val = []  # List of validation labels\n",
    "\n",
    "# Read the dataset file and extract texts and labels\n",
    "with open('data/Data clear.csv', 'r', encoding='utf-8') as file:\n",
    "    for line in file:\n",
    "        if len(line.strip().split(';')) == 2:\n",
    "            text, label = line.strip().split(';')\n",
    "            try:\n",
    "                texts_train.append(text)\n",
    "                labels_train.append(int(label))\n",
    "            except ValueError:\n",
    "                continue  # Skip samples with invalid labels"
   ]
  },
  {
   "cell_type": "code",
   "execution_count": 3,
   "metadata": {},
   "outputs": [
    {
     "data": {
      "text/plain": [
       "1060"
      ]
     },
     "execution_count": 3,
     "metadata": {},
     "output_type": "execute_result"
    }
   ],
   "source": [
    "len(texts_train)"
   ]
  },
  {
   "cell_type": "code",
   "execution_count": 4,
   "metadata": {},
   "outputs": [],
   "source": [
    "# Split the data into training and validation sets\n",
    "split_ratio = 0.8  # Adjust the split ratio as needed\n",
    "split_index = int(len(texts_train) * split_ratio)"
   ]
  },
  {
   "cell_type": "code",
   "execution_count": 5,
   "metadata": {},
   "outputs": [],
   "source": [
    "texts_val = texts_train[split_index:]\n",
    "labels_val = labels_train[split_index:]\n",
    "texts_train = texts_train[:split_index]\n",
    "labels_train = labels_train[:split_index]"
   ]
  },
  {
   "cell_type": "code",
   "execution_count": 6,
   "metadata": {},
   "outputs": [
    {
     "data": {
      "text/plain": [
       "848"
      ]
     },
     "execution_count": 6,
     "metadata": {},
     "output_type": "execute_result"
    }
   ],
   "source": [
    "len(texts_train)"
   ]
  },
  {
   "cell_type": "code",
   "execution_count": 7,
   "metadata": {},
   "outputs": [],
   "source": [
    "# Tokenize the training texts and convert them into input features suitable for BERT\n",
    "tokenizer = BertTokenizer.from_pretrained('indobenchmark/indobert-base-p1')\n",
    "\n",
    "input_ids_train = []\n",
    "attention_mask_train = []\n",
    "\n",
    "# Tokenize and encode each training text\n",
    "for text in texts_train:\n",
    "    encoding = tokenizer.encode_plus(\n",
    "        text,\n",
    "        add_special_tokens=True,\n",
    "        max_length=128,\n",
    "        padding='max_length',\n",
    "        truncation=True,\n",
    "        return_tensors='tf'\n",
    "    )\n",
    "    input_ids_train.append(encoding['input_ids'][0])\n",
    "    attention_mask_train.append(encoding['attention_mask'][0])\n",
    "\n",
    "# Convert the lists to TensorFlow tensors\n",
    "input_ids_train = tf.convert_to_tensor(input_ids_train)\n",
    "attention_mask_train = tf.convert_to_tensor(attention_mask_train)\n",
    "labels_train = tf.convert_to_tensor(labels_train)\n",
    "\n",
    "# Tokenize the validation texts and convert them into input features suitable for BERT\n",
    "input_ids_val = []\n",
    "attention_mask_val = []\n",
    "\n",
    "# Tokenize and encode each validation text\n",
    "for text in texts_val:\n",
    "    encoding = tokenizer.encode_plus(\n",
    "        text,\n",
    "        add_special_tokens=True,\n",
    "        max_length=128,\n",
    "        padding='max_length',\n",
    "        truncation=True,\n",
    "        return_tensors='tf'\n",
    "    )\n",
    "    input_ids_val.append(encoding['input_ids'][0])\n",
    "    attention_mask_val.append(encoding['attention_mask'][0])\n",
    "\n",
    "# Convert the lists to TensorFlow tensors\n",
    "input_ids_val = tf.convert_to_tensor(input_ids_val)\n",
    "attention_mask_val = tf.convert_to_tensor(attention_mask_val)\n",
    "labels_val = tf.convert_to_tensor(labels_val)"
   ]
  },
  {
   "cell_type": "code",
   "execution_count": 141,
   "metadata": {},
   "outputs": [],
   "source": [
    "# # Tokenize the texts and convert them into input features suitable for BERT\n",
    "# tokenized_inputs_train = tokenizer.batch_encode_plus(\n",
    "#     texts_train,\n",
    "#     padding=True,\n",
    "#     truncation=True,\n",
    "#     max_length=128,\n",
    "#     return_tensors='tf'\n",
    "# )\n",
    "\n",
    "# tokenized_inputs_val = tokenizer.batch_encode_plus(\n",
    "#     texts_val,\n",
    "#     padding=True,\n",
    "#     truncation=True,\n",
    "#     max_length=128,\n",
    "#     return_tensors='tf'\n",
    "# )\n",
    "\n",
    "# input_ids_train = tokenized_inputs_train['input_ids']\n",
    "# attention_mask_train = tokenized_inputs_train['attention_mask']\n",
    "# input_ids_val = tokenized_inputs_val['input_ids']\n",
    "# attention_mask_val = tokenized_inputs_val['attention_mask']\n"
   ]
  },
  {
   "cell_type": "code",
   "execution_count": 142,
   "metadata": {},
   "outputs": [],
   "source": [
    "# # Convert the labels to TensorFlow tensors\n",
    "# labels_train = tf.convert_to_tensor(labels_train)\n",
    "# labels_val = tf.convert_to_tensor(labels_val)"
   ]
  },
  {
   "cell_type": "code",
   "execution_count": 143,
   "metadata": {},
   "outputs": [
    {
     "name": "stderr",
     "output_type": "stream",
     "text": [
      "All model checkpoint layers were used when initializing TFBertForSequenceClassification.\n",
      "\n",
      "Some layers of TFBertForSequenceClassification were not initialized from the model checkpoint at indobenchmark/indobert-base-p1 and are newly initialized: ['classifier']\n",
      "You should probably TRAIN this model on a down-stream task to be able to use it for predictions and inference.\n"
     ]
    },
    {
     "name": "stdout",
     "output_type": "stream",
     "text": [
      "2/2 [==============================] - 13s 539ms/step\n"
     ]
    },
    {
     "name": "stderr",
     "output_type": "stream",
     "text": [
      "All model checkpoint layers were used when initializing TFBertForSequenceClassification.\n",
      "\n",
      "Some layers of TFBertForSequenceClassification were not initialized from the model checkpoint at indobenchmark/indobert-base-p1 and are newly initialized: ['classifier']\n",
      "You should probably TRAIN this model on a down-stream task to be able to use it for predictions and inference.\n"
     ]
    },
    {
     "name": "stdout",
     "output_type": "stream",
     "text": [
      "2/2 [==============================] - 13s 450ms/step\n"
     ]
    },
    {
     "name": "stderr",
     "output_type": "stream",
     "text": [
      "All model checkpoint layers were used when initializing TFBertForSequenceClassification.\n",
      "\n",
      "Some layers of TFBertForSequenceClassification were not initialized from the model checkpoint at indobenchmark/indobert-base-p1 and are newly initialized: ['classifier']\n",
      "You should probably TRAIN this model on a down-stream task to be able to use it for predictions and inference.\n"
     ]
    },
    {
     "name": "stdout",
     "output_type": "stream",
     "text": [
      "2/2 [==============================] - 15s 865ms/step\n"
     ]
    },
    {
     "name": "stderr",
     "output_type": "stream",
     "text": [
      "All model checkpoint layers were used when initializing TFBertForSequenceClassification.\n",
      "\n",
      "Some layers of TFBertForSequenceClassification were not initialized from the model checkpoint at indobenchmark/indobert-base-p1 and are newly initialized: ['classifier']\n",
      "You should probably TRAIN this model on a down-stream task to be able to use it for predictions and inference.\n"
     ]
    },
    {
     "name": "stdout",
     "output_type": "stream",
     "text": [
      "2/2 [==============================] - 16s 753ms/step\n"
     ]
    },
    {
     "name": "stderr",
     "output_type": "stream",
     "text": [
      "All model checkpoint layers were used when initializing TFBertForSequenceClassification.\n",
      "\n",
      "Some layers of TFBertForSequenceClassification were not initialized from the model checkpoint at indobenchmark/indobert-base-p1 and are newly initialized: ['classifier']\n",
      "You should probably TRAIN this model on a down-stream task to be able to use it for predictions and inference.\n"
     ]
    },
    {
     "name": "stdout",
     "output_type": "stream",
     "text": [
      "2/2 [==============================] - 14s 687ms/step\n"
     ]
    },
    {
     "name": "stderr",
     "output_type": "stream",
     "text": [
      "All model checkpoint layers were used when initializing TFBertForSequenceClassification.\n",
      "\n",
      "Some layers of TFBertForSequenceClassification were not initialized from the model checkpoint at indobenchmark/indobert-base-p1 and are newly initialized: ['classifier']\n",
      "You should probably TRAIN this model on a down-stream task to be able to use it for predictions and inference.\n"
     ]
    },
    {
     "name": "stdout",
     "output_type": "stream",
     "text": [
      "2/2 [==============================] - 17s 809ms/step\n"
     ]
    },
    {
     "name": "stderr",
     "output_type": "stream",
     "text": [
      "All model checkpoint layers were used when initializing TFBertForSequenceClassification.\n",
      "\n",
      "Some layers of TFBertForSequenceClassification were not initialized from the model checkpoint at indobenchmark/indobert-base-p1 and are newly initialized: ['classifier']\n",
      "You should probably TRAIN this model on a down-stream task to be able to use it for predictions and inference.\n"
     ]
    },
    {
     "name": "stdout",
     "output_type": "stream",
     "text": [
      "2/2 [==============================] - 19s 1s/step\n"
     ]
    },
    {
     "name": "stderr",
     "output_type": "stream",
     "text": [
      "All model checkpoint layers were used when initializing TFBertForSequenceClassification.\n",
      "\n",
      "Some layers of TFBertForSequenceClassification were not initialized from the model checkpoint at indobenchmark/indobert-base-p1 and are newly initialized: ['classifier']\n",
      "You should probably TRAIN this model on a down-stream task to be able to use it for predictions and inference.\n"
     ]
    },
    {
     "name": "stdout",
     "output_type": "stream",
     "text": [
      "2/2 [==============================] - 111s 5s/step\n"
     ]
    },
    {
     "name": "stderr",
     "output_type": "stream",
     "text": [
      "All model checkpoint layers were used when initializing TFBertForSequenceClassification.\n",
      "\n",
      "Some layers of TFBertForSequenceClassification were not initialized from the model checkpoint at indobenchmark/indobert-base-p1 and are newly initialized: ['classifier']\n",
      "You should probably TRAIN this model on a down-stream task to be able to use it for predictions and inference.\n"
     ]
    },
    {
     "name": "stdout",
     "output_type": "stream",
     "text": [
      "2/2 [==============================] - 157s 6s/step\n"
     ]
    },
    {
     "name": "stderr",
     "output_type": "stream",
     "text": [
      "All model checkpoint layers were used when initializing TFBertForSequenceClassification.\n",
      "\n",
      "Some layers of TFBertForSequenceClassification were not initialized from the model checkpoint at indobenchmark/indobert-base-p1 and are newly initialized: ['classifier']\n",
      "You should probably TRAIN this model on a down-stream task to be able to use it for predictions and inference.\n"
     ]
    },
    {
     "name": "stdout",
     "output_type": "stream",
     "text": [
      "2/2 [==============================] - 17s 869ms/step\n"
     ]
    },
    {
     "name": "stderr",
     "output_type": "stream",
     "text": [
      "All model checkpoint layers were used when initializing TFBertForSequenceClassification.\n",
      "\n",
      "Some layers of TFBertForSequenceClassification were not initialized from the model checkpoint at indobenchmark/indobert-base-p1 and are newly initialized: ['classifier']\n",
      "You should probably TRAIN this model on a down-stream task to be able to use it for predictions and inference.\n"
     ]
    },
    {
     "name": "stdout",
     "output_type": "stream",
     "text": [
      "2/2 [==============================] - 15s 688ms/step\n"
     ]
    },
    {
     "name": "stderr",
     "output_type": "stream",
     "text": [
      "All model checkpoint layers were used when initializing TFBertForSequenceClassification.\n",
      "\n",
      "Some layers of TFBertForSequenceClassification were not initialized from the model checkpoint at indobenchmark/indobert-base-p1 and are newly initialized: ['classifier']\n",
      "You should probably TRAIN this model on a down-stream task to be able to use it for predictions and inference.\n"
     ]
    },
    {
     "name": "stdout",
     "output_type": "stream",
     "text": [
      "2/2 [==============================] - 15s 1s/step\n",
      "Best Hyperparameters: {'learning_rate': 1e-05, 'batch_size': 16, 'num_epochs': 3}\n",
      "Best Accuracy: 1.0\n"
     ]
    }
   ],
   "source": [
    "import tensorflow as tf\n",
    "from transformers import BertTokenizer, TFBertForSequenceClassification\n",
    "from sklearn.metrics import accuracy_score\n",
    "from itertools import product\n",
    "\n",
    "# Define the hyperparameters to search\n",
    "learning_rates = [1e-5, 2e-5, 3e-5]\n",
    "batch_sizes = [16, 32]\n",
    "num_epochs = [3, 5]\n",
    "\n",
    "best_accuracy = 0.0\n",
    "best_hyperparameters = {}\n",
    "\n",
    "# Perform grid search\n",
    "for learning_rate, batch_size, num_epochs in product(learning_rates, batch_sizes, num_epochs):\n",
    "    # Define the model\n",
    "    model = TFBertForSequenceClassification.from_pretrained('indobenchmark/indobert-base-p1', num_labels=2)\n",
    "\n",
    "    # Modify the output layer\n",
    "    model.layers[-1].activation = tf.keras.activations.sigmoid\n",
    "\n",
    "    # Compile the model\n",
    "    model.compile(\n",
    "        optimizer=tf.keras.optimizers.Adam(learning_rate=learning_rate),\n",
    "        loss=tf.keras.losses.SparseCategoricalCrossentropy(from_logits=False),\n",
    "        metrics=['accuracy']\n",
    "    )\n",
    "\n",
    "    # Train the model\n",
    "    model.fit(\n",
    "        [input_ids_train, attention_mask_train],\n",
    "        labels_train,\n",
    "        batch_size=batch_size,\n",
    "        epochs=num_epochs,\n",
    "        validation_data=([input_ids_val, attention_mask_val], labels_val),\n",
    "        verbose=0\n",
    "    )\n",
    "\n",
    "    # Evaluate the model on validation data\n",
    "    y_pred_val = model.predict([input_ids_val, attention_mask_val])\n",
    "    y_pred_val = tf.argmax(y_pred_val.logits, axis=1)\n",
    "    accuracy = accuracy_score(labels_val, y_pred_val)\n",
    "\n",
    "    # Check if this model has the best accuracy so far\n",
    "    if accuracy > best_accuracy:\n",
    "        best_accuracy = accuracy\n",
    "        best_hyperparameters = {\n",
    "            'learning_rate': learning_rate,\n",
    "            'batch_size': batch_size,\n",
    "            'num_epochs': num_epochs\n",
    "        }\n",
    "\n",
    "# Print the best hyperparameters and accuracy\n",
    "print(\"Best Hyperparameters:\", best_hyperparameters)\n",
    "print(\"Best Accuracy:\", best_accuracy)"
   ]
  },
  {
   "cell_type": "code",
   "execution_count": 8,
   "metadata": {},
   "outputs": [
    {
     "name": "stderr",
     "output_type": "stream",
     "text": [
      "All model checkpoint layers were used when initializing TFBertForSequenceClassification.\n",
      "\n",
      "Some layers of TFBertForSequenceClassification were not initialized from the model checkpoint at indobenchmark/indobert-base-p1 and are newly initialized: ['classifier']\n",
      "You should probably TRAIN this model on a down-stream task to be able to use it for predictions and inference.\n"
     ]
    },
    {
     "name": "stdout",
     "output_type": "stream",
     "text": [
      "Epoch 1/3\n",
      "53/53 [==============================] - 780s 14s/step - loss: 0.4693 - binary_accuracy: 0.7836 - val_loss: 0.2799 - val_binary_accuracy: 0.9151\n",
      "Epoch 2/3\n",
      "53/53 [==============================] - 753s 14s/step - loss: 0.1227 - binary_accuracy: 0.9652 - val_loss: 0.2934 - val_binary_accuracy: 0.9057\n",
      "Epoch 3/3\n",
      "53/53 [==============================] - 682s 13s/step - loss: 0.0501 - binary_accuracy: 0.9894 - val_loss: 0.2826 - val_binary_accuracy: 0.9009\n"
     ]
    }
   ],
   "source": [
    "# Build the model\n",
    "model = TFBertForSequenceClassification.from_pretrained('indobenchmark/indobert-base-p1', num_labels=2)\n",
    "\n",
    "# Modify the output layer\n",
    "model.layers[-1].activation = tf.keras.activations.sigmoid\n",
    "\n",
    "# Compile the model with binary cross-entropy loss\n",
    "optimizer = tf.keras.optimizers.Adam(learning_rate=1e-5)\n",
    "loss = tf.keras.losses.BinaryCrossentropy(from_logits=False)\n",
    "metric = tf.keras.metrics.BinaryAccuracy(threshold=0.5)\n",
    "\n",
    "model.compile(optimizer=optimizer, loss=loss, metrics=[metric])\n",
    "\n",
    "# Train the model\n",
    "history = model.fit(\n",
    "    x=[input_ids_train, attention_mask_train],\n",
    "    y=tf.keras.utils.to_categorical(labels_train, num_classes=2),\n",
    "    batch_size=16,\n",
    "    epochs=3,\n",
    "    validation_data=([input_ids_val, attention_mask_val], tf.keras.utils.to_categorical(labels_val, num_classes=2))\n",
    ")"
   ]
  },
  {
   "cell_type": "code",
   "execution_count": 145,
   "metadata": {},
   "outputs": [],
   "source": [
    "# # Fine-tune the model on your specific sentiment analysis task\n",
    "# optimizer = tf.keras.optimizers.Adam(learning_rate=2e-5)\n",
    "# loss = tf.keras.losses.SparseCategoricalCrossentropy(from_logits=True)\n",
    "# metric = tf.keras.metrics.SparseCategoricalAccuracy('accuracy')\n",
    "\n",
    "# model.compile(optimizer=optimizer, loss=loss, metrics=[metric])\n",
    "\n",
    "# history = model.fit(\n",
    "#         x=[input_ids_train, attention_mask_train],\n",
    "#         y=labels_train,\n",
    "#         validation_data=([input_ids_val, attention_mask_val], labels_val),\n",
    "#         batch_size=32,\n",
    "#         epochs=1\n",
    "# )"
   ]
  },
  {
   "cell_type": "code",
   "execution_count": 12,
   "metadata": {},
   "outputs": [
    {
     "data": {
      "image/png": "[encoded data removed]",
      "text/plain": [
       "<Figure size 1000x500 with 1 Axes>"
      ]
     },
     "metadata": {},
     "output_type": "display_data"
    }
   ],
   "source": [
    "# Lists to store the values for plotting\n",
    "train_loss_values = history.history['loss']\n",
    "train_acc_values = history.history['binary_accuracy']\n",
    "val_loss_values = history.history['val_loss']\n",
    "val_acc_values = history.history['val_binary_accuracy']\n",
    "\n",
    "# Plot the training and validation loss\n",
    "plt.figure(figsize=(10, 5))\n",
    "plt.plot(train_loss_values, label='Training Loss')\n",
    "plt.plot(val_loss_values, label='Validation Loss')\n",
    "plt.xlabel('Epochs')\n",
    "plt.ylabel('Loss')\n",
    "plt.title('Training and Validation Loss')\n",
    "plt.legend()\n",
    "plt.show()"
   ]
  },
  {
   "cell_type": "code",
   "execution_count": 13,
   "metadata": {},
   "outputs": [
    {
     "data": {
      "image/png": "[encoded data removed]",
      "text/plain": [
       "<Figure size 1000x500 with 1 Axes>"
      ]
     },
     "metadata": {},
     "output_type": "display_data"
    }
   ],
   "source": [
    "# Plot the training and validation accuracy\n",
    "plt.figure(figsize=(10, 5))\n",
    "plt.plot(train_acc_values, label='Training Accuracy')\n",
    "plt.plot(val_acc_values, label='Validation Accuracy')\n",
    "plt.xlabel('Epochs')\n",
    "plt.ylabel('Accuracy')\n",
    "plt.title('Training and Validation Binary Accuracy')\n",
    "plt.legend()\n",
    "plt.show()"
   ]
  },
  {
   "cell_type": "code",
   "execution_count": 16,
   "metadata": {},
   "outputs": [
    {
     "name": "stderr",
     "output_type": "stream",
     "text": [
      "WARNING:absl:Found untraced functions such as _update_step_xla, embeddings_layer_call_fn, embeddings_layer_call_and_return_conditional_losses, encoder_layer_call_fn, encoder_layer_call_and_return_conditional_losses while saving (showing 5 of 421). These functions will not be directly callable after loading.\n"
     ]
    },
    {
     "name": "stdout",
     "output_type": "stream",
     "text": [
      "INFO:tensorflow:Assets written to: model/saved_model\\assets\n"
     ]
    },
    {
     "name": "stderr",
     "output_type": "stream",
     "text": [
      "INFO:tensorflow:Assets written to: model/saved_model\\assets\n"
     ]
    }
   ],
   "source": [
    "# Save the fine-tuned model in the TensorFlow SavedModel format\n",
    "model.save('model/saved_model')\n",
    "\n",
    "model.save_pretrained(\"model/nnmodel\")\n",
    "\n",
    "# Alternatively, you can save the model weights\n",
    "model.save_weights('model/model_weights.h5')"
   ]
  }
 ],
 "metadata": {
  "kernelspec": {
   "display_name": "Python 3",
   "language": "python",
   "name": "python3"
  },
  "language_info": {
   "codemirror_mode": {
    "name": "ipython",
    "version": 3
   },
   "file_extension": ".py",
   "mimetype": "text/x-python",
   "name": "python",
   "nbconvert_exporter": "python",
   "pygments_lexer": "ipython3",
   "version": "3.11.1"
  },
  "orig_nbformat": 4
 },
 "nbformat": 4,
 "nbformat_minor": 2
}
