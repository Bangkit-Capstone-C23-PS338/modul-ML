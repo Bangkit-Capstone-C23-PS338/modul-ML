{
  "cells": [
    {
      "cell_type": "markdown",
      "metadata": {
        "id": "V0TIzX0K6b0i"
      },
      "source": [
        "# <center> Recommender System </center>"
      ]
    },
    {
      "cell_type": "markdown",
      "metadata": {
        "id": "cT9Y0Ah56b0k"
      },
      "source": [
        "## Preparation"
      ]
    },
    {
      "cell_type": "markdown",
      "metadata": {
        "id": "BKd9UomS6b0k"
      },
      "source": [
        "Connect to drive (if needed)"
      ]
    },
    {
      "cell_type": "code",
      "execution_count": 1,
      "metadata": {
        "colab": {
          "base_uri": "https://localhost:8080/"
        },
        "id": "Ltqyg7vA6b0k",
        "outputId": "f9d502cb-abd4-47a0-e7f5-4553dbbc4db0"
      },
      "outputs": [
        {
          "name": "stdout",
          "output_type": "stream",
          "text": [
            "PhysicalDevice(name='/physical_device:CPU:0', device_type='CPU')\n"
          ]
        }
      ],
      "source": [
        "import os\n",
        "import tensorflow as tf\n",
        "from tensorflow.python.client import device_lib\n",
        "\n",
        "DRIVE_DIR = \"\"\n",
        "USING_DRIVE = False\n",
        "if USING_DRIVE:\n",
        "    # from google.colab import drive\n",
        "    # drive.mount('/content/drive')\n",
        "    DRIVE_DIR = \"drive/My Drive/Bangkit/\"\n",
        "\n",
        "# Check GPU\n",
        "devices = tf.config.experimental.list_physical_devices()\n",
        "for device in devices:\n",
        "    print(device)"
      ]
    },
    {
      "cell_type": "markdown",
      "metadata": {
        "id": "polD1-8m6b0l"
      },
      "source": [
        "Constants"
      ]
    },
    {
      "cell_type": "code",
      "execution_count": 2,
      "metadata": {
        "id": "dHM-Im3g6b0l"
      },
      "outputs": [],
      "source": [
        "import pandas as pd\n",
        "import numpy as np\n",
        "import matplotlib.pyplot as plt\n",
        "from sklearn.preprocessing import MinMaxScaler\n",
        "\n",
        "LOG_NAME = \"recommender-small-simplerr\"\n",
        "REMARK = \"Try current best model 128batch\"\n",
        "BATCH_SIZE = 128\n",
        "LEARNING_RATE = 1e-6\n",
        "EPOCH = 300\n",
        "OPTIMIZER = tf.keras.optimizers.Adam(learning_rate=LEARNING_RATE)\n",
        "LOSS_FN = tf.keras.losses.MeanAbsoluteError()"
      ]
    },
    {
      "cell_type": "markdown",
      "metadata": {
        "id": "RUCIib5V6b0m"
      },
      "source": [
        "Log dir"
      ]
    },
    {
      "cell_type": "code",
      "execution_count": 3,
      "metadata": {
        "id": "NgTRDLlo6b0m"
      },
      "outputs": [
        {
          "ename": "FileExistsError",
          "evalue": "",
          "output_type": "error",
          "traceback": [
            "\u001b[1;31m---------------------------------------------------------------------------\u001b[0m",
            "\u001b[1;31mFileExistsError\u001b[0m                           Traceback (most recent call last)",
            "Cell \u001b[1;32mIn[3], line 12\u001b[0m\n\u001b[0;32m      5\u001b[0m SUMMARY_DIR \u001b[39m=\u001b[39m os\u001b[39m.\u001b[39mpath\u001b[39m.\u001b[39mjoin(DRIVE_DIR, \u001b[39m\"\u001b[39m\u001b[39mlog/model/summary/\u001b[39m\u001b[39m\"\u001b[39m)\n\u001b[0;32m      7\u001b[0m \u001b[39mif\u001b[39;00m (os\u001b[39m.\u001b[39mpath\u001b[39m.\u001b[39mexists(os\u001b[39m.\u001b[39mpath\u001b[39m.\u001b[39mjoin(MODEL_DIR, LOG_NAME)) \u001b[39mor\u001b[39;00m \n\u001b[0;32m      8\u001b[0m     os\u001b[39m.\u001b[39mpath\u001b[39m.\u001b[39mexists(os\u001b[39m.\u001b[39mpath\u001b[39m.\u001b[39mjoin(KERAS_DIR, LOG_NAME)) \u001b[39mor\u001b[39;00m\n\u001b[0;32m      9\u001b[0m     os\u001b[39m.\u001b[39mpath\u001b[39m.\u001b[39mexists(os\u001b[39m.\u001b[39mpath\u001b[39m.\u001b[39mjoin(PLOT_DIR, LOG_NAME)) \u001b[39mor\u001b[39;00m\n\u001b[0;32m     10\u001b[0m     os\u001b[39m.\u001b[39mpath\u001b[39m.\u001b[39mexists(os\u001b[39m.\u001b[39mpath\u001b[39m.\u001b[39mjoin(SUMMARY_DIR, LOG_NAME)) \u001b[39mor\u001b[39;00m\n\u001b[0;32m     11\u001b[0m     os\u001b[39m.\u001b[39mpath\u001b[39m.\u001b[39mexists(os\u001b[39m.\u001b[39mpath\u001b[39m.\u001b[39mjoin(DETAIL_DIR, LOG_NAME))):\n\u001b[1;32m---> 12\u001b[0m     \u001b[39mraise\u001b[39;00m \u001b[39mFileExistsError\u001b[39;00m\n",
            "\u001b[1;31mFileExistsError\u001b[0m: "
          ]
        }
      ],
      "source": [
        "DETAIL_DIR = os.path.join(DRIVE_DIR, \"log/detail/\")\n",
        "MODEL_DIR = os.path.join(DRIVE_DIR, \"log/model/savedmodel/\")\n",
        "KERAS_DIR = os.path.join(DRIVE_DIR, \"log/model/keras/\")\n",
        "PLOT_DIR = os.path.join(DRIVE_DIR, \"log/plot\")\n",
        "SUMMARY_DIR = os.path.join(DRIVE_DIR, \"log/model/summary/\")\n",
        "\n",
        "if (os.path.exists(os.path.join(MODEL_DIR, LOG_NAME)) or \n",
        "    os.path.exists(os.path.join(KERAS_DIR, LOG_NAME)) or\n",
        "    os.path.exists(os.path.join(PLOT_DIR, LOG_NAME)) or\n",
        "    os.path.exists(os.path.join(SUMMARY_DIR, LOG_NAME)) or\n",
        "    os.path.exists(os.path.join(DETAIL_DIR, LOG_NAME))):\n",
        "    raise FileExistsError\n"
      ]
    },
    {
      "cell_type": "markdown",
      "metadata": {
        "id": "kUx0u7wS6b0m"
      },
      "source": [
        "## Data Extraction"
      ]
    },
    {
      "cell_type": "markdown",
      "metadata": {
        "id": "fKdozaq36b0m"
      },
      "source": [
        "### Load data from CSV"
      ]
    },
    {
      "cell_type": "markdown",
      "metadata": {
        "id": "adJLSdQH6b0n"
      },
      "source": [
        "Not using user data for a while"
      ]
    },
    {
      "cell_type": "markdown",
      "metadata": {
        "id": "UWimNAkh6b0n"
      },
      "source": [
        "Data is generated randomly using Excel"
      ]
    },
    {
      "cell_type": "code",
      "execution_count": null,
      "metadata": {
        "id": "NOY5h8C16b0n"
      },
      "outputs": [],
      "source": [
        "DATA_DIR = os.path.join(DRIVE_DIR, \"data/synt_data_smaller_dataset/\")\n",
        "INFLUENCER_FILE = os.path.join(DATA_DIR, \"data_content_influencer_categ.csv\")\n",
        "OWNER_FILE = os.path.join(DATA_DIR, \"data_content_owner_categ.csv\")\n",
        "HISTORY_FILE = os.path.join(DATA_DIR, \"historical_data.csv\")\n",
        "\n",
        "df_influencer = pd.read_csv(INFLUENCER_FILE)\n",
        "# df_owner = pd.read_csv(OWNER_FILE)\n",
        "df_history = pd.read_csv(HISTORY_FILE)"
      ]
    },
    {
      "cell_type": "markdown",
      "metadata": {
        "id": "P9FQwofA6b0n"
      },
      "source": [
        "### Data Exploration"
      ]
    },
    {
      "cell_type": "code",
      "execution_count": null,
      "metadata": {
        "colab": {
          "base_uri": "https://localhost:8080/",
          "height": 206
        },
        "id": "pRduYuFh6b0n",
        "outputId": "efa0a603-b46e-4beb-a15e-fcac12e66703"
      },
      "outputs": [
        {
          "data": {
            "text/html": [
              "<div>\n",
              "<style scoped>\n",
              "    .dataframe tbody tr th:only-of-type {\n",
              "        vertical-align: middle;\n",
              "    }\n",
              "\n",
              "    .dataframe tbody tr th {\n",
              "        vertical-align: top;\n",
              "    }\n",
              "\n",
              "    .dataframe thead th {\n",
              "        text-align: right;\n",
              "    }\n",
              "</style>\n",
              "<table border=\"1\" class=\"dataframe\">\n",
              "  <thead>\n",
              "    <tr style=\"text-align: right;\">\n",
              "      <th></th>\n",
              "      <th>id</th>\n",
              "      <th>insta_follower</th>\n",
              "      <th>tiktok</th>\n",
              "      <th>youtube</th>\n",
              "      <th>categories</th>\n",
              "      <th>avg_rating</th>\n",
              "      <th>pricing_LOW</th>\n",
              "      <th>pricing_BELOW_AVG</th>\n",
              "      <th>pricing_AVG</th>\n",
              "      <th>pricing_ABOVE_AVG</th>\n",
              "      <th>pricing_HIGH</th>\n",
              "    </tr>\n",
              "  </thead>\n",
              "  <tbody>\n",
              "    <tr>\n",
              "      <th>0</th>\n",
              "      <td>1723</td>\n",
              "      <td>6018900</td>\n",
              "      <td>8078640</td>\n",
              "      <td>15046770</td>\n",
              "      <td>Category 8,Category 2</td>\n",
              "      <td>9.37</td>\n",
              "      <td>0</td>\n",
              "      <td>0</td>\n",
              "      <td>1</td>\n",
              "      <td>1</td>\n",
              "      <td>1</td>\n",
              "    </tr>\n",
              "    <tr>\n",
              "      <th>1</th>\n",
              "      <td>82</td>\n",
              "      <td>23809950</td>\n",
              "      <td>35177250</td>\n",
              "      <td>44279670</td>\n",
              "      <td>Category 4,Category 2,Category 1,Category 8,Ca...</td>\n",
              "      <td>9.26</td>\n",
              "      <td>0</td>\n",
              "      <td>0</td>\n",
              "      <td>1</td>\n",
              "      <td>1</td>\n",
              "      <td>1</td>\n",
              "    </tr>\n",
              "    <tr>\n",
              "      <th>2</th>\n",
              "      <td>296</td>\n",
              "      <td>3427860</td>\n",
              "      <td>5198670</td>\n",
              "      <td>5264340</td>\n",
              "      <td>Category 6,Category 1,Category 4,Category 5</td>\n",
              "      <td>9.25</td>\n",
              "      <td>0</td>\n",
              "      <td>0</td>\n",
              "      <td>1</td>\n",
              "      <td>1</td>\n",
              "      <td>0</td>\n",
              "    </tr>\n",
              "    <tr>\n",
              "      <th>3</th>\n",
              "      <td>127</td>\n",
              "      <td>20207160</td>\n",
              "      <td>38229630</td>\n",
              "      <td>74752350</td>\n",
              "      <td>Category 7,Category 6</td>\n",
              "      <td>9.17</td>\n",
              "      <td>0</td>\n",
              "      <td>0</td>\n",
              "      <td>1</td>\n",
              "      <td>1</td>\n",
              "      <td>1</td>\n",
              "    </tr>\n",
              "    <tr>\n",
              "      <th>4</th>\n",
              "      <td>137</td>\n",
              "      <td>4537980</td>\n",
              "      <td>8215080</td>\n",
              "      <td>13298910</td>\n",
              "      <td>Category 6,Category 1,Category 4,Category 5</td>\n",
              "      <td>9.16</td>\n",
              "      <td>0</td>\n",
              "      <td>0</td>\n",
              "      <td>1</td>\n",
              "      <td>1</td>\n",
              "      <td>1</td>\n",
              "    </tr>\n",
              "  </tbody>\n",
              "</table>\n",
              "</div>"
            ],
            "text/plain": [
              "     id  insta_follower    tiktok   youtube  \\\n",
              "0  1723         6018900   8078640  15046770   \n",
              "1    82        23809950  35177250  44279670   \n",
              "2   296         3427860   5198670   5264340   \n",
              "3   127        20207160  38229630  74752350   \n",
              "4   137         4537980   8215080  13298910   \n",
              "\n",
              "                                          categories  avg_rating  pricing_LOW  \\\n",
              "0                              Category 8,Category 2        9.37            0   \n",
              "1  Category 4,Category 2,Category 1,Category 8,Ca...        9.26            0   \n",
              "2        Category 6,Category 1,Category 4,Category 5        9.25            0   \n",
              "3                              Category 7,Category 6        9.17            0   \n",
              "4        Category 6,Category 1,Category 4,Category 5        9.16            0   \n",
              "\n",
              "   pricing_BELOW_AVG  pricing_AVG  pricing_ABOVE_AVG  pricing_HIGH  \n",
              "0                  0            1                  1             1  \n",
              "1                  0            1                  1             1  \n",
              "2                  0            1                  1             0  \n",
              "3                  0            1                  1             1  \n",
              "4                  0            1                  1             1  "
            ]
          },
          "execution_count": 611,
          "metadata": {},
          "output_type": "execute_result"
        }
      ],
      "source": [
        "df_influencer.head(5)"
      ]
    },
    {
      "cell_type": "code",
      "execution_count": null,
      "metadata": {
        "colab": {
          "base_uri": "https://localhost:8080/"
        },
        "id": "3EgUvt646b0n",
        "outputId": "02a5b9c0-f6b9-4a29-edee-b43d0b15e10f"
      },
      "outputs": [
        {
          "name": "stdout",
          "output_type": "stream",
          "text": [
            "<class 'pandas.core.frame.DataFrame'>\n",
            "RangeIndex: 3532 entries, 0 to 3531\n",
            "Data columns (total 11 columns):\n",
            " #   Column             Non-Null Count  Dtype  \n",
            "---  ------             --------------  -----  \n",
            " 0   id                 3532 non-null   int64  \n",
            " 1   insta_follower     3532 non-null   int64  \n",
            " 2   tiktok             3532 non-null   int64  \n",
            " 3   youtube            3532 non-null   int64  \n",
            " 4   categories         3532 non-null   object \n",
            " 5   avg_rating         3532 non-null   float64\n",
            " 6   pricing_LOW        3532 non-null   int64  \n",
            " 7   pricing_BELOW_AVG  3532 non-null   int64  \n",
            " 8   pricing_AVG        3532 non-null   int64  \n",
            " 9   pricing_ABOVE_AVG  3532 non-null   int64  \n",
            " 10  pricing_HIGH       3532 non-null   int64  \n",
            "dtypes: float64(1), int64(9), object(1)\n",
            "memory usage: 303.7+ KB\n"
          ]
        }
      ],
      "source": [
        "df_influencer.info()"
      ]
    },
    {
      "cell_type": "code",
      "execution_count": null,
      "metadata": {
        "colab": {
          "base_uri": "https://localhost:8080/",
          "height": 300
        },
        "id": "t-gTa4GC6b0o",
        "outputId": "de289730-abaa-4205-c12b-ff2166c46796"
      },
      "outputs": [
        {
          "data": {
            "text/html": [
              "<div>\n",
              "<style scoped>\n",
              "    .dataframe tbody tr th:only-of-type {\n",
              "        vertical-align: middle;\n",
              "    }\n",
              "\n",
              "    .dataframe tbody tr th {\n",
              "        vertical-align: top;\n",
              "    }\n",
              "\n",
              "    .dataframe thead th {\n",
              "        text-align: right;\n",
              "    }\n",
              "</style>\n",
              "<table border=\"1\" class=\"dataframe\">\n",
              "  <thead>\n",
              "    <tr style=\"text-align: right;\">\n",
              "      <th></th>\n",
              "      <th>id</th>\n",
              "      <th>insta_follower</th>\n",
              "      <th>tiktok</th>\n",
              "      <th>youtube</th>\n",
              "      <th>avg_rating</th>\n",
              "      <th>pricing_LOW</th>\n",
              "      <th>pricing_BELOW_AVG</th>\n",
              "      <th>pricing_AVG</th>\n",
              "      <th>pricing_ABOVE_AVG</th>\n",
              "      <th>pricing_HIGH</th>\n",
              "    </tr>\n",
              "  </thead>\n",
              "  <tbody>\n",
              "    <tr>\n",
              "      <th>count</th>\n",
              "      <td>3532.000000</td>\n",
              "      <td>3.532000e+03</td>\n",
              "      <td>3.532000e+03</td>\n",
              "      <td>3.532000e+03</td>\n",
              "      <td>3532.000000</td>\n",
              "      <td>3532.000000</td>\n",
              "      <td>3532.000000</td>\n",
              "      <td>3532.000000</td>\n",
              "      <td>3532.000000</td>\n",
              "      <td>3532.000000</td>\n",
              "    </tr>\n",
              "    <tr>\n",
              "      <th>mean</th>\n",
              "      <td>2078.235844</td>\n",
              "      <td>1.739045e+06</td>\n",
              "      <td>2.459950e+06</td>\n",
              "      <td>3.416828e+06</td>\n",
              "      <td>7.292537</td>\n",
              "      <td>0.328426</td>\n",
              "      <td>0.488675</td>\n",
              "      <td>0.416761</td>\n",
              "      <td>0.161665</td>\n",
              "      <td>0.114949</td>\n",
              "    </tr>\n",
              "    <tr>\n",
              "      <th>std</th>\n",
              "      <td>1403.980694</td>\n",
              "      <td>2.683461e+06</td>\n",
              "      <td>4.010099e+06</td>\n",
              "      <td>5.794205e+06</td>\n",
              "      <td>0.662597</td>\n",
              "      <td>0.469707</td>\n",
              "      <td>0.499943</td>\n",
              "      <td>0.493092</td>\n",
              "      <td>0.368195</td>\n",
              "      <td>0.319006</td>\n",
              "    </tr>\n",
              "    <tr>\n",
              "      <th>min</th>\n",
              "      <td>1.000000</td>\n",
              "      <td>5.136000e+04</td>\n",
              "      <td>5.031000e+04</td>\n",
              "      <td>5.532000e+04</td>\n",
              "      <td>2.370000</td>\n",
              "      <td>0.000000</td>\n",
              "      <td>0.000000</td>\n",
              "      <td>0.000000</td>\n",
              "      <td>0.000000</td>\n",
              "      <td>0.000000</td>\n",
              "    </tr>\n",
              "    <tr>\n",
              "      <th>25%</th>\n",
              "      <td>900.750000</td>\n",
              "      <td>3.462900e+05</td>\n",
              "      <td>4.563300e+05</td>\n",
              "      <td>6.102900e+05</td>\n",
              "      <td>6.860000</td>\n",
              "      <td>0.000000</td>\n",
              "      <td>0.000000</td>\n",
              "      <td>0.000000</td>\n",
              "      <td>0.000000</td>\n",
              "      <td>0.000000</td>\n",
              "    </tr>\n",
              "    <tr>\n",
              "      <th>50%</th>\n",
              "      <td>1884.500000</td>\n",
              "      <td>7.468650e+05</td>\n",
              "      <td>1.034235e+06</td>\n",
              "      <td>1.428285e+06</td>\n",
              "      <td>7.330000</td>\n",
              "      <td>0.000000</td>\n",
              "      <td>0.000000</td>\n",
              "      <td>0.000000</td>\n",
              "      <td>0.000000</td>\n",
              "      <td>0.000000</td>\n",
              "    </tr>\n",
              "    <tr>\n",
              "      <th>75%</th>\n",
              "      <td>3120.500000</td>\n",
              "      <td>1.970962e+06</td>\n",
              "      <td>2.658832e+06</td>\n",
              "      <td>3.725685e+06</td>\n",
              "      <td>7.730000</td>\n",
              "      <td>1.000000</td>\n",
              "      <td>1.000000</td>\n",
              "      <td>1.000000</td>\n",
              "      <td>0.000000</td>\n",
              "      <td>0.000000</td>\n",
              "    </tr>\n",
              "    <tr>\n",
              "      <th>max</th>\n",
              "      <td>6227.000000</td>\n",
              "      <td>3.041751e+07</td>\n",
              "      <td>4.039176e+07</td>\n",
              "      <td>7.475235e+07</td>\n",
              "      <td>9.370000</td>\n",
              "      <td>1.000000</td>\n",
              "      <td>1.000000</td>\n",
              "      <td>1.000000</td>\n",
              "      <td>1.000000</td>\n",
              "      <td>1.000000</td>\n",
              "    </tr>\n",
              "  </tbody>\n",
              "</table>\n",
              "</div>"
            ],
            "text/plain": [
              "                id  insta_follower        tiktok       youtube   avg_rating  \\\n",
              "count  3532.000000    3.532000e+03  3.532000e+03  3.532000e+03  3532.000000   \n",
              "mean   2078.235844    1.739045e+06  2.459950e+06  3.416828e+06     7.292537   \n",
              "std    1403.980694    2.683461e+06  4.010099e+06  5.794205e+06     0.662597   \n",
              "min       1.000000    5.136000e+04  5.031000e+04  5.532000e+04     2.370000   \n",
              "25%     900.750000    3.462900e+05  4.563300e+05  6.102900e+05     6.860000   \n",
              "50%    1884.500000    7.468650e+05  1.034235e+06  1.428285e+06     7.330000   \n",
              "75%    3120.500000    1.970962e+06  2.658832e+06  3.725685e+06     7.730000   \n",
              "max    6227.000000    3.041751e+07  4.039176e+07  7.475235e+07     9.370000   \n",
              "\n",
              "       pricing_LOW  pricing_BELOW_AVG  pricing_AVG  pricing_ABOVE_AVG  \\\n",
              "count  3532.000000        3532.000000  3532.000000        3532.000000   \n",
              "mean      0.328426           0.488675     0.416761           0.161665   \n",
              "std       0.469707           0.499943     0.493092           0.368195   \n",
              "min       0.000000           0.000000     0.000000           0.000000   \n",
              "25%       0.000000           0.000000     0.000000           0.000000   \n",
              "50%       0.000000           0.000000     0.000000           0.000000   \n",
              "75%       1.000000           1.000000     1.000000           0.000000   \n",
              "max       1.000000           1.000000     1.000000           1.000000   \n",
              "\n",
              "       pricing_HIGH  \n",
              "count   3532.000000  \n",
              "mean       0.114949  \n",
              "std        0.319006  \n",
              "min        0.000000  \n",
              "25%        0.000000  \n",
              "50%        0.000000  \n",
              "75%        0.000000  \n",
              "max        1.000000  "
            ]
          },
          "execution_count": 613,
          "metadata": {},
          "output_type": "execute_result"
        }
      ],
      "source": [
        "df_influencer.describe()"
      ]
    },
    {
      "cell_type": "code",
      "execution_count": null,
      "metadata": {
        "colab": {
          "base_uri": "https://localhost:8080/",
          "height": 206
        },
        "id": "y5wNWPbA6b0o",
        "outputId": "4cefa513-c9b5-42c7-d5ad-b46838a373fc"
      },
      "outputs": [
        {
          "data": {
            "text/html": [
              "<div>\n",
              "<style scoped>\n",
              "    .dataframe tbody tr th:only-of-type {\n",
              "        vertical-align: middle;\n",
              "    }\n",
              "\n",
              "    .dataframe tbody tr th {\n",
              "        vertical-align: top;\n",
              "    }\n",
              "\n",
              "    .dataframe thead th {\n",
              "        text-align: right;\n",
              "    }\n",
              "</style>\n",
              "<table border=\"1\" class=\"dataframe\">\n",
              "  <thead>\n",
              "    <tr style=\"text-align: right;\">\n",
              "      <th></th>\n",
              "      <th>own_id</th>\n",
              "      <th>inf_id</th>\n",
              "      <th>star_rating</th>\n",
              "      <th>sentiment_rating</th>\n",
              "    </tr>\n",
              "  </thead>\n",
              "  <tbody>\n",
              "    <tr>\n",
              "      <th>0</th>\n",
              "      <td>2</td>\n",
              "      <td>12</td>\n",
              "      <td>5</td>\n",
              "      <td>1.00</td>\n",
              "    </tr>\n",
              "    <tr>\n",
              "      <th>1</th>\n",
              "      <td>2</td>\n",
              "      <td>13</td>\n",
              "      <td>4</td>\n",
              "      <td>0.71</td>\n",
              "    </tr>\n",
              "    <tr>\n",
              "      <th>2</th>\n",
              "      <td>2</td>\n",
              "      <td>14</td>\n",
              "      <td>4</td>\n",
              "      <td>0.71</td>\n",
              "    </tr>\n",
              "    <tr>\n",
              "      <th>3</th>\n",
              "      <td>2</td>\n",
              "      <td>15</td>\n",
              "      <td>4</td>\n",
              "      <td>0.69</td>\n",
              "    </tr>\n",
              "    <tr>\n",
              "      <th>4</th>\n",
              "      <td>2</td>\n",
              "      <td>16</td>\n",
              "      <td>4</td>\n",
              "      <td>0.87</td>\n",
              "    </tr>\n",
              "  </tbody>\n",
              "</table>\n",
              "</div>"
            ],
            "text/plain": [
              "   own_id  inf_id  star_rating  sentiment_rating\n",
              "0       2      12            5              1.00\n",
              "1       2      13            4              0.71\n",
              "2       2      14            4              0.71\n",
              "3       2      15            4              0.69\n",
              "4       2      16            4              0.87"
            ]
          },
          "execution_count": 614,
          "metadata": {},
          "output_type": "execute_result"
        }
      ],
      "source": [
        "df_history.head(5)"
      ]
    },
    {
      "cell_type": "code",
      "execution_count": null,
      "metadata": {
        "colab": {
          "base_uri": "https://localhost:8080/"
        },
        "id": "TOa8c6Bx6b0o",
        "outputId": "04f2e6e9-6637-428c-b5f1-8bc09848c8bb"
      },
      "outputs": [
        {
          "name": "stdout",
          "output_type": "stream",
          "text": [
            "<class 'pandas.core.frame.DataFrame'>\n",
            "RangeIndex: 152893 entries, 0 to 152892\n",
            "Data columns (total 4 columns):\n",
            " #   Column            Non-Null Count   Dtype  \n",
            "---  ------            --------------   -----  \n",
            " 0   own_id            152893 non-null  int64  \n",
            " 1   inf_id            152893 non-null  int64  \n",
            " 2   star_rating       152893 non-null  int64  \n",
            " 3   sentiment_rating  152893 non-null  float64\n",
            "dtypes: float64(1), int64(3)\n",
            "memory usage: 4.7 MB\n"
          ]
        }
      ],
      "source": [
        "df_history.info()"
      ]
    },
    {
      "cell_type": "code",
      "execution_count": null,
      "metadata": {
        "colab": {
          "base_uri": "https://localhost:8080/",
          "height": 300
        },
        "id": "TBs_bu7J6b0o",
        "outputId": "2888c4cb-86a7-4e81-bade-ee1f375e1c79"
      },
      "outputs": [
        {
          "data": {
            "text/html": [
              "<div>\n",
              "<style scoped>\n",
              "    .dataframe tbody tr th:only-of-type {\n",
              "        vertical-align: middle;\n",
              "    }\n",
              "\n",
              "    .dataframe tbody tr th {\n",
              "        vertical-align: top;\n",
              "    }\n",
              "\n",
              "    .dataframe thead th {\n",
              "        text-align: right;\n",
              "    }\n",
              "</style>\n",
              "<table border=\"1\" class=\"dataframe\">\n",
              "  <thead>\n",
              "    <tr style=\"text-align: right;\">\n",
              "      <th></th>\n",
              "      <th>own_id</th>\n",
              "      <th>inf_id</th>\n",
              "      <th>star_rating</th>\n",
              "      <th>sentiment_rating</th>\n",
              "    </tr>\n",
              "  </thead>\n",
              "  <tbody>\n",
              "    <tr>\n",
              "      <th>count</th>\n",
              "      <td>152893.000000</td>\n",
              "      <td>152893.000000</td>\n",
              "      <td>152893.000000</td>\n",
              "      <td>152893.000000</td>\n",
              "    </tr>\n",
              "    <tr>\n",
              "      <th>mean</th>\n",
              "      <td>2393.766288</td>\n",
              "      <td>1203.203626</td>\n",
              "      <td>4.005932</td>\n",
              "      <td>0.750553</td>\n",
              "    </tr>\n",
              "    <tr>\n",
              "      <th>std</th>\n",
              "      <td>1444.328510</td>\n",
              "      <td>1086.898864</td>\n",
              "      <td>0.804511</td>\n",
              "      <td>0.164894</td>\n",
              "    </tr>\n",
              "    <tr>\n",
              "      <th>min</th>\n",
              "      <td>2.000000</td>\n",
              "      <td>1.000000</td>\n",
              "      <td>1.000000</td>\n",
              "      <td>0.000000</td>\n",
              "    </tr>\n",
              "    <tr>\n",
              "      <th>25%</th>\n",
              "      <td>1077.000000</td>\n",
              "      <td>380.000000</td>\n",
              "      <td>4.000000</td>\n",
              "      <td>0.650000</td>\n",
              "    </tr>\n",
              "    <tr>\n",
              "      <th>50%</th>\n",
              "      <td>2403.000000</td>\n",
              "      <td>866.000000</td>\n",
              "      <td>4.000000</td>\n",
              "      <td>0.760000</td>\n",
              "    </tr>\n",
              "    <tr>\n",
              "      <th>75%</th>\n",
              "      <td>3692.000000</td>\n",
              "      <td>1763.000000</td>\n",
              "      <td>5.000000</td>\n",
              "      <td>0.870000</td>\n",
              "    </tr>\n",
              "    <tr>\n",
              "      <th>max</th>\n",
              "      <td>4975.000000</td>\n",
              "      <td>6227.000000</td>\n",
              "      <td>5.000000</td>\n",
              "      <td>1.000000</td>\n",
              "    </tr>\n",
              "  </tbody>\n",
              "</table>\n",
              "</div>"
            ],
            "text/plain": [
              "              own_id         inf_id    star_rating  sentiment_rating\n",
              "count  152893.000000  152893.000000  152893.000000     152893.000000\n",
              "mean     2393.766288    1203.203626       4.005932          0.750553\n",
              "std      1444.328510    1086.898864       0.804511          0.164894\n",
              "min         2.000000       1.000000       1.000000          0.000000\n",
              "25%      1077.000000     380.000000       4.000000          0.650000\n",
              "50%      2403.000000     866.000000       4.000000          0.760000\n",
              "75%      3692.000000    1763.000000       5.000000          0.870000\n",
              "max      4975.000000    6227.000000       5.000000          1.000000"
            ]
          },
          "execution_count": 616,
          "metadata": {},
          "output_type": "execute_result"
        }
      ],
      "source": [
        "df_history.describe()"
      ]
    },
    {
      "cell_type": "markdown",
      "metadata": {
        "id": "fVn8QMc76b0o"
      },
      "source": [
        "## Data Transformation"
      ]
    },
    {
      "cell_type": "markdown",
      "metadata": {
        "id": "N30NlTAl6b0o"
      },
      "source": [
        "### Data cleaning"
      ]
    },
    {
      "cell_type": "markdown",
      "metadata": {
        "id": "rED6Pt5Z6b0o"
      },
      "source": [
        "#### Missing value"
      ]
    },
    {
      "cell_type": "code",
      "execution_count": null,
      "metadata": {
        "colab": {
          "base_uri": "https://localhost:8080/"
        },
        "id": "A1XQOSWt6b0p",
        "outputId": "617ba75e-7c49-45b5-d531-4fe5f96010be"
      },
      "outputs": [
        {
          "data": {
            "text/plain": [
              "id                   0\n",
              "insta_follower       0\n",
              "tiktok               0\n",
              "youtube              0\n",
              "categories           0\n",
              "avg_rating           0\n",
              "pricing_LOW          0\n",
              "pricing_BELOW_AVG    0\n",
              "pricing_AVG          0\n",
              "pricing_ABOVE_AVG    0\n",
              "pricing_HIGH         0\n",
              "dtype: int64"
            ]
          },
          "execution_count": 617,
          "metadata": {},
          "output_type": "execute_result"
        }
      ],
      "source": [
        "df_influencer.isnull().sum()"
      ]
    },
    {
      "cell_type": "code",
      "execution_count": null,
      "metadata": {
        "colab": {
          "base_uri": "https://localhost:8080/"
        },
        "id": "-MOCkxUR6b0p",
        "outputId": "9c983da4-5da7-4441-c403-dafa45460db3"
      },
      "outputs": [
        {
          "data": {
            "text/plain": [
              "own_id              0\n",
              "inf_id              0\n",
              "star_rating         0\n",
              "sentiment_rating    0\n",
              "dtype: int64"
            ]
          },
          "execution_count": 618,
          "metadata": {},
          "output_type": "execute_result"
        }
      ],
      "source": [
        "df_history.isnull().sum()"
      ]
    },
    {
      "cell_type": "markdown",
      "metadata": {
        "id": "6wLwW20o6b0p"
      },
      "source": [
        "No missing value"
      ]
    },
    {
      "cell_type": "markdown",
      "metadata": {
        "id": "zQ2RmTtz6b0p"
      },
      "source": [
        "#### Irrelevant Data / Invalid Data"
      ]
    },
    {
      "cell_type": "markdown",
      "metadata": {
        "id": "ZS7foeoW6b0p"
      },
      "source": [
        "Check if all history has valid influencer and owner ID"
      ]
    },
    {
      "cell_type": "code",
      "execution_count": null,
      "metadata": {
        "colab": {
          "base_uri": "https://localhost:8080/"
        },
        "id": "S3I9fBI36b0p",
        "outputId": "3d0cddab-1eef-499a-9bb9-46099510f6d6"
      },
      "outputs": [
        {
          "data": {
            "text/plain": [
              "True"
            ]
          },
          "execution_count": 619,
          "metadata": {},
          "output_type": "execute_result"
        }
      ],
      "source": [
        "df_history[\"inf_id\"].isin(df_influencer[\"id\"]).all()"
      ]
    },
    {
      "cell_type": "markdown",
      "metadata": {
        "id": "Us63TR4M6b0p"
      },
      "source": [
        "All history data has valid influencer and owner ID"
      ]
    },
    {
      "cell_type": "markdown",
      "metadata": {
        "id": "BV8kcF2x6b0p"
      },
      "source": [
        "### Data Normalization"
      ]
    },
    {
      "cell_type": "markdown",
      "metadata": {
        "id": "YyNya-nr6b0p"
      },
      "source": [
        "Normalize influencer data: Scale follower count and One-hot categories"
      ]
    },
    {
      "cell_type": "code",
      "execution_count": null,
      "metadata": {
        "id": "cfHCwe6a6b0q"
      },
      "outputs": [],
      "source": [
        "def one_hot(df, column):\n",
        "    one_hot = df[column].str.get_dummies()\n",
        "    col_name = one_hot.columns\n",
        "    new_name = list(map(lambda name: column + \"_\" + name, col_name))\n",
        "    one_hot.rename(columns={k: v for k, v in zip(col_name, new_name)}, inplace=True)\n",
        "\n",
        "    df = pd.concat([df, one_hot], axis=1)\n",
        "    df = df.drop(column, axis=1)\n",
        "    return df\n"
      ]
    },
    {
      "cell_type": "code",
      "execution_count": null,
      "metadata": {
        "colab": {
          "base_uri": "https://localhost:8080/",
          "height": 317
        },
        "id": "CpLHbZc_6b0q",
        "outputId": "597f0425-9cef-44f8-a974-b07251670b65"
      },
      "outputs": [
        {
          "data": {
            "text/html": [
              "<div>\n",
              "<style scoped>\n",
              "    .dataframe tbody tr th:only-of-type {\n",
              "        vertical-align: middle;\n",
              "    }\n",
              "\n",
              "    .dataframe tbody tr th {\n",
              "        vertical-align: top;\n",
              "    }\n",
              "\n",
              "    .dataframe thead th {\n",
              "        text-align: right;\n",
              "    }\n",
              "</style>\n",
              "<table border=\"1\" class=\"dataframe\">\n",
              "  <thead>\n",
              "    <tr style=\"text-align: right;\">\n",
              "      <th></th>\n",
              "      <th>id</th>\n",
              "      <th>avg_rating</th>\n",
              "      <th>pricing_LOW</th>\n",
              "      <th>pricing_BELOW_AVG</th>\n",
              "      <th>pricing_AVG</th>\n",
              "      <th>pricing_ABOVE_AVG</th>\n",
              "      <th>pricing_HIGH</th>\n",
              "      <th>Category 1</th>\n",
              "      <th>Category 10</th>\n",
              "      <th>Category 2</th>\n",
              "      <th>...</th>\n",
              "      <th>Category 8</th>\n",
              "      <th>Category 9</th>\n",
              "      <th>youtube_High</th>\n",
              "      <th>youtube_Low</th>\n",
              "      <th>youtube_Medium</th>\n",
              "      <th>tiktok_High</th>\n",
              "      <th>tiktok_Low</th>\n",
              "      <th>tiktok_Medium</th>\n",
              "      <th>insta_follower_High</th>\n",
              "      <th>insta_follower_Medium</th>\n",
              "    </tr>\n",
              "  </thead>\n",
              "  <tbody>\n",
              "    <tr>\n",
              "      <th>0</th>\n",
              "      <td>1723</td>\n",
              "      <td>0.937</td>\n",
              "      <td>0</td>\n",
              "      <td>0</td>\n",
              "      <td>1</td>\n",
              "      <td>1</td>\n",
              "      <td>1</td>\n",
              "      <td>0</td>\n",
              "      <td>0</td>\n",
              "      <td>1</td>\n",
              "      <td>...</td>\n",
              "      <td>1</td>\n",
              "      <td>0</td>\n",
              "      <td>1</td>\n",
              "      <td>0</td>\n",
              "      <td>0</td>\n",
              "      <td>1</td>\n",
              "      <td>0</td>\n",
              "      <td>0</td>\n",
              "      <td>1</td>\n",
              "      <td>0</td>\n",
              "    </tr>\n",
              "    <tr>\n",
              "      <th>1</th>\n",
              "      <td>82</td>\n",
              "      <td>0.926</td>\n",
              "      <td>0</td>\n",
              "      <td>0</td>\n",
              "      <td>1</td>\n",
              "      <td>1</td>\n",
              "      <td>1</td>\n",
              "      <td>1</td>\n",
              "      <td>0</td>\n",
              "      <td>1</td>\n",
              "      <td>...</td>\n",
              "      <td>1</td>\n",
              "      <td>0</td>\n",
              "      <td>1</td>\n",
              "      <td>0</td>\n",
              "      <td>0</td>\n",
              "      <td>1</td>\n",
              "      <td>0</td>\n",
              "      <td>0</td>\n",
              "      <td>1</td>\n",
              "      <td>0</td>\n",
              "    </tr>\n",
              "    <tr>\n",
              "      <th>2</th>\n",
              "      <td>296</td>\n",
              "      <td>0.925</td>\n",
              "      <td>0</td>\n",
              "      <td>0</td>\n",
              "      <td>1</td>\n",
              "      <td>1</td>\n",
              "      <td>0</td>\n",
              "      <td>1</td>\n",
              "      <td>0</td>\n",
              "      <td>0</td>\n",
              "      <td>...</td>\n",
              "      <td>0</td>\n",
              "      <td>0</td>\n",
              "      <td>1</td>\n",
              "      <td>0</td>\n",
              "      <td>0</td>\n",
              "      <td>1</td>\n",
              "      <td>0</td>\n",
              "      <td>0</td>\n",
              "      <td>1</td>\n",
              "      <td>0</td>\n",
              "    </tr>\n",
              "    <tr>\n",
              "      <th>3</th>\n",
              "      <td>127</td>\n",
              "      <td>0.917</td>\n",
              "      <td>0</td>\n",
              "      <td>0</td>\n",
              "      <td>1</td>\n",
              "      <td>1</td>\n",
              "      <td>1</td>\n",
              "      <td>0</td>\n",
              "      <td>0</td>\n",
              "      <td>0</td>\n",
              "      <td>...</td>\n",
              "      <td>0</td>\n",
              "      <td>0</td>\n",
              "      <td>1</td>\n",
              "      <td>0</td>\n",
              "      <td>0</td>\n",
              "      <td>1</td>\n",
              "      <td>0</td>\n",
              "      <td>0</td>\n",
              "      <td>1</td>\n",
              "      <td>0</td>\n",
              "    </tr>\n",
              "    <tr>\n",
              "      <th>4</th>\n",
              "      <td>137</td>\n",
              "      <td>0.916</td>\n",
              "      <td>0</td>\n",
              "      <td>0</td>\n",
              "      <td>1</td>\n",
              "      <td>1</td>\n",
              "      <td>1</td>\n",
              "      <td>1</td>\n",
              "      <td>0</td>\n",
              "      <td>0</td>\n",
              "      <td>...</td>\n",
              "      <td>0</td>\n",
              "      <td>0</td>\n",
              "      <td>1</td>\n",
              "      <td>0</td>\n",
              "      <td>0</td>\n",
              "      <td>1</td>\n",
              "      <td>0</td>\n",
              "      <td>0</td>\n",
              "      <td>1</td>\n",
              "      <td>0</td>\n",
              "    </tr>\n",
              "  </tbody>\n",
              "</table>\n",
              "<p>5 rows × 25 columns</p>\n",
              "</div>"
            ],
            "text/plain": [
              "     id  avg_rating  pricing_LOW  pricing_BELOW_AVG  pricing_AVG  \\\n",
              "0  1723       0.937            0                  0            1   \n",
              "1    82       0.926            0                  0            1   \n",
              "2   296       0.925            0                  0            1   \n",
              "3   127       0.917            0                  0            1   \n",
              "4   137       0.916            0                  0            1   \n",
              "\n",
              "   pricing_ABOVE_AVG  pricing_HIGH  Category 1  Category 10  Category 2  ...  \\\n",
              "0                  1             1           0            0           1  ...   \n",
              "1                  1             1           1            0           1  ...   \n",
              "2                  1             0           1            0           0  ...   \n",
              "3                  1             1           0            0           0  ...   \n",
              "4                  1             1           1            0           0  ...   \n",
              "\n",
              "   Category 8  Category 9  youtube_High  youtube_Low  youtube_Medium  \\\n",
              "0           1           0             1            0               0   \n",
              "1           1           0             1            0               0   \n",
              "2           0           0             1            0               0   \n",
              "3           0           0             1            0               0   \n",
              "4           0           0             1            0               0   \n",
              "\n",
              "   tiktok_High  tiktok_Low  tiktok_Medium  insta_follower_High  \\\n",
              "0            1           0              0                    1   \n",
              "1            1           0              0                    1   \n",
              "2            1           0              0                    1   \n",
              "3            1           0              0                    1   \n",
              "4            1           0              0                    1   \n",
              "\n",
              "   insta_follower_Medium  \n",
              "0                      0  \n",
              "1                      0  \n",
              "2                      0  \n",
              "3                      0  \n",
              "4                      0  \n",
              "\n",
              "[5 rows x 25 columns]"
            ]
          },
          "execution_count": 621,
          "metadata": {},
          "output_type": "execute_result"
        }
      ],
      "source": [
        "YOUTUBE_HIGH_THRES = 2_000_000\n",
        "YOUTUBE_LOW_THRES = 100_000\n",
        "TIKTOK_HIGH_THRES = 2_000_000\n",
        "TIKTOK_LOW_THRES = 100_000\n",
        "INSTAGRAM_HIGH_THRES = 1_000_000\n",
        "INSTAGRAM_LOW_THRES = 50_000\n",
        "\n",
        "# follower_scaler = MinMaxScaler()\n",
        "\n",
        "df_inf_norm = df_influencer.copy()\n",
        "df_inf_norm['avg_rating'] = df_inf_norm[['avg_rating']] / 10\n",
        "# df_inf_norm[[\"insta_follower\", \"tiktok\", \"youtube\"]] = follower_scaler.fit_transform(df_inf_norm[[\"insta_follower\", \"tiktok\", \"youtube\"]])\n",
        "\n",
        "# df_inf_norm = one_hot(df_inf_norm, 'price_category') \n",
        "\n",
        "one_hot_categories = df_inf_norm['categories'].str.get_dummies(sep=',')\n",
        "df_inf_norm = pd.concat([df_inf_norm, one_hot_categories], axis=1)\n",
        "df_inf_norm = df_inf_norm.drop('categories', axis=1)\n",
        "\n",
        "youtube_bin = [0, YOUTUBE_LOW_THRES, YOUTUBE_HIGH_THRES, df_inf_norm['youtube'].max()]\n",
        "tiktok_bin = [0, TIKTOK_LOW_THRES, TIKTOK_HIGH_THRES, df_inf_norm['tiktok'].max()]\n",
        "insta_bin = [0, INSTAGRAM_LOW_THRES, INSTAGRAM_HIGH_THRES, df_inf_norm['insta_follower'].max()]\n",
        "\n",
        "df_inf_norm['youtube'] = pd.cut(df_inf_norm['youtube'],bins=youtube_bin, labels=[\"Low\", \"Medium\", \"High\"])  \n",
        "df_inf_norm = one_hot(df_inf_norm, 'youtube') \n",
        "\n",
        "df_inf_norm['tiktok'] = pd.cut(df_inf_norm['tiktok'],bins=tiktok_bin, labels=[\"Low\", \"Medium\", \"High\"])  \n",
        "df_inf_norm = one_hot(df_inf_norm, 'tiktok') \n",
        "\n",
        "df_inf_norm['insta_follower'] = pd.cut(df_inf_norm['insta_follower'],bins=insta_bin, labels=[\"Low\", \"Medium\", \"High\"])  \n",
        "df_inf_norm = one_hot(df_inf_norm, 'insta_follower') \n",
        "\n",
        "df_inf_norm.head()"
      ]
    },
    {
      "cell_type": "markdown",
      "metadata": {
        "id": "Xcb1BIyd6b0q"
      },
      "source": [
        "Combine star and sentiment rating"
      ]
    },
    {
      "cell_type": "code",
      "execution_count": null,
      "metadata": {
        "colab": {
          "base_uri": "https://localhost:8080/",
          "height": 423
        },
        "id": "DVaCP1n-6b0q",
        "outputId": "1c75bd32-5079-4ea1-94ac-efca455f8e71"
      },
      "outputs": [
        {
          "data": {
            "text/html": [
              "<div>\n",
              "<style scoped>\n",
              "    .dataframe tbody tr th:only-of-type {\n",
              "        vertical-align: middle;\n",
              "    }\n",
              "\n",
              "    .dataframe tbody tr th {\n",
              "        vertical-align: top;\n",
              "    }\n",
              "\n",
              "    .dataframe thead th {\n",
              "        text-align: right;\n",
              "    }\n",
              "</style>\n",
              "<table border=\"1\" class=\"dataframe\">\n",
              "  <thead>\n",
              "    <tr style=\"text-align: right;\">\n",
              "      <th></th>\n",
              "      <th>own_id</th>\n",
              "      <th>inf_id</th>\n",
              "      <th>star_rating</th>\n",
              "      <th>sentiment_rating</th>\n",
              "      <th>combined_rating</th>\n",
              "    </tr>\n",
              "  </thead>\n",
              "  <tbody>\n",
              "    <tr>\n",
              "      <th>0</th>\n",
              "      <td>2</td>\n",
              "      <td>12</td>\n",
              "      <td>5</td>\n",
              "      <td>1.00</td>\n",
              "      <td>1.000</td>\n",
              "    </tr>\n",
              "    <tr>\n",
              "      <th>1</th>\n",
              "      <td>2</td>\n",
              "      <td>13</td>\n",
              "      <td>4</td>\n",
              "      <td>0.71</td>\n",
              "      <td>0.764</td>\n",
              "    </tr>\n",
              "    <tr>\n",
              "      <th>2</th>\n",
              "      <td>2</td>\n",
              "      <td>14</td>\n",
              "      <td>4</td>\n",
              "      <td>0.71</td>\n",
              "      <td>0.764</td>\n",
              "    </tr>\n",
              "    <tr>\n",
              "      <th>3</th>\n",
              "      <td>2</td>\n",
              "      <td>15</td>\n",
              "      <td>4</td>\n",
              "      <td>0.69</td>\n",
              "      <td>0.756</td>\n",
              "    </tr>\n",
              "    <tr>\n",
              "      <th>4</th>\n",
              "      <td>2</td>\n",
              "      <td>16</td>\n",
              "      <td>4</td>\n",
              "      <td>0.87</td>\n",
              "      <td>0.828</td>\n",
              "    </tr>\n",
              "    <tr>\n",
              "      <th>...</th>\n",
              "      <td>...</td>\n",
              "      <td>...</td>\n",
              "      <td>...</td>\n",
              "      <td>...</td>\n",
              "      <td>...</td>\n",
              "    </tr>\n",
              "    <tr>\n",
              "      <th>152888</th>\n",
              "      <td>4975</td>\n",
              "      <td>546</td>\n",
              "      <td>4</td>\n",
              "      <td>0.77</td>\n",
              "      <td>0.788</td>\n",
              "    </tr>\n",
              "    <tr>\n",
              "      <th>152889</th>\n",
              "      <td>4975</td>\n",
              "      <td>408</td>\n",
              "      <td>5</td>\n",
              "      <td>0.95</td>\n",
              "      <td>0.980</td>\n",
              "    </tr>\n",
              "    <tr>\n",
              "      <th>152890</th>\n",
              "      <td>4975</td>\n",
              "      <td>158</td>\n",
              "      <td>4</td>\n",
              "      <td>0.88</td>\n",
              "      <td>0.832</td>\n",
              "    </tr>\n",
              "    <tr>\n",
              "      <th>152891</th>\n",
              "      <td>4975</td>\n",
              "      <td>874</td>\n",
              "      <td>4</td>\n",
              "      <td>0.83</td>\n",
              "      <td>0.812</td>\n",
              "    </tr>\n",
              "    <tr>\n",
              "      <th>152892</th>\n",
              "      <td>4975</td>\n",
              "      <td>879</td>\n",
              "      <td>4</td>\n",
              "      <td>0.70</td>\n",
              "      <td>0.760</td>\n",
              "    </tr>\n",
              "  </tbody>\n",
              "</table>\n",
              "<p>152893 rows × 5 columns</p>\n",
              "</div>"
            ],
            "text/plain": [
              "        own_id  inf_id  star_rating  sentiment_rating  combined_rating\n",
              "0            2      12            5              1.00            1.000\n",
              "1            2      13            4              0.71            0.764\n",
              "2            2      14            4              0.71            0.764\n",
              "3            2      15            4              0.69            0.756\n",
              "4            2      16            4              0.87            0.828\n",
              "...        ...     ...          ...               ...              ...\n",
              "152888    4975     546            4              0.77            0.788\n",
              "152889    4975     408            5              0.95            0.980\n",
              "152890    4975     158            4              0.88            0.832\n",
              "152891    4975     874            4              0.83            0.812\n",
              "152892    4975     879            4              0.70            0.760\n",
              "\n",
              "[152893 rows x 5 columns]"
            ]
          },
          "execution_count": 622,
          "metadata": {},
          "output_type": "execute_result"
        }
      ],
      "source": [
        "STAR_WEIGHT = 0.6\n",
        "SENTIMENT_WEIGHT = 0.4\n",
        "\n",
        "df_history[\"combined_rating\"] = STAR_WEIGHT * df_history[\"star_rating\"] / 5 + SENTIMENT_WEIGHT * df_history[\"sentiment_rating\"]\n",
        "df_history"
      ]
    },
    {
      "cell_type": "code",
      "execution_count": null,
      "metadata": {
        "colab": {
          "base_uri": "https://localhost:8080/",
          "height": 237
        },
        "id": "B-Q_KqeL6b0q",
        "outputId": "c2f11855-ee72-4abd-abae-a0d9ba95defd"
      },
      "outputs": [
        {
          "data": {
            "text/html": [
              "<div>\n",
              "<style scoped>\n",
              "    .dataframe tbody tr th:only-of-type {\n",
              "        vertical-align: middle;\n",
              "    }\n",
              "\n",
              "    .dataframe tbody tr th {\n",
              "        vertical-align: top;\n",
              "    }\n",
              "\n",
              "    .dataframe thead th {\n",
              "        text-align: right;\n",
              "    }\n",
              "</style>\n",
              "<table border=\"1\" class=\"dataframe\">\n",
              "  <thead>\n",
              "    <tr style=\"text-align: right;\">\n",
              "      <th></th>\n",
              "      <th>own_id</th>\n",
              "      <th>inf_id</th>\n",
              "      <th>sentiment_rating</th>\n",
              "      <th>combined_rating</th>\n",
              "    </tr>\n",
              "    <tr>\n",
              "      <th>star_rating</th>\n",
              "      <th></th>\n",
              "      <th></th>\n",
              "      <th></th>\n",
              "      <th></th>\n",
              "    </tr>\n",
              "  </thead>\n",
              "  <tbody>\n",
              "    <tr>\n",
              "      <th>1</th>\n",
              "      <td>1485</td>\n",
              "      <td>1485</td>\n",
              "      <td>1485</td>\n",
              "      <td>1485</td>\n",
              "    </tr>\n",
              "    <tr>\n",
              "      <th>2</th>\n",
              "      <td>4528</td>\n",
              "      <td>4528</td>\n",
              "      <td>4528</td>\n",
              "      <td>4528</td>\n",
              "    </tr>\n",
              "    <tr>\n",
              "      <th>3</th>\n",
              "      <td>26534</td>\n",
              "      <td>26534</td>\n",
              "      <td>26534</td>\n",
              "      <td>26534</td>\n",
              "    </tr>\n",
              "    <tr>\n",
              "      <th>4</th>\n",
              "      <td>79394</td>\n",
              "      <td>79394</td>\n",
              "      <td>79394</td>\n",
              "      <td>79394</td>\n",
              "    </tr>\n",
              "    <tr>\n",
              "      <th>5</th>\n",
              "      <td>40952</td>\n",
              "      <td>40952</td>\n",
              "      <td>40952</td>\n",
              "      <td>40952</td>\n",
              "    </tr>\n",
              "  </tbody>\n",
              "</table>\n",
              "</div>"
            ],
            "text/plain": [
              "             own_id  inf_id  sentiment_rating  combined_rating\n",
              "star_rating                                                   \n",
              "1              1485    1485              1485             1485\n",
              "2              4528    4528              4528             4528\n",
              "3             26534   26534             26534            26534\n",
              "4             79394   79394             79394            79394\n",
              "5             40952   40952             40952            40952"
            ]
          },
          "execution_count": 623,
          "metadata": {},
          "output_type": "execute_result"
        }
      ],
      "source": [
        "rating_count = df_history.groupby(\"star_rating\").count()\n",
        "rating_count"
      ]
    },
    {
      "cell_type": "code",
      "execution_count": null,
      "metadata": {
        "colab": {
          "base_uri": "https://localhost:8080/",
          "height": 452
        },
        "id": "HC9K0tAC6b0q",
        "outputId": "468ee171-bfbb-4563-a91b-60f5f4a26504"
      },
      "outputs": [
        {
          "data": {
            "image/png": "[encoded data removed]",
            "text/plain": [
              "<Figure size 640x480 with 1 Axes>"
            ]
          },
          "metadata": {},
          "output_type": "display_data"
        }
      ],
      "source": [
        "# Chart labels\n",
        "rating_count = rating_count[\"own_id\"].to_numpy()\n",
        "ratings = range(1, 6)\n",
        "\n",
        "# Show pie chart\n",
        "plt.title(\"Label Distribution\")\n",
        "plt.bar(x=ratings, height=rating_count)\n",
        "plt.show()"
      ]
    },
    {
      "cell_type": "markdown",
      "metadata": {
        "id": "3sUSIjmm6b0q"
      },
      "source": [
        "### Data Splitting"
      ]
    },
    {
      "cell_type": "markdown",
      "metadata": {
        "id": "2DrKr_136b0t"
      },
      "source": [
        "##### Creating user profile"
      ]
    },
    {
      "cell_type": "code",
      "execution_count": null,
      "metadata": {
        "colab": {
          "base_uri": "https://localhost:8080/",
          "height": 317
        },
        "id": "fMvj4hLx6b0t",
        "outputId": "ae5fe2ac-f2ae-48c4-f069-de405d5bb5a5"
      },
      "outputs": [
        {
          "data": {
            "text/html": [
              "<div>\n",
              "<style scoped>\n",
              "    .dataframe tbody tr th:only-of-type {\n",
              "        vertical-align: middle;\n",
              "    }\n",
              "\n",
              "    .dataframe tbody tr th {\n",
              "        vertical-align: top;\n",
              "    }\n",
              "\n",
              "    .dataframe thead th {\n",
              "        text-align: right;\n",
              "    }\n",
              "</style>\n",
              "<table border=\"1\" class=\"dataframe\">\n",
              "  <thead>\n",
              "    <tr style=\"text-align: right;\">\n",
              "      <th></th>\n",
              "      <th>own_id</th>\n",
              "      <th>inf_id</th>\n",
              "      <th>combined_rating</th>\n",
              "      <th>id</th>\n",
              "      <th>avg_rating</th>\n",
              "      <th>pricing_LOW</th>\n",
              "      <th>pricing_BELOW_AVG</th>\n",
              "      <th>pricing_AVG</th>\n",
              "      <th>pricing_ABOVE_AVG</th>\n",
              "      <th>pricing_HIGH</th>\n",
              "      <th>...</th>\n",
              "      <th>Category 8</th>\n",
              "      <th>Category 9</th>\n",
              "      <th>youtube_High</th>\n",
              "      <th>youtube_Low</th>\n",
              "      <th>youtube_Medium</th>\n",
              "      <th>tiktok_High</th>\n",
              "      <th>tiktok_Low</th>\n",
              "      <th>tiktok_Medium</th>\n",
              "      <th>insta_follower_High</th>\n",
              "      <th>insta_follower_Medium</th>\n",
              "    </tr>\n",
              "  </thead>\n",
              "  <tbody>\n",
              "    <tr>\n",
              "      <th>0</th>\n",
              "      <td>2</td>\n",
              "      <td>12</td>\n",
              "      <td>1.000</td>\n",
              "      <td>12</td>\n",
              "      <td>0.882</td>\n",
              "      <td>0</td>\n",
              "      <td>0</td>\n",
              "      <td>1</td>\n",
              "      <td>1</td>\n",
              "      <td>1</td>\n",
              "      <td>...</td>\n",
              "      <td>0</td>\n",
              "      <td>0</td>\n",
              "      <td>1</td>\n",
              "      <td>0</td>\n",
              "      <td>0</td>\n",
              "      <td>1</td>\n",
              "      <td>0</td>\n",
              "      <td>0</td>\n",
              "      <td>1</td>\n",
              "      <td>0</td>\n",
              "    </tr>\n",
              "    <tr>\n",
              "      <th>1</th>\n",
              "      <td>2</td>\n",
              "      <td>13</td>\n",
              "      <td>0.764</td>\n",
              "      <td>13</td>\n",
              "      <td>0.781</td>\n",
              "      <td>0</td>\n",
              "      <td>0</td>\n",
              "      <td>1</td>\n",
              "      <td>1</td>\n",
              "      <td>1</td>\n",
              "      <td>...</td>\n",
              "      <td>0</td>\n",
              "      <td>0</td>\n",
              "      <td>1</td>\n",
              "      <td>0</td>\n",
              "      <td>0</td>\n",
              "      <td>1</td>\n",
              "      <td>0</td>\n",
              "      <td>0</td>\n",
              "      <td>1</td>\n",
              "      <td>0</td>\n",
              "    </tr>\n",
              "    <tr>\n",
              "      <th>2</th>\n",
              "      <td>2</td>\n",
              "      <td>14</td>\n",
              "      <td>0.764</td>\n",
              "      <td>14</td>\n",
              "      <td>0.843</td>\n",
              "      <td>0</td>\n",
              "      <td>0</td>\n",
              "      <td>1</td>\n",
              "      <td>1</td>\n",
              "      <td>1</td>\n",
              "      <td>...</td>\n",
              "      <td>0</td>\n",
              "      <td>0</td>\n",
              "      <td>1</td>\n",
              "      <td>0</td>\n",
              "      <td>0</td>\n",
              "      <td>1</td>\n",
              "      <td>0</td>\n",
              "      <td>0</td>\n",
              "      <td>1</td>\n",
              "      <td>0</td>\n",
              "    </tr>\n",
              "    <tr>\n",
              "      <th>3</th>\n",
              "      <td>2</td>\n",
              "      <td>15</td>\n",
              "      <td>0.756</td>\n",
              "      <td>15</td>\n",
              "      <td>0.719</td>\n",
              "      <td>0</td>\n",
              "      <td>0</td>\n",
              "      <td>1</td>\n",
              "      <td>0</td>\n",
              "      <td>0</td>\n",
              "      <td>...</td>\n",
              "      <td>1</td>\n",
              "      <td>1</td>\n",
              "      <td>1</td>\n",
              "      <td>0</td>\n",
              "      <td>0</td>\n",
              "      <td>1</td>\n",
              "      <td>0</td>\n",
              "      <td>0</td>\n",
              "      <td>1</td>\n",
              "      <td>0</td>\n",
              "    </tr>\n",
              "    <tr>\n",
              "      <th>4</th>\n",
              "      <td>2</td>\n",
              "      <td>16</td>\n",
              "      <td>0.828</td>\n",
              "      <td>16</td>\n",
              "      <td>0.780</td>\n",
              "      <td>0</td>\n",
              "      <td>0</td>\n",
              "      <td>1</td>\n",
              "      <td>1</td>\n",
              "      <td>1</td>\n",
              "      <td>...</td>\n",
              "      <td>1</td>\n",
              "      <td>0</td>\n",
              "      <td>1</td>\n",
              "      <td>0</td>\n",
              "      <td>0</td>\n",
              "      <td>1</td>\n",
              "      <td>0</td>\n",
              "      <td>0</td>\n",
              "      <td>1</td>\n",
              "      <td>0</td>\n",
              "    </tr>\n",
              "  </tbody>\n",
              "</table>\n",
              "<p>5 rows × 28 columns</p>\n",
              "</div>"
            ],
            "text/plain": [
              "   own_id  inf_id  combined_rating  id  avg_rating  pricing_LOW  \\\n",
              "0       2      12            1.000  12       0.882            0   \n",
              "1       2      13            0.764  13       0.781            0   \n",
              "2       2      14            0.764  14       0.843            0   \n",
              "3       2      15            0.756  15       0.719            0   \n",
              "4       2      16            0.828  16       0.780            0   \n",
              "\n",
              "   pricing_BELOW_AVG  pricing_AVG  pricing_ABOVE_AVG  pricing_HIGH  ...  \\\n",
              "0                  0            1                  1             1  ...   \n",
              "1                  0            1                  1             1  ...   \n",
              "2                  0            1                  1             1  ...   \n",
              "3                  0            1                  0             0  ...   \n",
              "4                  0            1                  1             1  ...   \n",
              "\n",
              "   Category 8  Category 9  youtube_High  youtube_Low  youtube_Medium  \\\n",
              "0           0           0             1            0               0   \n",
              "1           0           0             1            0               0   \n",
              "2           0           0             1            0               0   \n",
              "3           1           1             1            0               0   \n",
              "4           1           0             1            0               0   \n",
              "\n",
              "   tiktok_High  tiktok_Low  tiktok_Medium  insta_follower_High  \\\n",
              "0            1           0              0                    1   \n",
              "1            1           0              0                    1   \n",
              "2            1           0              0                    1   \n",
              "3            1           0              0                    1   \n",
              "4            1           0              0                    1   \n",
              "\n",
              "   insta_follower_Medium  \n",
              "0                      0  \n",
              "1                      0  \n",
              "2                      0  \n",
              "3                      0  \n",
              "4                      0  \n",
              "\n",
              "[5 rows x 28 columns]"
            ]
          },
          "execution_count": 625,
          "metadata": {},
          "output_type": "execute_result"
        }
      ],
      "source": [
        "# df_history = df_history.drop([\"star_rating\", \"sentiment_rating\"], axis=1)\n",
        "df_inf_features = pd.merge(df_history, df_inf_norm, left_on='inf_id', right_on='id', how='left')\n",
        "df_inf_features = df_inf_features.drop([\"star_rating\", \"sentiment_rating\"], axis=1)\n",
        "df_inf_features.head()"
      ]
    },
    {
      "cell_type": "code",
      "execution_count": null,
      "metadata": {
        "colab": {
          "base_uri": "https://localhost:8080/",
          "height": 317
        },
        "id": "6oYU-P1T6b0t",
        "outputId": "6be16577-592b-45e5-eec9-377e006ee8c6"
      },
      "outputs": [
        {
          "data": {
            "text/html": [
              "<div>\n",
              "<style scoped>\n",
              "    .dataframe tbody tr th:only-of-type {\n",
              "        vertical-align: middle;\n",
              "    }\n",
              "\n",
              "    .dataframe tbody tr th {\n",
              "        vertical-align: top;\n",
              "    }\n",
              "\n",
              "    .dataframe thead th {\n",
              "        text-align: right;\n",
              "    }\n",
              "</style>\n",
              "<table border=\"1\" class=\"dataframe\">\n",
              "  <thead>\n",
              "    <tr style=\"text-align: right;\">\n",
              "      <th></th>\n",
              "      <th>id</th>\n",
              "      <th>pricing_LOW</th>\n",
              "      <th>pricing_BELOW_AVG</th>\n",
              "      <th>pricing_AVG</th>\n",
              "      <th>pricing_ABOVE_AVG</th>\n",
              "      <th>pricing_HIGH</th>\n",
              "      <th>Category 1</th>\n",
              "      <th>Category 10</th>\n",
              "      <th>Category 2</th>\n",
              "      <th>Category 3</th>\n",
              "      <th>...</th>\n",
              "      <th>Category 8</th>\n",
              "      <th>Category 9</th>\n",
              "      <th>youtube_High</th>\n",
              "      <th>youtube_Low</th>\n",
              "      <th>youtube_Medium</th>\n",
              "      <th>tiktok_High</th>\n",
              "      <th>tiktok_Low</th>\n",
              "      <th>tiktok_Medium</th>\n",
              "      <th>insta_follower_High</th>\n",
              "      <th>insta_follower_Medium</th>\n",
              "    </tr>\n",
              "  </thead>\n",
              "  <tbody>\n",
              "    <tr>\n",
              "      <th>0</th>\n",
              "      <td>2</td>\n",
              "      <td>0.033024</td>\n",
              "      <td>0.071675</td>\n",
              "      <td>0.762157</td>\n",
              "      <td>0.509590</td>\n",
              "      <td>0.433301</td>\n",
              "      <td>0.425542</td>\n",
              "      <td>0.001759</td>\n",
              "      <td>0.503988</td>\n",
              "      <td>0.113181</td>\n",
              "      <td>...</td>\n",
              "      <td>0.430542</td>\n",
              "      <td>0.016373</td>\n",
              "      <td>0.751108</td>\n",
              "      <td>0.0</td>\n",
              "      <td>0.128289</td>\n",
              "      <td>0.694771</td>\n",
              "      <td>0.000000</td>\n",
              "      <td>0.184627</td>\n",
              "      <td>0.757663</td>\n",
              "      <td>0.121735</td>\n",
              "    </tr>\n",
              "    <tr>\n",
              "      <th>1</th>\n",
              "      <td>13</td>\n",
              "      <td>0.057301</td>\n",
              "      <td>0.135744</td>\n",
              "      <td>0.623603</td>\n",
              "      <td>0.368666</td>\n",
              "      <td>0.286431</td>\n",
              "      <td>0.417197</td>\n",
              "      <td>0.001130</td>\n",
              "      <td>0.483450</td>\n",
              "      <td>0.076165</td>\n",
              "      <td>...</td>\n",
              "      <td>0.418162</td>\n",
              "      <td>0.000000</td>\n",
              "      <td>0.595798</td>\n",
              "      <td>0.0</td>\n",
              "      <td>0.232085</td>\n",
              "      <td>0.532061</td>\n",
              "      <td>0.001111</td>\n",
              "      <td>0.294711</td>\n",
              "      <td>0.632959</td>\n",
              "      <td>0.194925</td>\n",
              "    </tr>\n",
              "    <tr>\n",
              "      <th>2</th>\n",
              "      <td>16</td>\n",
              "      <td>0.005261</td>\n",
              "      <td>0.014584</td>\n",
              "      <td>0.796327</td>\n",
              "      <td>0.584996</td>\n",
              "      <td>0.489712</td>\n",
              "      <td>0.478350</td>\n",
              "      <td>0.004669</td>\n",
              "      <td>0.519346</td>\n",
              "      <td>0.033852</td>\n",
              "      <td>...</td>\n",
              "      <td>0.422272</td>\n",
              "      <td>0.000000</td>\n",
              "      <td>0.765743</td>\n",
              "      <td>0.0</td>\n",
              "      <td>0.064093</td>\n",
              "      <td>0.733650</td>\n",
              "      <td>0.000000</td>\n",
              "      <td>0.096187</td>\n",
              "      <td>0.799875</td>\n",
              "      <td>0.029961</td>\n",
              "    </tr>\n",
              "    <tr>\n",
              "      <th>3</th>\n",
              "      <td>30</td>\n",
              "      <td>0.044451</td>\n",
              "      <td>0.099986</td>\n",
              "      <td>0.646493</td>\n",
              "      <td>0.415127</td>\n",
              "      <td>0.336169</td>\n",
              "      <td>0.413070</td>\n",
              "      <td>0.016141</td>\n",
              "      <td>0.467507</td>\n",
              "      <td>0.036324</td>\n",
              "      <td>...</td>\n",
              "      <td>0.328282</td>\n",
              "      <td>0.000000</td>\n",
              "      <td>0.626141</td>\n",
              "      <td>0.0</td>\n",
              "      <td>0.161972</td>\n",
              "      <td>0.571352</td>\n",
              "      <td>0.000000</td>\n",
              "      <td>0.216761</td>\n",
              "      <td>0.645507</td>\n",
              "      <td>0.142606</td>\n",
              "    </tr>\n",
              "    <tr>\n",
              "      <th>4</th>\n",
              "      <td>34</td>\n",
              "      <td>0.041405</td>\n",
              "      <td>0.107172</td>\n",
              "      <td>0.680172</td>\n",
              "      <td>0.392302</td>\n",
              "      <td>0.324397</td>\n",
              "      <td>0.426741</td>\n",
              "      <td>0.007138</td>\n",
              "      <td>0.449621</td>\n",
              "      <td>0.070328</td>\n",
              "      <td>...</td>\n",
              "      <td>0.444517</td>\n",
              "      <td>0.015112</td>\n",
              "      <td>0.650741</td>\n",
              "      <td>0.0</td>\n",
              "      <td>0.187974</td>\n",
              "      <td>0.607810</td>\n",
              "      <td>0.000000</td>\n",
              "      <td>0.230905</td>\n",
              "      <td>0.689664</td>\n",
              "      <td>0.149052</td>\n",
              "    </tr>\n",
              "  </tbody>\n",
              "</table>\n",
              "<p>5 rows × 24 columns</p>\n",
              "</div>"
            ],
            "text/plain": [
              "   id  pricing_LOW  pricing_BELOW_AVG  pricing_AVG  pricing_ABOVE_AVG  \\\n",
              "0   2     0.033024           0.071675     0.762157           0.509590   \n",
              "1  13     0.057301           0.135744     0.623603           0.368666   \n",
              "2  16     0.005261           0.014584     0.796327           0.584996   \n",
              "3  30     0.044451           0.099986     0.646493           0.415127   \n",
              "4  34     0.041405           0.107172     0.680172           0.392302   \n",
              "\n",
              "   pricing_HIGH  Category 1  Category 10  Category 2  Category 3  ...  \\\n",
              "0      0.433301    0.425542     0.001759    0.503988    0.113181  ...   \n",
              "1      0.286431    0.417197     0.001130    0.483450    0.076165  ...   \n",
              "2      0.489712    0.478350     0.004669    0.519346    0.033852  ...   \n",
              "3      0.336169    0.413070     0.016141    0.467507    0.036324  ...   \n",
              "4      0.324397    0.426741     0.007138    0.449621    0.070328  ...   \n",
              "\n",
              "   Category 8  Category 9  youtube_High  youtube_Low  youtube_Medium  \\\n",
              "0    0.430542    0.016373      0.751108          0.0        0.128289   \n",
              "1    0.418162    0.000000      0.595798          0.0        0.232085   \n",
              "2    0.422272    0.000000      0.765743          0.0        0.064093   \n",
              "3    0.328282    0.000000      0.626141          0.0        0.161972   \n",
              "4    0.444517    0.015112      0.650741          0.0        0.187974   \n",
              "\n",
              "   tiktok_High  tiktok_Low  tiktok_Medium  insta_follower_High  \\\n",
              "0     0.694771    0.000000       0.184627             0.757663   \n",
              "1     0.532061    0.001111       0.294711             0.632959   \n",
              "2     0.733650    0.000000       0.096187             0.799875   \n",
              "3     0.571352    0.000000       0.216761             0.645507   \n",
              "4     0.607810    0.000000       0.230905             0.689664   \n",
              "\n",
              "   insta_follower_Medium  \n",
              "0               0.121735  \n",
              "1               0.194925  \n",
              "2               0.029961  \n",
              "3               0.142606  \n",
              "4               0.149052  \n",
              "\n",
              "[5 rows x 24 columns]"
            ]
          },
          "execution_count": 626,
          "metadata": {},
          "output_type": "execute_result"
        }
      ],
      "source": [
        "OWNER_FEATURES = df_inf_norm.columns[1:]\n",
        "\n",
        "# Copy influencer features combined with history data\n",
        "df_own_norm = df_inf_features.copy()\n",
        "\n",
        "# Multiply influencer feature with user rating\n",
        "df_own_norm[OWNER_FEATURES] = df_own_norm[OWNER_FEATURES].mul(df_own_norm['combined_rating'], axis=0) \n",
        "\n",
        "# Drop unimportant features\n",
        "df_own_norm = df_own_norm.drop([\"inf_id\", \"id\", \"combined_rating\"], axis=1)\n",
        "\n",
        "# Average those with same owner id to make user profile\n",
        "df_own_norm = df_own_norm.groupby('own_id').mean().reset_index()\n",
        "df_own_norm.rename(columns={'own_id': 'id'}, inplace=True)\n",
        "\n",
        "df_own_norm = df_own_norm.drop(['avg_rating'], axis=1)\n",
        "df_own_norm.head()"
      ]
    },
    {
      "cell_type": "markdown",
      "metadata": {
        "id": "74A492i96b0u"
      },
      "source": [
        "##### Process feature and label"
      ]
    },
    {
      "cell_type": "markdown",
      "metadata": {
        "id": "xdSaGqrr6b0u"
      },
      "source": [
        "Influencer features"
      ]
    },
    {
      "cell_type": "code",
      "execution_count": null,
      "metadata": {
        "colab": {
          "base_uri": "https://localhost:8080/",
          "height": 317
        },
        "id": "MbzVS77r6b0u",
        "outputId": "816b8c73-d73a-45be-c3ff-c487ab895983"
      },
      "outputs": [
        {
          "data": {
            "text/html": [
              "<div>\n",
              "<style scoped>\n",
              "    .dataframe tbody tr th:only-of-type {\n",
              "        vertical-align: middle;\n",
              "    }\n",
              "\n",
              "    .dataframe tbody tr th {\n",
              "        vertical-align: top;\n",
              "    }\n",
              "\n",
              "    .dataframe thead th {\n",
              "        text-align: right;\n",
              "    }\n",
              "</style>\n",
              "<table border=\"1\" class=\"dataframe\">\n",
              "  <thead>\n",
              "    <tr style=\"text-align: right;\">\n",
              "      <th></th>\n",
              "      <th>combined_rating</th>\n",
              "      <th>avg_rating</th>\n",
              "      <th>pricing_LOW</th>\n",
              "      <th>pricing_BELOW_AVG</th>\n",
              "      <th>pricing_AVG</th>\n",
              "      <th>pricing_ABOVE_AVG</th>\n",
              "      <th>pricing_HIGH</th>\n",
              "      <th>Category 1</th>\n",
              "      <th>Category 10</th>\n",
              "      <th>Category 2</th>\n",
              "      <th>...</th>\n",
              "      <th>Category 8</th>\n",
              "      <th>Category 9</th>\n",
              "      <th>youtube_High</th>\n",
              "      <th>youtube_Low</th>\n",
              "      <th>youtube_Medium</th>\n",
              "      <th>tiktok_High</th>\n",
              "      <th>tiktok_Low</th>\n",
              "      <th>tiktok_Medium</th>\n",
              "      <th>insta_follower_High</th>\n",
              "      <th>insta_follower_Medium</th>\n",
              "    </tr>\n",
              "  </thead>\n",
              "  <tbody>\n",
              "    <tr>\n",
              "      <th>0</th>\n",
              "      <td>1.000</td>\n",
              "      <td>0.882</td>\n",
              "      <td>0</td>\n",
              "      <td>0</td>\n",
              "      <td>1</td>\n",
              "      <td>1</td>\n",
              "      <td>1</td>\n",
              "      <td>1</td>\n",
              "      <td>0</td>\n",
              "      <td>1</td>\n",
              "      <td>...</td>\n",
              "      <td>0</td>\n",
              "      <td>0</td>\n",
              "      <td>1</td>\n",
              "      <td>0</td>\n",
              "      <td>0</td>\n",
              "      <td>1</td>\n",
              "      <td>0</td>\n",
              "      <td>0</td>\n",
              "      <td>1</td>\n",
              "      <td>0</td>\n",
              "    </tr>\n",
              "    <tr>\n",
              "      <th>1</th>\n",
              "      <td>0.764</td>\n",
              "      <td>0.781</td>\n",
              "      <td>0</td>\n",
              "      <td>0</td>\n",
              "      <td>1</td>\n",
              "      <td>1</td>\n",
              "      <td>1</td>\n",
              "      <td>1</td>\n",
              "      <td>0</td>\n",
              "      <td>0</td>\n",
              "      <td>...</td>\n",
              "      <td>0</td>\n",
              "      <td>0</td>\n",
              "      <td>1</td>\n",
              "      <td>0</td>\n",
              "      <td>0</td>\n",
              "      <td>1</td>\n",
              "      <td>0</td>\n",
              "      <td>0</td>\n",
              "      <td>1</td>\n",
              "      <td>0</td>\n",
              "    </tr>\n",
              "    <tr>\n",
              "      <th>2</th>\n",
              "      <td>0.764</td>\n",
              "      <td>0.843</td>\n",
              "      <td>0</td>\n",
              "      <td>0</td>\n",
              "      <td>1</td>\n",
              "      <td>1</td>\n",
              "      <td>1</td>\n",
              "      <td>1</td>\n",
              "      <td>0</td>\n",
              "      <td>1</td>\n",
              "      <td>...</td>\n",
              "      <td>0</td>\n",
              "      <td>0</td>\n",
              "      <td>1</td>\n",
              "      <td>0</td>\n",
              "      <td>0</td>\n",
              "      <td>1</td>\n",
              "      <td>0</td>\n",
              "      <td>0</td>\n",
              "      <td>1</td>\n",
              "      <td>0</td>\n",
              "    </tr>\n",
              "    <tr>\n",
              "      <th>3</th>\n",
              "      <td>0.756</td>\n",
              "      <td>0.719</td>\n",
              "      <td>0</td>\n",
              "      <td>0</td>\n",
              "      <td>1</td>\n",
              "      <td>0</td>\n",
              "      <td>0</td>\n",
              "      <td>1</td>\n",
              "      <td>0</td>\n",
              "      <td>1</td>\n",
              "      <td>...</td>\n",
              "      <td>1</td>\n",
              "      <td>1</td>\n",
              "      <td>1</td>\n",
              "      <td>0</td>\n",
              "      <td>0</td>\n",
              "      <td>1</td>\n",
              "      <td>0</td>\n",
              "      <td>0</td>\n",
              "      <td>1</td>\n",
              "      <td>0</td>\n",
              "    </tr>\n",
              "    <tr>\n",
              "      <th>4</th>\n",
              "      <td>0.828</td>\n",
              "      <td>0.780</td>\n",
              "      <td>0</td>\n",
              "      <td>0</td>\n",
              "      <td>1</td>\n",
              "      <td>1</td>\n",
              "      <td>1</td>\n",
              "      <td>1</td>\n",
              "      <td>0</td>\n",
              "      <td>1</td>\n",
              "      <td>...</td>\n",
              "      <td>1</td>\n",
              "      <td>0</td>\n",
              "      <td>1</td>\n",
              "      <td>0</td>\n",
              "      <td>0</td>\n",
              "      <td>1</td>\n",
              "      <td>0</td>\n",
              "      <td>0</td>\n",
              "      <td>1</td>\n",
              "      <td>0</td>\n",
              "    </tr>\n",
              "  </tbody>\n",
              "</table>\n",
              "<p>5 rows × 25 columns</p>\n",
              "</div>"
            ],
            "text/plain": [
              "   combined_rating  avg_rating  pricing_LOW  pricing_BELOW_AVG  pricing_AVG  \\\n",
              "0            1.000       0.882            0                  0            1   \n",
              "1            0.764       0.781            0                  0            1   \n",
              "2            0.764       0.843            0                  0            1   \n",
              "3            0.756       0.719            0                  0            1   \n",
              "4            0.828       0.780            0                  0            1   \n",
              "\n",
              "   pricing_ABOVE_AVG  pricing_HIGH  Category 1  Category 10  Category 2  ...  \\\n",
              "0                  1             1           1            0           1  ...   \n",
              "1                  1             1           1            0           0  ...   \n",
              "2                  1             1           1            0           1  ...   \n",
              "3                  0             0           1            0           1  ...   \n",
              "4                  1             1           1            0           1  ...   \n",
              "\n",
              "   Category 8  Category 9  youtube_High  youtube_Low  youtube_Medium  \\\n",
              "0           0           0             1            0               0   \n",
              "1           0           0             1            0               0   \n",
              "2           0           0             1            0               0   \n",
              "3           1           1             1            0               0   \n",
              "4           1           0             1            0               0   \n",
              "\n",
              "   tiktok_High  tiktok_Low  tiktok_Medium  insta_follower_High  \\\n",
              "0            1           0              0                    1   \n",
              "1            1           0              0                    1   \n",
              "2            1           0              0                    1   \n",
              "3            1           0              0                    1   \n",
              "4            1           0              0                    1   \n",
              "\n",
              "   insta_follower_Medium  \n",
              "0                      0  \n",
              "1                      0  \n",
              "2                      0  \n",
              "3                      0  \n",
              "4                      0  \n",
              "\n",
              "[5 rows x 25 columns]"
            ]
          },
          "execution_count": 627,
          "metadata": {},
          "output_type": "execute_result"
        }
      ],
      "source": [
        "# Remove ID and labels\n",
        "df_inf_features = df_inf_features.drop([\"own_id\", \"inf_id\", \"id\"], axis=1)\n",
        "\n",
        "df_inf_features.head()"
      ]
    },
    {
      "cell_type": "code",
      "execution_count": null,
      "metadata": {
        "id": "fMDk48Qd6b0u"
      },
      "outputs": [],
      "source": [
        "INFLUENCER_FEATURE_COUNT = len(df_inf_features.drop(\"combined_rating\", axis=1).columns)"
      ]
    },
    {
      "cell_type": "markdown",
      "metadata": {
        "id": "7D2Ov6e86b0u"
      },
      "source": [
        "Owner features"
      ]
    },
    {
      "cell_type": "code",
      "execution_count": null,
      "metadata": {
        "colab": {
          "base_uri": "https://localhost:8080/",
          "height": 317
        },
        "id": "-RNd1Gdp6b0u",
        "outputId": "dd22af83-67e0-4921-d07e-d26223084ecd"
      },
      "outputs": [
        {
          "data": {
            "text/html": [
              "<div>\n",
              "<style scoped>\n",
              "    .dataframe tbody tr th:only-of-type {\n",
              "        vertical-align: middle;\n",
              "    }\n",
              "\n",
              "    .dataframe tbody tr th {\n",
              "        vertical-align: top;\n",
              "    }\n",
              "\n",
              "    .dataframe thead th {\n",
              "        text-align: right;\n",
              "    }\n",
              "</style>\n",
              "<table border=\"1\" class=\"dataframe\">\n",
              "  <thead>\n",
              "    <tr style=\"text-align: right;\">\n",
              "      <th></th>\n",
              "      <th>own_id</th>\n",
              "      <th>inf_id</th>\n",
              "      <th>combined_rating</th>\n",
              "      <th>id</th>\n",
              "      <th>pricing_LOW</th>\n",
              "      <th>pricing_BELOW_AVG</th>\n",
              "      <th>pricing_AVG</th>\n",
              "      <th>pricing_ABOVE_AVG</th>\n",
              "      <th>pricing_HIGH</th>\n",
              "      <th>Category 1</th>\n",
              "      <th>...</th>\n",
              "      <th>Category 8</th>\n",
              "      <th>Category 9</th>\n",
              "      <th>youtube_High</th>\n",
              "      <th>youtube_Low</th>\n",
              "      <th>youtube_Medium</th>\n",
              "      <th>tiktok_High</th>\n",
              "      <th>tiktok_Low</th>\n",
              "      <th>tiktok_Medium</th>\n",
              "      <th>insta_follower_High</th>\n",
              "      <th>insta_follower_Medium</th>\n",
              "    </tr>\n",
              "  </thead>\n",
              "  <tbody>\n",
              "    <tr>\n",
              "      <th>0</th>\n",
              "      <td>2</td>\n",
              "      <td>12</td>\n",
              "      <td>1.000</td>\n",
              "      <td>2</td>\n",
              "      <td>0.033024</td>\n",
              "      <td>0.071675</td>\n",
              "      <td>0.762157</td>\n",
              "      <td>0.50959</td>\n",
              "      <td>0.433301</td>\n",
              "      <td>0.425542</td>\n",
              "      <td>...</td>\n",
              "      <td>0.430542</td>\n",
              "      <td>0.016373</td>\n",
              "      <td>0.751108</td>\n",
              "      <td>0.0</td>\n",
              "      <td>0.128289</td>\n",
              "      <td>0.694771</td>\n",
              "      <td>0.0</td>\n",
              "      <td>0.184627</td>\n",
              "      <td>0.757663</td>\n",
              "      <td>0.121735</td>\n",
              "    </tr>\n",
              "    <tr>\n",
              "      <th>1</th>\n",
              "      <td>2</td>\n",
              "      <td>13</td>\n",
              "      <td>0.764</td>\n",
              "      <td>2</td>\n",
              "      <td>0.033024</td>\n",
              "      <td>0.071675</td>\n",
              "      <td>0.762157</td>\n",
              "      <td>0.50959</td>\n",
              "      <td>0.433301</td>\n",
              "      <td>0.425542</td>\n",
              "      <td>...</td>\n",
              "      <td>0.430542</td>\n",
              "      <td>0.016373</td>\n",
              "      <td>0.751108</td>\n",
              "      <td>0.0</td>\n",
              "      <td>0.128289</td>\n",
              "      <td>0.694771</td>\n",
              "      <td>0.0</td>\n",
              "      <td>0.184627</td>\n",
              "      <td>0.757663</td>\n",
              "      <td>0.121735</td>\n",
              "    </tr>\n",
              "    <tr>\n",
              "      <th>2</th>\n",
              "      <td>2</td>\n",
              "      <td>14</td>\n",
              "      <td>0.764</td>\n",
              "      <td>2</td>\n",
              "      <td>0.033024</td>\n",
              "      <td>0.071675</td>\n",
              "      <td>0.762157</td>\n",
              "      <td>0.50959</td>\n",
              "      <td>0.433301</td>\n",
              "      <td>0.425542</td>\n",
              "      <td>...</td>\n",
              "      <td>0.430542</td>\n",
              "      <td>0.016373</td>\n",
              "      <td>0.751108</td>\n",
              "      <td>0.0</td>\n",
              "      <td>0.128289</td>\n",
              "      <td>0.694771</td>\n",
              "      <td>0.0</td>\n",
              "      <td>0.184627</td>\n",
              "      <td>0.757663</td>\n",
              "      <td>0.121735</td>\n",
              "    </tr>\n",
              "    <tr>\n",
              "      <th>3</th>\n",
              "      <td>2</td>\n",
              "      <td>15</td>\n",
              "      <td>0.756</td>\n",
              "      <td>2</td>\n",
              "      <td>0.033024</td>\n",
              "      <td>0.071675</td>\n",
              "      <td>0.762157</td>\n",
              "      <td>0.50959</td>\n",
              "      <td>0.433301</td>\n",
              "      <td>0.425542</td>\n",
              "      <td>...</td>\n",
              "      <td>0.430542</td>\n",
              "      <td>0.016373</td>\n",
              "      <td>0.751108</td>\n",
              "      <td>0.0</td>\n",
              "      <td>0.128289</td>\n",
              "      <td>0.694771</td>\n",
              "      <td>0.0</td>\n",
              "      <td>0.184627</td>\n",
              "      <td>0.757663</td>\n",
              "      <td>0.121735</td>\n",
              "    </tr>\n",
              "    <tr>\n",
              "      <th>4</th>\n",
              "      <td>2</td>\n",
              "      <td>16</td>\n",
              "      <td>0.828</td>\n",
              "      <td>2</td>\n",
              "      <td>0.033024</td>\n",
              "      <td>0.071675</td>\n",
              "      <td>0.762157</td>\n",
              "      <td>0.50959</td>\n",
              "      <td>0.433301</td>\n",
              "      <td>0.425542</td>\n",
              "      <td>...</td>\n",
              "      <td>0.430542</td>\n",
              "      <td>0.016373</td>\n",
              "      <td>0.751108</td>\n",
              "      <td>0.0</td>\n",
              "      <td>0.128289</td>\n",
              "      <td>0.694771</td>\n",
              "      <td>0.0</td>\n",
              "      <td>0.184627</td>\n",
              "      <td>0.757663</td>\n",
              "      <td>0.121735</td>\n",
              "    </tr>\n",
              "  </tbody>\n",
              "</table>\n",
              "<p>5 rows × 27 columns</p>\n",
              "</div>"
            ],
            "text/plain": [
              "   own_id  inf_id  combined_rating  id  pricing_LOW  pricing_BELOW_AVG  \\\n",
              "0       2      12            1.000   2     0.033024           0.071675   \n",
              "1       2      13            0.764   2     0.033024           0.071675   \n",
              "2       2      14            0.764   2     0.033024           0.071675   \n",
              "3       2      15            0.756   2     0.033024           0.071675   \n",
              "4       2      16            0.828   2     0.033024           0.071675   \n",
              "\n",
              "   pricing_AVG  pricing_ABOVE_AVG  pricing_HIGH  Category 1  ...  Category 8  \\\n",
              "0     0.762157            0.50959      0.433301    0.425542  ...    0.430542   \n",
              "1     0.762157            0.50959      0.433301    0.425542  ...    0.430542   \n",
              "2     0.762157            0.50959      0.433301    0.425542  ...    0.430542   \n",
              "3     0.762157            0.50959      0.433301    0.425542  ...    0.430542   \n",
              "4     0.762157            0.50959      0.433301    0.425542  ...    0.430542   \n",
              "\n",
              "   Category 9  youtube_High  youtube_Low  youtube_Medium  tiktok_High  \\\n",
              "0    0.016373      0.751108          0.0        0.128289     0.694771   \n",
              "1    0.016373      0.751108          0.0        0.128289     0.694771   \n",
              "2    0.016373      0.751108          0.0        0.128289     0.694771   \n",
              "3    0.016373      0.751108          0.0        0.128289     0.694771   \n",
              "4    0.016373      0.751108          0.0        0.128289     0.694771   \n",
              "\n",
              "   tiktok_Low  tiktok_Medium  insta_follower_High  insta_follower_Medium  \n",
              "0         0.0       0.184627             0.757663               0.121735  \n",
              "1         0.0       0.184627             0.757663               0.121735  \n",
              "2         0.0       0.184627             0.757663               0.121735  \n",
              "3         0.0       0.184627             0.757663               0.121735  \n",
              "4         0.0       0.184627             0.757663               0.121735  \n",
              "\n",
              "[5 rows x 27 columns]"
            ]
          },
          "execution_count": 629,
          "metadata": {},
          "output_type": "execute_result"
        }
      ],
      "source": [
        "# Join history and owner data by own_id\n",
        "df_own_features = pd.merge(df_history.drop([\"star_rating\", \"sentiment_rating\"], axis=1), df_own_norm, left_on='own_id', right_on='id', how='left')\n",
        "\n",
        "df_own_features.head()"
      ]
    },
    {
      "cell_type": "code",
      "execution_count": null,
      "metadata": {
        "colab": {
          "base_uri": "https://localhost:8080/",
          "height": 317
        },
        "id": "WKaAZyb46b0v",
        "outputId": "7ed54302-71ac-47ab-df82-fb773dcf6479"
      },
      "outputs": [
        {
          "data": {
            "text/html": [
              "<div>\n",
              "<style scoped>\n",
              "    .dataframe tbody tr th:only-of-type {\n",
              "        vertical-align: middle;\n",
              "    }\n",
              "\n",
              "    .dataframe tbody tr th {\n",
              "        vertical-align: top;\n",
              "    }\n",
              "\n",
              "    .dataframe thead th {\n",
              "        text-align: right;\n",
              "    }\n",
              "</style>\n",
              "<table border=\"1\" class=\"dataframe\">\n",
              "  <thead>\n",
              "    <tr style=\"text-align: right;\">\n",
              "      <th></th>\n",
              "      <th>combined_rating</th>\n",
              "      <th>pricing_LOW</th>\n",
              "      <th>pricing_BELOW_AVG</th>\n",
              "      <th>pricing_AVG</th>\n",
              "      <th>pricing_ABOVE_AVG</th>\n",
              "      <th>pricing_HIGH</th>\n",
              "      <th>Category 1</th>\n",
              "      <th>Category 10</th>\n",
              "      <th>Category 2</th>\n",
              "      <th>Category 3</th>\n",
              "      <th>...</th>\n",
              "      <th>Category 8</th>\n",
              "      <th>Category 9</th>\n",
              "      <th>youtube_High</th>\n",
              "      <th>youtube_Low</th>\n",
              "      <th>youtube_Medium</th>\n",
              "      <th>tiktok_High</th>\n",
              "      <th>tiktok_Low</th>\n",
              "      <th>tiktok_Medium</th>\n",
              "      <th>insta_follower_High</th>\n",
              "      <th>insta_follower_Medium</th>\n",
              "    </tr>\n",
              "  </thead>\n",
              "  <tbody>\n",
              "    <tr>\n",
              "      <th>0</th>\n",
              "      <td>1.000</td>\n",
              "      <td>0.033024</td>\n",
              "      <td>0.071675</td>\n",
              "      <td>0.762157</td>\n",
              "      <td>0.50959</td>\n",
              "      <td>0.433301</td>\n",
              "      <td>0.425542</td>\n",
              "      <td>0.001759</td>\n",
              "      <td>0.503988</td>\n",
              "      <td>0.113181</td>\n",
              "      <td>...</td>\n",
              "      <td>0.430542</td>\n",
              "      <td>0.016373</td>\n",
              "      <td>0.751108</td>\n",
              "      <td>0.0</td>\n",
              "      <td>0.128289</td>\n",
              "      <td>0.694771</td>\n",
              "      <td>0.0</td>\n",
              "      <td>0.184627</td>\n",
              "      <td>0.757663</td>\n",
              "      <td>0.121735</td>\n",
              "    </tr>\n",
              "    <tr>\n",
              "      <th>1</th>\n",
              "      <td>0.764</td>\n",
              "      <td>0.033024</td>\n",
              "      <td>0.071675</td>\n",
              "      <td>0.762157</td>\n",
              "      <td>0.50959</td>\n",
              "      <td>0.433301</td>\n",
              "      <td>0.425542</td>\n",
              "      <td>0.001759</td>\n",
              "      <td>0.503988</td>\n",
              "      <td>0.113181</td>\n",
              "      <td>...</td>\n",
              "      <td>0.430542</td>\n",
              "      <td>0.016373</td>\n",
              "      <td>0.751108</td>\n",
              "      <td>0.0</td>\n",
              "      <td>0.128289</td>\n",
              "      <td>0.694771</td>\n",
              "      <td>0.0</td>\n",
              "      <td>0.184627</td>\n",
              "      <td>0.757663</td>\n",
              "      <td>0.121735</td>\n",
              "    </tr>\n",
              "    <tr>\n",
              "      <th>2</th>\n",
              "      <td>0.764</td>\n",
              "      <td>0.033024</td>\n",
              "      <td>0.071675</td>\n",
              "      <td>0.762157</td>\n",
              "      <td>0.50959</td>\n",
              "      <td>0.433301</td>\n",
              "      <td>0.425542</td>\n",
              "      <td>0.001759</td>\n",
              "      <td>0.503988</td>\n",
              "      <td>0.113181</td>\n",
              "      <td>...</td>\n",
              "      <td>0.430542</td>\n",
              "      <td>0.016373</td>\n",
              "      <td>0.751108</td>\n",
              "      <td>0.0</td>\n",
              "      <td>0.128289</td>\n",
              "      <td>0.694771</td>\n",
              "      <td>0.0</td>\n",
              "      <td>0.184627</td>\n",
              "      <td>0.757663</td>\n",
              "      <td>0.121735</td>\n",
              "    </tr>\n",
              "    <tr>\n",
              "      <th>3</th>\n",
              "      <td>0.756</td>\n",
              "      <td>0.033024</td>\n",
              "      <td>0.071675</td>\n",
              "      <td>0.762157</td>\n",
              "      <td>0.50959</td>\n",
              "      <td>0.433301</td>\n",
              "      <td>0.425542</td>\n",
              "      <td>0.001759</td>\n",
              "      <td>0.503988</td>\n",
              "      <td>0.113181</td>\n",
              "      <td>...</td>\n",
              "      <td>0.430542</td>\n",
              "      <td>0.016373</td>\n",
              "      <td>0.751108</td>\n",
              "      <td>0.0</td>\n",
              "      <td>0.128289</td>\n",
              "      <td>0.694771</td>\n",
              "      <td>0.0</td>\n",
              "      <td>0.184627</td>\n",
              "      <td>0.757663</td>\n",
              "      <td>0.121735</td>\n",
              "    </tr>\n",
              "    <tr>\n",
              "      <th>4</th>\n",
              "      <td>0.828</td>\n",
              "      <td>0.033024</td>\n",
              "      <td>0.071675</td>\n",
              "      <td>0.762157</td>\n",
              "      <td>0.50959</td>\n",
              "      <td>0.433301</td>\n",
              "      <td>0.425542</td>\n",
              "      <td>0.001759</td>\n",
              "      <td>0.503988</td>\n",
              "      <td>0.113181</td>\n",
              "      <td>...</td>\n",
              "      <td>0.430542</td>\n",
              "      <td>0.016373</td>\n",
              "      <td>0.751108</td>\n",
              "      <td>0.0</td>\n",
              "      <td>0.128289</td>\n",
              "      <td>0.694771</td>\n",
              "      <td>0.0</td>\n",
              "      <td>0.184627</td>\n",
              "      <td>0.757663</td>\n",
              "      <td>0.121735</td>\n",
              "    </tr>\n",
              "  </tbody>\n",
              "</table>\n",
              "<p>5 rows × 24 columns</p>\n",
              "</div>"
            ],
            "text/plain": [
              "   combined_rating  pricing_LOW  pricing_BELOW_AVG  pricing_AVG  \\\n",
              "0            1.000     0.033024           0.071675     0.762157   \n",
              "1            0.764     0.033024           0.071675     0.762157   \n",
              "2            0.764     0.033024           0.071675     0.762157   \n",
              "3            0.756     0.033024           0.071675     0.762157   \n",
              "4            0.828     0.033024           0.071675     0.762157   \n",
              "\n",
              "   pricing_ABOVE_AVG  pricing_HIGH  Category 1  Category 10  Category 2  \\\n",
              "0            0.50959      0.433301    0.425542     0.001759    0.503988   \n",
              "1            0.50959      0.433301    0.425542     0.001759    0.503988   \n",
              "2            0.50959      0.433301    0.425542     0.001759    0.503988   \n",
              "3            0.50959      0.433301    0.425542     0.001759    0.503988   \n",
              "4            0.50959      0.433301    0.425542     0.001759    0.503988   \n",
              "\n",
              "   Category 3  ...  Category 8  Category 9  youtube_High  youtube_Low  \\\n",
              "0    0.113181  ...    0.430542    0.016373      0.751108          0.0   \n",
              "1    0.113181  ...    0.430542    0.016373      0.751108          0.0   \n",
              "2    0.113181  ...    0.430542    0.016373      0.751108          0.0   \n",
              "3    0.113181  ...    0.430542    0.016373      0.751108          0.0   \n",
              "4    0.113181  ...    0.430542    0.016373      0.751108          0.0   \n",
              "\n",
              "   youtube_Medium  tiktok_High  tiktok_Low  tiktok_Medium  \\\n",
              "0        0.128289     0.694771         0.0       0.184627   \n",
              "1        0.128289     0.694771         0.0       0.184627   \n",
              "2        0.128289     0.694771         0.0       0.184627   \n",
              "3        0.128289     0.694771         0.0       0.184627   \n",
              "4        0.128289     0.694771         0.0       0.184627   \n",
              "\n",
              "   insta_follower_High  insta_follower_Medium  \n",
              "0             0.757663               0.121735  \n",
              "1             0.757663               0.121735  \n",
              "2             0.757663               0.121735  \n",
              "3             0.757663               0.121735  \n",
              "4             0.757663               0.121735  \n",
              "\n",
              "[5 rows x 24 columns]"
            ]
          },
          "execution_count": 630,
          "metadata": {},
          "output_type": "execute_result"
        }
      ],
      "source": [
        "# Remove ID and labels\n",
        "df_own_features = df_own_features.drop([\"own_id\", \"inf_id\", \"id\"], axis=1)\n",
        "\n",
        "df_own_features.head()"
      ]
    },
    {
      "cell_type": "code",
      "execution_count": null,
      "metadata": {
        "id": "4E4olJ1L6b0v"
      },
      "outputs": [],
      "source": [
        "OWNER_FEATURE_COUNT = len(df_own_features.drop(\"combined_rating\", axis=1).columns)"
      ]
    },
    {
      "cell_type": "markdown",
      "metadata": {
        "id": "N-bFlBAN6b0v"
      },
      "source": [
        "Labels"
      ]
    },
    {
      "cell_type": "code",
      "execution_count": null,
      "metadata": {
        "colab": {
          "base_uri": "https://localhost:8080/"
        },
        "id": "SvJFMFkt6b0v",
        "outputId": "aa6847cb-b646-4d1a-c251-408558ca10e8"
      },
      "outputs": [
        {
          "data": {
            "text/plain": [
              "0    1.000\n",
              "1    0.764\n",
              "2    0.764\n",
              "3    0.756\n",
              "4    0.828\n",
              "Name: combined_rating, dtype: float64"
            ]
          },
          "execution_count": 632,
          "metadata": {},
          "output_type": "execute_result"
        }
      ],
      "source": [
        "# Get labels from history data\n",
        "df_labels = df_history[\"combined_rating\"]\n",
        "df_labels.head()"
      ]
    },
    {
      "cell_type": "markdown",
      "metadata": {
        "id": "llgss9D-7Tiz"
      },
      "source": [
        "##### Oversampling"
      ]
    },
    {
      "cell_type": "code",
      "execution_count": null,
      "metadata": {
        "colab": {
          "base_uri": "https://localhost:8080/",
          "height": 505
        },
        "id": "qVuazy6w7C-r",
        "outputId": "ec747258-4367-4336-bb54-5a74c9435d03"
      },
      "outputs": [
        {
          "data": {
            "text/html": [
              "<div>\n",
              "<style scoped>\n",
              "    .dataframe tbody tr th:only-of-type {\n",
              "        vertical-align: middle;\n",
              "    }\n",
              "\n",
              "    .dataframe tbody tr th {\n",
              "        vertical-align: top;\n",
              "    }\n",
              "\n",
              "    .dataframe thead th {\n",
              "        text-align: right;\n",
              "    }\n",
              "</style>\n",
              "<table border=\"1\" class=\"dataframe\">\n",
              "  <thead>\n",
              "    <tr style=\"text-align: right;\">\n",
              "      <th></th>\n",
              "      <th>pricing_LOW</th>\n",
              "      <th>pricing_BELOW_AVG</th>\n",
              "      <th>pricing_AVG</th>\n",
              "      <th>pricing_ABOVE_AVG</th>\n",
              "      <th>pricing_HIGH</th>\n",
              "      <th>Category 1</th>\n",
              "      <th>Category 10</th>\n",
              "      <th>Category 2</th>\n",
              "      <th>Category 3</th>\n",
              "      <th>Category 4</th>\n",
              "      <th>...</th>\n",
              "      <th>Category 8</th>\n",
              "      <th>Category 9</th>\n",
              "      <th>youtube_High</th>\n",
              "      <th>youtube_Low</th>\n",
              "      <th>youtube_Medium</th>\n",
              "      <th>tiktok_High</th>\n",
              "      <th>tiktok_Low</th>\n",
              "      <th>tiktok_Medium</th>\n",
              "      <th>insta_follower_High</th>\n",
              "      <th>insta_follower_Medium</th>\n",
              "    </tr>\n",
              "  </thead>\n",
              "  <tbody>\n",
              "    <tr>\n",
              "      <th>0</th>\n",
              "      <td>0.033024</td>\n",
              "      <td>0.071675</td>\n",
              "      <td>0.762157</td>\n",
              "      <td>0.509590</td>\n",
              "      <td>0.433301</td>\n",
              "      <td>0.425542</td>\n",
              "      <td>0.001759</td>\n",
              "      <td>0.503988</td>\n",
              "      <td>0.113181</td>\n",
              "      <td>0.444229</td>\n",
              "      <td>...</td>\n",
              "      <td>0.430542</td>\n",
              "      <td>0.016373</td>\n",
              "      <td>0.751108</td>\n",
              "      <td>0.0</td>\n",
              "      <td>0.128289</td>\n",
              "      <td>0.694771</td>\n",
              "      <td>0.0</td>\n",
              "      <td>0.184627</td>\n",
              "      <td>0.757663</td>\n",
              "      <td>0.121735</td>\n",
              "    </tr>\n",
              "    <tr>\n",
              "      <th>1</th>\n",
              "      <td>0.033024</td>\n",
              "      <td>0.071675</td>\n",
              "      <td>0.762157</td>\n",
              "      <td>0.509590</td>\n",
              "      <td>0.433301</td>\n",
              "      <td>0.425542</td>\n",
              "      <td>0.001759</td>\n",
              "      <td>0.503988</td>\n",
              "      <td>0.113181</td>\n",
              "      <td>0.444229</td>\n",
              "      <td>...</td>\n",
              "      <td>0.430542</td>\n",
              "      <td>0.016373</td>\n",
              "      <td>0.751108</td>\n",
              "      <td>0.0</td>\n",
              "      <td>0.128289</td>\n",
              "      <td>0.694771</td>\n",
              "      <td>0.0</td>\n",
              "      <td>0.184627</td>\n",
              "      <td>0.757663</td>\n",
              "      <td>0.121735</td>\n",
              "    </tr>\n",
              "    <tr>\n",
              "      <th>2</th>\n",
              "      <td>0.033024</td>\n",
              "      <td>0.071675</td>\n",
              "      <td>0.762157</td>\n",
              "      <td>0.509590</td>\n",
              "      <td>0.433301</td>\n",
              "      <td>0.425542</td>\n",
              "      <td>0.001759</td>\n",
              "      <td>0.503988</td>\n",
              "      <td>0.113181</td>\n",
              "      <td>0.444229</td>\n",
              "      <td>...</td>\n",
              "      <td>0.430542</td>\n",
              "      <td>0.016373</td>\n",
              "      <td>0.751108</td>\n",
              "      <td>0.0</td>\n",
              "      <td>0.128289</td>\n",
              "      <td>0.694771</td>\n",
              "      <td>0.0</td>\n",
              "      <td>0.184627</td>\n",
              "      <td>0.757663</td>\n",
              "      <td>0.121735</td>\n",
              "    </tr>\n",
              "    <tr>\n",
              "      <th>3</th>\n",
              "      <td>0.033024</td>\n",
              "      <td>0.071675</td>\n",
              "      <td>0.762157</td>\n",
              "      <td>0.509590</td>\n",
              "      <td>0.433301</td>\n",
              "      <td>0.425542</td>\n",
              "      <td>0.001759</td>\n",
              "      <td>0.503988</td>\n",
              "      <td>0.113181</td>\n",
              "      <td>0.444229</td>\n",
              "      <td>...</td>\n",
              "      <td>0.430542</td>\n",
              "      <td>0.016373</td>\n",
              "      <td>0.751108</td>\n",
              "      <td>0.0</td>\n",
              "      <td>0.128289</td>\n",
              "      <td>0.694771</td>\n",
              "      <td>0.0</td>\n",
              "      <td>0.184627</td>\n",
              "      <td>0.757663</td>\n",
              "      <td>0.121735</td>\n",
              "    </tr>\n",
              "    <tr>\n",
              "      <th>4</th>\n",
              "      <td>0.033024</td>\n",
              "      <td>0.071675</td>\n",
              "      <td>0.762157</td>\n",
              "      <td>0.509590</td>\n",
              "      <td>0.433301</td>\n",
              "      <td>0.425542</td>\n",
              "      <td>0.001759</td>\n",
              "      <td>0.503988</td>\n",
              "      <td>0.113181</td>\n",
              "      <td>0.444229</td>\n",
              "      <td>...</td>\n",
              "      <td>0.430542</td>\n",
              "      <td>0.016373</td>\n",
              "      <td>0.751108</td>\n",
              "      <td>0.0</td>\n",
              "      <td>0.128289</td>\n",
              "      <td>0.694771</td>\n",
              "      <td>0.0</td>\n",
              "      <td>0.184627</td>\n",
              "      <td>0.757663</td>\n",
              "      <td>0.121735</td>\n",
              "    </tr>\n",
              "    <tr>\n",
              "      <th>...</th>\n",
              "      <td>...</td>\n",
              "      <td>...</td>\n",
              "      <td>...</td>\n",
              "      <td>...</td>\n",
              "      <td>...</td>\n",
              "      <td>...</td>\n",
              "      <td>...</td>\n",
              "      <td>...</td>\n",
              "      <td>...</td>\n",
              "      <td>...</td>\n",
              "      <td>...</td>\n",
              "      <td>...</td>\n",
              "      <td>...</td>\n",
              "      <td>...</td>\n",
              "      <td>...</td>\n",
              "      <td>...</td>\n",
              "      <td>...</td>\n",
              "      <td>...</td>\n",
              "      <td>...</td>\n",
              "      <td>...</td>\n",
              "      <td>...</td>\n",
              "    </tr>\n",
              "    <tr>\n",
              "      <th>152888</th>\n",
              "      <td>0.163202</td>\n",
              "      <td>0.281885</td>\n",
              "      <td>0.506792</td>\n",
              "      <td>0.263843</td>\n",
              "      <td>0.220459</td>\n",
              "      <td>0.345921</td>\n",
              "      <td>0.004834</td>\n",
              "      <td>0.452822</td>\n",
              "      <td>0.073764</td>\n",
              "      <td>0.333076</td>\n",
              "      <td>...</td>\n",
              "      <td>0.335819</td>\n",
              "      <td>0.000000</td>\n",
              "      <td>0.477353</td>\n",
              "      <td>0.0</td>\n",
              "      <td>0.376822</td>\n",
              "      <td>0.404085</td>\n",
              "      <td>0.0</td>\n",
              "      <td>0.450091</td>\n",
              "      <td>0.513619</td>\n",
              "      <td>0.340556</td>\n",
              "    </tr>\n",
              "    <tr>\n",
              "      <th>152889</th>\n",
              "      <td>0.163202</td>\n",
              "      <td>0.281885</td>\n",
              "      <td>0.506792</td>\n",
              "      <td>0.263843</td>\n",
              "      <td>0.220459</td>\n",
              "      <td>0.345921</td>\n",
              "      <td>0.004834</td>\n",
              "      <td>0.452822</td>\n",
              "      <td>0.073764</td>\n",
              "      <td>0.333076</td>\n",
              "      <td>...</td>\n",
              "      <td>0.335819</td>\n",
              "      <td>0.000000</td>\n",
              "      <td>0.477353</td>\n",
              "      <td>0.0</td>\n",
              "      <td>0.376822</td>\n",
              "      <td>0.404085</td>\n",
              "      <td>0.0</td>\n",
              "      <td>0.450091</td>\n",
              "      <td>0.513619</td>\n",
              "      <td>0.340556</td>\n",
              "    </tr>\n",
              "    <tr>\n",
              "      <th>152890</th>\n",
              "      <td>0.163202</td>\n",
              "      <td>0.281885</td>\n",
              "      <td>0.506792</td>\n",
              "      <td>0.263843</td>\n",
              "      <td>0.220459</td>\n",
              "      <td>0.345921</td>\n",
              "      <td>0.004834</td>\n",
              "      <td>0.452822</td>\n",
              "      <td>0.073764</td>\n",
              "      <td>0.333076</td>\n",
              "      <td>...</td>\n",
              "      <td>0.335819</td>\n",
              "      <td>0.000000</td>\n",
              "      <td>0.477353</td>\n",
              "      <td>0.0</td>\n",
              "      <td>0.376822</td>\n",
              "      <td>0.404085</td>\n",
              "      <td>0.0</td>\n",
              "      <td>0.450091</td>\n",
              "      <td>0.513619</td>\n",
              "      <td>0.340556</td>\n",
              "    </tr>\n",
              "    <tr>\n",
              "      <th>152891</th>\n",
              "      <td>0.163202</td>\n",
              "      <td>0.281885</td>\n",
              "      <td>0.506792</td>\n",
              "      <td>0.263843</td>\n",
              "      <td>0.220459</td>\n",
              "      <td>0.345921</td>\n",
              "      <td>0.004834</td>\n",
              "      <td>0.452822</td>\n",
              "      <td>0.073764</td>\n",
              "      <td>0.333076</td>\n",
              "      <td>...</td>\n",
              "      <td>0.335819</td>\n",
              "      <td>0.000000</td>\n",
              "      <td>0.477353</td>\n",
              "      <td>0.0</td>\n",
              "      <td>0.376822</td>\n",
              "      <td>0.404085</td>\n",
              "      <td>0.0</td>\n",
              "      <td>0.450091</td>\n",
              "      <td>0.513619</td>\n",
              "      <td>0.340556</td>\n",
              "    </tr>\n",
              "    <tr>\n",
              "      <th>152892</th>\n",
              "      <td>0.163202</td>\n",
              "      <td>0.281885</td>\n",
              "      <td>0.506792</td>\n",
              "      <td>0.263843</td>\n",
              "      <td>0.220459</td>\n",
              "      <td>0.345921</td>\n",
              "      <td>0.004834</td>\n",
              "      <td>0.452822</td>\n",
              "      <td>0.073764</td>\n",
              "      <td>0.333076</td>\n",
              "      <td>...</td>\n",
              "      <td>0.335819</td>\n",
              "      <td>0.000000</td>\n",
              "      <td>0.477353</td>\n",
              "      <td>0.0</td>\n",
              "      <td>0.376822</td>\n",
              "      <td>0.404085</td>\n",
              "      <td>0.0</td>\n",
              "      <td>0.450091</td>\n",
              "      <td>0.513619</td>\n",
              "      <td>0.340556</td>\n",
              "    </tr>\n",
              "  </tbody>\n",
              "</table>\n",
              "<p>152893 rows × 23 columns</p>\n",
              "</div>"
            ],
            "text/plain": [
              "        pricing_LOW  pricing_BELOW_AVG  pricing_AVG  pricing_ABOVE_AVG  \\\n",
              "0          0.033024           0.071675     0.762157           0.509590   \n",
              "1          0.033024           0.071675     0.762157           0.509590   \n",
              "2          0.033024           0.071675     0.762157           0.509590   \n",
              "3          0.033024           0.071675     0.762157           0.509590   \n",
              "4          0.033024           0.071675     0.762157           0.509590   \n",
              "...             ...                ...          ...                ...   \n",
              "152888     0.163202           0.281885     0.506792           0.263843   \n",
              "152889     0.163202           0.281885     0.506792           0.263843   \n",
              "152890     0.163202           0.281885     0.506792           0.263843   \n",
              "152891     0.163202           0.281885     0.506792           0.263843   \n",
              "152892     0.163202           0.281885     0.506792           0.263843   \n",
              "\n",
              "        pricing_HIGH  Category 1  Category 10  Category 2  Category 3  \\\n",
              "0           0.433301    0.425542     0.001759    0.503988    0.113181   \n",
              "1           0.433301    0.425542     0.001759    0.503988    0.113181   \n",
              "2           0.433301    0.425542     0.001759    0.503988    0.113181   \n",
              "3           0.433301    0.425542     0.001759    0.503988    0.113181   \n",
              "4           0.433301    0.425542     0.001759    0.503988    0.113181   \n",
              "...              ...         ...          ...         ...         ...   \n",
              "152888      0.220459    0.345921     0.004834    0.452822    0.073764   \n",
              "152889      0.220459    0.345921     0.004834    0.452822    0.073764   \n",
              "152890      0.220459    0.345921     0.004834    0.452822    0.073764   \n",
              "152891      0.220459    0.345921     0.004834    0.452822    0.073764   \n",
              "152892      0.220459    0.345921     0.004834    0.452822    0.073764   \n",
              "\n",
              "        Category 4  ...  Category 8  Category 9  youtube_High  youtube_Low  \\\n",
              "0         0.444229  ...    0.430542    0.016373      0.751108          0.0   \n",
              "1         0.444229  ...    0.430542    0.016373      0.751108          0.0   \n",
              "2         0.444229  ...    0.430542    0.016373      0.751108          0.0   \n",
              "3         0.444229  ...    0.430542    0.016373      0.751108          0.0   \n",
              "4         0.444229  ...    0.430542    0.016373      0.751108          0.0   \n",
              "...            ...  ...         ...         ...           ...          ...   \n",
              "152888    0.333076  ...    0.335819    0.000000      0.477353          0.0   \n",
              "152889    0.333076  ...    0.335819    0.000000      0.477353          0.0   \n",
              "152890    0.333076  ...    0.335819    0.000000      0.477353          0.0   \n",
              "152891    0.333076  ...    0.335819    0.000000      0.477353          0.0   \n",
              "152892    0.333076  ...    0.335819    0.000000      0.477353          0.0   \n",
              "\n",
              "        youtube_Medium  tiktok_High  tiktok_Low  tiktok_Medium  \\\n",
              "0             0.128289     0.694771         0.0       0.184627   \n",
              "1             0.128289     0.694771         0.0       0.184627   \n",
              "2             0.128289     0.694771         0.0       0.184627   \n",
              "3             0.128289     0.694771         0.0       0.184627   \n",
              "4             0.128289     0.694771         0.0       0.184627   \n",
              "...                ...          ...         ...            ...   \n",
              "152888        0.376822     0.404085         0.0       0.450091   \n",
              "152889        0.376822     0.404085         0.0       0.450091   \n",
              "152890        0.376822     0.404085         0.0       0.450091   \n",
              "152891        0.376822     0.404085         0.0       0.450091   \n",
              "152892        0.376822     0.404085         0.0       0.450091   \n",
              "\n",
              "        insta_follower_High  insta_follower_Medium  \n",
              "0                  0.757663               0.121735  \n",
              "1                  0.757663               0.121735  \n",
              "2                  0.757663               0.121735  \n",
              "3                  0.757663               0.121735  \n",
              "4                  0.757663               0.121735  \n",
              "...                     ...                    ...  \n",
              "152888             0.513619               0.340556  \n",
              "152889             0.513619               0.340556  \n",
              "152890             0.513619               0.340556  \n",
              "152891             0.513619               0.340556  \n",
              "152892             0.513619               0.340556  \n",
              "\n",
              "[152893 rows x 23 columns]"
            ]
          },
          "execution_count": 633,
          "metadata": {},
          "output_type": "execute_result"
        }
      ],
      "source": [
        "df_inf_features = df_inf_features.drop([\"combined_rating\"], axis=1)\n",
        "df_own_features = df_own_features.drop([\"combined_rating\"], axis=1)\n",
        "df_own_features"
      ]
    },
    {
      "cell_type": "code",
      "execution_count": null,
      "metadata": {},
      "outputs": [],
      "source": [
        "df_own_features.columns"
      ]
    },
    {
      "cell_type": "code",
      "execution_count": 634,
      "metadata": {
        "id": "PnmeND6m6fu8"
      },
      "outputs": [],
      "source": [
        "from imblearn.over_sampling import SMOTE\n",
        "import tensorflow as tf\n",
        "import random\n",
        "\n",
        "# Apply oversampling to each input type separately\n",
        "smote = SMOTE()\n",
        "df_features = pd.concat([df_inf_features, df_own_features], axis=1)\n",
        "# df_features, star_ratings = smote.fit_resample(df_features, df_history['star_rating'].values)"
      ]
    },
    {
      "cell_type": "code",
      "execution_count": 635,
      "metadata": {},
      "outputs": [],
      "source": [
        "# rating_count = np.unique(star_ratings, return_counts=True) \n",
        "# rating_count"
      ]
    },
    {
      "cell_type": "code",
      "execution_count": 636,
      "metadata": {},
      "outputs": [],
      "source": [
        "# # Chart labels\n",
        "# rating_count = rating_count[1]\n",
        "# ratings = range(1, 6)\n",
        "\n",
        "# # Show pie chart\n",
        "# plt.title(\"Label Distribution\")\n",
        "# plt.bar(x=ratings, height=rating_count)\n",
        "# plt.show()"
      ]
    },
    {
      "cell_type": "code",
      "execution_count": 637,
      "metadata": {},
      "outputs": [],
      "source": [
        "# star_ratings = star_ratings / 5\n",
        "# sentiment_ratings = star_ratings - 0.1 + 0.2 * random.random()\n",
        "# df_labels = pd.Series((STAR_WEIGHT * star_ratings + SENTIMENT_WEIGHT * sentiment_ratings).clip(0, 1))"
      ]
    },
    {
      "cell_type": "code",
      "execution_count": 638,
      "metadata": {},
      "outputs": [],
      "source": [
        "df_data = pd.concat([df_features, df_labels], axis=1).sample(frac=1)\n",
        "df_data_pos = df_data[df_data[\"combined_rating\"] > 0.4]\n",
        "df_data_neg = df_data[df_data[\"combined_rating\"] <= 0.4]"
      ]
    },
    {
      "cell_type": "code",
      "execution_count": 639,
      "metadata": {},
      "outputs": [],
      "source": [
        "df_inf_features_pos = df_data_pos.iloc[:, :INFLUENCER_FEATURE_COUNT]\n",
        "df_own_features_pos = df_data_pos.iloc[:, INFLUENCER_FEATURE_COUNT:-1]\n",
        "df_labels_pos = df_data_pos.iloc[:, -1]"
      ]
    },
    {
      "cell_type": "code",
      "execution_count": 640,
      "metadata": {},
      "outputs": [],
      "source": [
        "df_inf_features_neg = df_data_neg.iloc[:, :INFLUENCER_FEATURE_COUNT]\n",
        "df_own_features_neg = df_data_neg.iloc[:, INFLUENCER_FEATURE_COUNT:-1]\n",
        "df_labels_neg = df_data_neg.iloc[:, -1]"
      ]
    },
    {
      "cell_type": "markdown",
      "metadata": {},
      "source": [
        "##### Generate train, validation, and test dataset (positive and negative)"
      ]
    },
    {
      "cell_type": "code",
      "execution_count": 641,
      "metadata": {},
      "outputs": [
        {
          "name": "stdout",
          "output_type": "stream",
          "text": [
            "Positive data: ({'inf_feature': TensorSpec(shape=(24,), dtype=tf.float64, name=None), 'own_feature': TensorSpec(shape=(23,), dtype=tf.float64, name=None)}, TensorSpec(shape=(), dtype=tf.float64, name=None))\n",
            "Count positive data: 148337\n",
            "\n",
            "Negative data: ({'inf_feature': TensorSpec(shape=(24,), dtype=tf.float64, name=None), 'own_feature': TensorSpec(shape=(23,), dtype=tf.float64, name=None)}, TensorSpec(shape=(), dtype=tf.float64, name=None))\n",
            "Count negative data: 4556\n"
          ]
        }
      ],
      "source": [
        "SHUFFLE_BUFFER = 1000\n",
        "\n",
        "dataset_pos = tf.data.Dataset.from_tensor_slices(({\"inf_feature\": df_inf_features_pos, \"own_feature\": df_own_features_pos}, df_labels_pos))\n",
        "dataset_pos = dataset_pos.shuffle(SHUFFLE_BUFFER) \n",
        "dataset_neg = tf.data.Dataset.from_tensor_slices(({\"inf_feature\": df_inf_features_neg, \"own_feature\": df_own_features_neg}, df_labels_neg))\n",
        "dataset_neg = dataset_neg.shuffle(SHUFFLE_BUFFER) \n",
        "\n",
        "print(\"Positive data:\", dataset_pos.element_spec)\n",
        "print(\"Count positive data:\", dataset_pos.cardinality().numpy())\n",
        "\n",
        "print(\"\\nNegative data:\", dataset_neg.element_spec)\n",
        "print(\"Count negative data:\", dataset_neg.cardinality().numpy())"
      ]
    },
    {
      "cell_type": "code",
      "execution_count": 642,
      "metadata": {},
      "outputs": [
        {
          "name": "stdout",
          "output_type": "stream",
          "text": [
            "Positive training dataset has 133503 data\n",
            "Positive validation dataset has 7416 data\n",
            "Positive testing dataset has 7418 data\n"
          ]
        }
      ],
      "source": [
        "# Generate training, validation, and testing data\n",
        "POSITIVE_SIZE = dataset_pos.cardinality().numpy()\n",
        "TRAIN_POS_SIZE = int(POSITIVE_SIZE * 0.9)\n",
        "VAL_POS_SIZE = int(POSITIVE_SIZE * 0.05)\n",
        "TEST_POS_SIZE = POSITIVE_SIZE - TRAIN_POS_SIZE - VAL_POS_SIZE\n",
        "\n",
        "train_dataset_pos = dataset_pos.take(TRAIN_POS_SIZE)\n",
        "val_dataset_pos = dataset_pos.skip(TRAIN_POS_SIZE).take(VAL_POS_SIZE)\n",
        "test_dataset_pos = dataset_pos.skip(TRAIN_POS_SIZE + VAL_POS_SIZE).take(TEST_POS_SIZE)\n",
        "\n",
        "print(f\"Positive training dataset has {train_dataset_pos.cardinality().numpy()} data\")\n",
        "print(f\"Positive validation dataset has {val_dataset_pos.cardinality().numpy()} data\")\n",
        "print(f\"Positive testing dataset has {test_dataset_pos.cardinality().numpy()} data\")"
      ]
    },
    {
      "cell_type": "code",
      "execution_count": 643,
      "metadata": {},
      "outputs": [
        {
          "name": "stdout",
          "output_type": "stream",
          "text": [
            "Negative training dataset has 2278 data\n",
            "Negative validation dataset has 1139 data\n",
            "Negative testing dataset has 1139 data\n"
          ]
        }
      ],
      "source": [
        "# Generate training, validation, and testing data\n",
        "NEGATIVE_SIZE = dataset_neg.cardinality().numpy()\n",
        "TRAIN_NEG_SIZE = int(NEGATIVE_SIZE * 0.5)\n",
        "VAL_NEG_SIZE = int(NEGATIVE_SIZE * 0.25)\n",
        "TEST_NEG_SIZE = NEGATIVE_SIZE - TRAIN_NEG_SIZE - VAL_NEG_SIZE\n",
        "\n",
        "train_dataset_neg = dataset_neg.take(TRAIN_NEG_SIZE)\n",
        "val_dataset_neg = dataset_neg.skip(TRAIN_NEG_SIZE).take(VAL_NEG_SIZE)\n",
        "test_dataset_neg = dataset_neg.skip(TRAIN_NEG_SIZE + VAL_NEG_SIZE).take(TEST_NEG_SIZE)\n",
        "\n",
        "print(f\"Negative training dataset has {train_dataset_neg.cardinality().numpy()} data\")\n",
        "print(f\"Negative validation dataset has {val_dataset_neg.cardinality().numpy()} data\")\n",
        "print(f\"Negative testing dataset has {test_dataset_neg.cardinality().numpy()} data\")"
      ]
    },
    {
      "cell_type": "code",
      "execution_count": 644,
      "metadata": {},
      "outputs": [
        {
          "name": "stdout",
          "output_type": "stream",
          "text": [
            "Training dataset has 135781 data\n",
            "Validation dataset has 8555 data\n",
            "Testing dataset has 8557 data\n"
          ]
        }
      ],
      "source": [
        "train_dataset = train_dataset_pos.concatenate(train_dataset_neg)\n",
        "val_dataset = val_dataset_pos.concatenate(val_dataset_neg)\n",
        "test_dataset = test_dataset_pos.concatenate(test_dataset_neg)\n",
        "\n",
        "print(f\"Training dataset has {train_dataset.cardinality().numpy()} data\")\n",
        "print(f\"Validation dataset has {val_dataset.cardinality().numpy()} data\")\n",
        "print(f\"Testing dataset has {test_dataset.cardinality().numpy()} data\")"
      ]
    },
    {
      "cell_type": "code",
      "execution_count": 645,
      "metadata": {},
      "outputs": [],
      "source": [
        "# Batching\n",
        "REPEAT = 2\n",
        "\n",
        "train_dataset = train_dataset.batch(BATCH_SIZE)\n",
        "val_dataset = val_dataset.batch(BATCH_SIZE)\n",
        "test_dataset = test_dataset.batch(BATCH_SIZE)"
      ]
    },
    {
      "attachments": {},
      "cell_type": "markdown",
      "metadata": {},
      "source": [
        "##### Check Distribution"
      ]
    },
    {
      "cell_type": "code",
      "execution_count": 646,
      "metadata": {},
      "outputs": [],
      "source": [
        "def get_label(dataset):\n",
        "    labels = np.array([])\n",
        "    for batch in dataset:\n",
        "        labels = np.concatenate([labels, batch[1].numpy()])\n",
        "\n",
        "    return labels"
      ]
    },
    {
      "cell_type": "code",
      "execution_count": 647,
      "metadata": {},
      "outputs": [
        {
          "data": {
            "text/plain": [
              "(array([1, 2, 3, 4, 5, 6], dtype=int64),\n",
              " array([  521,  1656, 16443, 59600, 49815,  7746], dtype=int64))"
            ]
          },
          "execution_count": 647,
          "metadata": {},
          "output_type": "execute_result"
        }
      ],
      "source": [
        "bin = [0, 0.2, 0.4, 0.6, 0.8, 1]\n",
        "bucket = np.digitize(get_label(train_dataset), bin)\n",
        "np.unique(bucket, return_counts=True)"
      ]
    },
    {
      "cell_type": "code",
      "execution_count": 648,
      "metadata": {},
      "outputs": [
        {
          "data": {
            "text/plain": [
              "(array([1, 2, 3, 4, 5, 6], dtype=int64),\n",
              " array([ 274,  804, 1003, 3367, 2698,  409], dtype=int64))"
            ]
          },
          "execution_count": 648,
          "metadata": {},
          "output_type": "execute_result"
        }
      ],
      "source": [
        "bin = [0, 0.2, 0.4, 0.6, 0.8, 1]\n",
        "bucket = np.digitize(get_label(val_dataset), bin)\n",
        "np.unique(bucket, return_counts=True)"
      ]
    },
    {
      "cell_type": "code",
      "execution_count": 649,
      "metadata": {},
      "outputs": [
        {
          "data": {
            "text/plain": [
              "(array([1, 2, 3, 4, 5, 6], dtype=int64),\n",
              " array([ 258,  823,  984, 3289, 2760,  443], dtype=int64))"
            ]
          },
          "execution_count": 649,
          "metadata": {},
          "output_type": "execute_result"
        }
      ],
      "source": [
        "bin = [0, 0.2, 0.4, 0.6, 0.8, 1]\n",
        "bucket = np.digitize(get_label(test_dataset), bin)\n",
        "np.unique(bucket, return_counts=True)"
      ]
    },
    {
      "cell_type": "markdown",
      "metadata": {
        "id": "FXSuhNrm6b0x"
      },
      "source": [
        "## Creating Model"
      ]
    },
    {
      "cell_type": "markdown",
      "metadata": {
        "id": "i6kYNqE66b0x"
      },
      "source": [
        "Model consists of two neural networks that would be combined with Dot layer. The first neural network has influencer features as input and a vector as an output. The second one has owner features as input and a vector as an output. These two vectors will be combined with Dot layer and produces a single combined rating"
      ]
    },
    {
      "cell_type": "code",
      "execution_count": 650,
      "metadata": {
        "colab": {
          "base_uri": "https://localhost:8080/"
        },
        "id": "E1rqEGj46b0x",
        "outputId": "e16af3bb-cd14-46ab-8760-0d52c3691dd1"
      },
      "outputs": [
        {
          "name": "stdout",
          "output_type": "stream",
          "text": [
            "Model: \"model_7\"\n",
            "__________________________________________________________________________________________________\n",
            " Layer (type)                   Output Shape         Param #     Connected to                     \n",
            "==================================================================================================\n",
            " inf_feature (InputLayer)       [(None, 24)]         0           []                               \n",
            "                                                                                                  \n",
            " own_feature (InputLayer)       [(None, 23)]         0           []                               \n",
            "                                                                                                  \n",
            " sequential_14 (Sequential)     (None, 32)           7328        ['inf_feature[0][0]']            \n",
            "                                                                                                  \n",
            " sequential_15 (Sequential)     (None, 32)           7200        ['own_feature[0][0]']            \n",
            "                                                                                                  \n",
            " tf.math.l2_normalize_14 (TFOpL  (None, 32)          0           ['sequential_14[0][0]']          \n",
            " ambda)                                                                                           \n",
            "                                                                                                  \n",
            " tf.math.l2_normalize_15 (TFOpL  (None, 32)          0           ['sequential_15[0][0]']          \n",
            " ambda)                                                                                           \n",
            "                                                                                                  \n",
            " dot_7 (Dot)                    (None, 1)            0           ['tf.math.l2_normalize_14[0][0]',\n",
            "                                                                  'tf.math.l2_normalize_15[0][0]']\n",
            "                                                                                                  \n",
            "==================================================================================================\n",
            "Total params: 14,528\n",
            "Trainable params: 14,528\n",
            "Non-trainable params: 0\n",
            "__________________________________________________________________________________________________\n"
          ]
        }
      ],
      "source": [
        "VECTOR_SIZE = 32\n",
        "# tf.random.set_seed(1)\n",
        "\n",
        "model_influencer = tf.keras.models.Sequential([\n",
        "    # tf.keras.layers.Dense(units=512, activation='relu'),\n",
        "    # tf.keras.layers.Dropout(0.8),\n",
        "    # tf.keras.layers.Dense(units=512, activation='relu'),\n",
        "    # tf.keras.layers.Dropout(0.9),\n",
        "    # tf.keras.layers.Dense(units=128, activation='relu'),\n",
        "    # tf.keras.layers.Dropout(0.9),\n",
        "    tf.keras.layers.Dense(units=128, activation='relu'),\n",
        "    tf.keras.layers.Dense(units=VECTOR_SIZE, activation='linear'),\n",
        "])\n",
        "\n",
        "# create the influencer input and point to the base network\n",
        "input_influencer = tf.keras.layers.Input(shape=(INFLUENCER_FEATURE_COUNT), name=\"inf_feature\")\n",
        "vi = model_influencer(input_influencer)\n",
        "vi = tf.linalg.l2_normalize(vi, axis=1)\n",
        "\n",
        "model_owner = tf.keras.models.Sequential([\n",
        "    # tf.keras.layers.Dense(units=512, activation='relu'),\n",
        "    # tf.keras.layers.Dropout(0.8),\n",
        "    # tf.keras.layers.Dense(units=512, activation='relu'),\n",
        "    # tf.keras.layers.Dropout(0.9),\n",
        "    # tf.keras.layers.Dense(units=128, activation='relu'),\n",
        "    # tf.keras.layers.Dropout(0.9),\n",
        "    tf.keras.layers.Dense(units=128, activation='relu'),\n",
        "    tf.keras.layers.Dropout(0.9),\n",
        "    tf.keras.layers.Dense(units=VECTOR_SIZE, activation='linear'),\n",
        "])\n",
        "\n",
        "# create the owner input and point to the base network\n",
        "input_owner = tf.keras.layers.Input(shape=(OWNER_FEATURE_COUNT), name=\"own_feature\")\n",
        "vo = model_owner(input_owner)\n",
        "vo = tf.linalg.l2_normalize(vo, axis=1)\n",
        "\n",
        "# compute the dot product of the two vectors vi and vo\n",
        "output = tf.keras.layers.Dot(axes=1)([vi, vo])\n",
        "\n",
        "# specify the inputs and output of the model\n",
        "model = tf.keras.Model([input_influencer, input_owner], output)\n",
        "\n",
        "model.summary()"
      ]
    },
    {
      "cell_type": "code",
      "execution_count": 707,
      "metadata": {
        "colab": {
          "base_uri": "https://localhost:8080/"
        },
        "id": "LtNfqm8D6b0y",
        "outputId": "54359439-1023-45cb-d362-4dacbf05e392"
      },
      "outputs": [
        {
          "name": "stdout",
          "output_type": "stream",
          "text": [
            "Epoch 1/300\n",
            "1061/1061 [==============================] - 3s 2ms/step - loss: 0.1003 - mse: 0.0173 - mae: 0.1003 - val_loss: 0.1351 - val_mse: 0.0362 - val_mae: 0.1351\n",
            "Epoch 2/300\n",
            "1061/1061 [==============================] - 2s 2ms/step - loss: 0.1003 - mse: 0.0173 - mae: 0.1003 - val_loss: 0.1342 - val_mse: 0.0357 - val_mae: 0.1342\n",
            "Epoch 3/300\n",
            "1061/1061 [==============================] - 2s 2ms/step - loss: 0.1003 - mse: 0.0173 - mae: 0.1003 - val_loss: 0.1344 - val_mse: 0.0359 - val_mae: 0.1344\n",
            "Epoch 4/300\n",
            "1061/1061 [==============================] - 2s 2ms/step - loss: 0.1005 - mse: 0.0173 - mae: 0.1005 - val_loss: 0.1345 - val_mse: 0.0357 - val_mae: 0.1345\n",
            "Epoch 5/300\n",
            "1061/1061 [==============================] - 2s 2ms/step - loss: 0.1004 - mse: 0.0173 - mae: 0.1004 - val_loss: 0.1350 - val_mse: 0.0359 - val_mae: 0.1350\n",
            "Epoch 6/300\n",
            "1061/1061 [==============================] - 2s 2ms/step - loss: 0.1005 - mse: 0.0173 - mae: 0.1005 - val_loss: 0.1345 - val_mse: 0.0357 - val_mae: 0.1345\n",
            "Epoch 7/300\n",
            "1061/1061 [==============================] - 2s 2ms/step - loss: 0.1004 - mse: 0.0173 - mae: 0.1004 - val_loss: 0.1349 - val_mse: 0.0362 - val_mae: 0.1349\n",
            "Epoch 8/300\n",
            "1061/1061 [==============================] - 2s 2ms/step - loss: 0.1005 - mse: 0.0173 - mae: 0.1005 - val_loss: 0.1352 - val_mse: 0.0361 - val_mae: 0.1352\n",
            "Epoch 9/300\n",
            "1061/1061 [==============================] - 2s 2ms/step - loss: 0.1003 - mse: 0.0173 - mae: 0.1003 - val_loss: 0.1344 - val_mse: 0.0359 - val_mae: 0.1344\n",
            "Epoch 10/300\n",
            "1061/1061 [==============================] - 2s 2ms/step - loss: 0.1003 - mse: 0.0173 - mae: 0.1003 - val_loss: 0.1350 - val_mse: 0.0359 - val_mae: 0.1350\n",
            "Epoch 11/300\n",
            "1061/1061 [==============================] - 2s 2ms/step - loss: 0.1004 - mse: 0.0173 - mae: 0.1004 - val_loss: 0.1347 - val_mse: 0.0358 - val_mae: 0.1347\n",
            "Epoch 12/300\n",
            "1061/1061 [==============================] - 2s 2ms/step - loss: 0.1004 - mse: 0.0173 - mae: 0.1004 - val_loss: 0.1349 - val_mse: 0.0361 - val_mae: 0.1349\n",
            "Epoch 13/300\n",
            "1061/1061 [==============================] - 2s 2ms/step - loss: 0.1004 - mse: 0.0173 - mae: 0.1004 - val_loss: 0.1345 - val_mse: 0.0357 - val_mae: 0.1345\n",
            "Epoch 14/300\n",
            "1061/1061 [==============================] - 2s 2ms/step - loss: 0.1004 - mse: 0.0172 - mae: 0.1004 - val_loss: 0.1353 - val_mse: 0.0363 - val_mae: 0.1353\n",
            "Epoch 15/300\n",
            "1061/1061 [==============================] - 2s 2ms/step - loss: 0.1003 - mse: 0.0173 - mae: 0.1003 - val_loss: 0.1346 - val_mse: 0.0360 - val_mae: 0.1346\n",
            "Epoch 16/300\n",
            "1061/1061 [==============================] - 2s 2ms/step - loss: 0.1004 - mse: 0.0173 - mae: 0.1004 - val_loss: 0.1346 - val_mse: 0.0357 - val_mae: 0.1346\n",
            "Epoch 17/300\n",
            "1061/1061 [==============================] - 2s 2ms/step - loss: 0.1003 - mse: 0.0173 - mae: 0.1003 - val_loss: 0.1340 - val_mse: 0.0354 - val_mae: 0.1340\n",
            "Epoch 18/300\n",
            "1061/1061 [==============================] - 2s 2ms/step - loss: 0.1004 - mse: 0.0173 - mae: 0.1004 - val_loss: 0.1345 - val_mse: 0.0359 - val_mae: 0.1345\n",
            "Epoch 19/300\n",
            "1061/1061 [==============================] - 2s 2ms/step - loss: 0.1002 - mse: 0.0172 - mae: 0.1002 - val_loss: 0.1345 - val_mse: 0.0357 - val_mae: 0.1345\n",
            "Epoch 20/300\n",
            "1061/1061 [==============================] - 2s 2ms/step - loss: 0.1003 - mse: 0.0173 - mae: 0.1003 - val_loss: 0.1338 - val_mse: 0.0352 - val_mae: 0.1338\n",
            "Epoch 21/300\n",
            "1061/1061 [==============================] - 2s 2ms/step - loss: 0.1003 - mse: 0.0173 - mae: 0.1003 - val_loss: 0.1348 - val_mse: 0.0360 - val_mae: 0.1348\n",
            "Epoch 22/300\n",
            "1061/1061 [==============================] - 2s 2ms/step - loss: 0.1003 - mse: 0.0172 - mae: 0.1003 - val_loss: 0.1344 - val_mse: 0.0359 - val_mae: 0.1344\n",
            "Epoch 23/300\n",
            "1061/1061 [==============================] - 2s 2ms/step - loss: 0.1003 - mse: 0.0173 - mae: 0.1003 - val_loss: 0.1344 - val_mse: 0.0357 - val_mae: 0.1344\n",
            "Epoch 24/300\n",
            "1061/1061 [==============================] - 2s 2ms/step - loss: 0.1003 - mse: 0.0172 - mae: 0.1003 - val_loss: 0.1344 - val_mse: 0.0355 - val_mae: 0.1344\n",
            "Epoch 25/300\n",
            "1061/1061 [==============================] - 2s 2ms/step - loss: 0.1001 - mse: 0.0172 - mae: 0.1001 - val_loss: 0.1350 - val_mse: 0.0359 - val_mae: 0.1350\n",
            "Epoch 26/300\n",
            "1061/1061 [==============================] - 2s 2ms/step - loss: 0.1003 - mse: 0.0172 - mae: 0.1003 - val_loss: 0.1336 - val_mse: 0.0353 - val_mae: 0.1336\n",
            "Epoch 27/300\n",
            "1061/1061 [==============================] - 2s 2ms/step - loss: 0.1003 - mse: 0.0172 - mae: 0.1003 - val_loss: 0.1345 - val_mse: 0.0357 - val_mae: 0.1345\n",
            "Epoch 28/300\n",
            "1061/1061 [==============================] - 2s 2ms/step - loss: 0.1003 - mse: 0.0172 - mae: 0.1003 - val_loss: 0.1338 - val_mse: 0.0355 - val_mae: 0.1338\n",
            "Epoch 29/300\n",
            "1061/1061 [==============================] - 2s 2ms/step - loss: 0.1003 - mse: 0.0173 - mae: 0.1003 - val_loss: 0.1343 - val_mse: 0.0354 - val_mae: 0.1343\n",
            "Epoch 30/300\n",
            "1061/1061 [==============================] - 2s 2ms/step - loss: 0.1004 - mse: 0.0173 - mae: 0.1004 - val_loss: 0.1351 - val_mse: 0.0361 - val_mae: 0.1351\n",
            "Epoch 31/300\n",
            "1061/1061 [==============================] - 2s 2ms/step - loss: 0.1004 - mse: 0.0172 - mae: 0.1004 - val_loss: 0.1338 - val_mse: 0.0352 - val_mae: 0.1338\n",
            "Epoch 32/300\n",
            "1061/1061 [==============================] - 2s 1ms/step - loss: 0.1003 - mse: 0.0172 - mae: 0.1003 - val_loss: 0.1342 - val_mse: 0.0354 - val_mae: 0.1342\n",
            "Epoch 33/300\n",
            "1061/1061 [==============================] - 2s 2ms/step - loss: 0.1003 - mse: 0.0173 - mae: 0.1003 - val_loss: 0.1345 - val_mse: 0.0358 - val_mae: 0.1345\n",
            "Epoch 34/300\n",
            "1061/1061 [==============================] - 2s 1ms/step - loss: 0.1003 - mse: 0.0172 - mae: 0.1003 - val_loss: 0.1345 - val_mse: 0.0359 - val_mae: 0.1345\n",
            "Epoch 35/300\n",
            "1061/1061 [==============================] - 2s 2ms/step - loss: 0.1002 - mse: 0.0172 - mae: 0.1002 - val_loss: 0.1337 - val_mse: 0.0355 - val_mae: 0.1337\n",
            "Epoch 36/300\n",
            "1061/1061 [==============================] - 2s 2ms/step - loss: 0.1002 - mse: 0.0172 - mae: 0.1002 - val_loss: 0.1340 - val_mse: 0.0357 - val_mae: 0.1340\n",
            "Epoch 37/300\n",
            "1061/1061 [==============================] - 2s 2ms/step - loss: 0.1002 - mse: 0.0172 - mae: 0.1002 - val_loss: 0.1351 - val_mse: 0.0359 - val_mae: 0.1351\n",
            "Epoch 38/300\n",
            "1061/1061 [==============================] - 2s 2ms/step - loss: 0.1002 - mse: 0.0172 - mae: 0.1002 - val_loss: 0.1347 - val_mse: 0.0359 - val_mae: 0.1347\n",
            "Epoch 39/300\n",
            "1061/1061 [==============================] - 2s 2ms/step - loss: 0.1001 - mse: 0.0172 - mae: 0.1001 - val_loss: 0.1340 - val_mse: 0.0353 - val_mae: 0.1340\n",
            "Epoch 40/300\n",
            "1061/1061 [==============================] - 2s 2ms/step - loss: 0.1000 - mse: 0.0172 - mae: 0.1000 - val_loss: 0.1348 - val_mse: 0.0358 - val_mae: 0.1348\n",
            "Epoch 41/300\n",
            "1061/1061 [==============================] - 2s 2ms/step - loss: 0.1001 - mse: 0.0172 - mae: 0.1001 - val_loss: 0.1346 - val_mse: 0.0359 - val_mae: 0.1346\n",
            "Epoch 42/300\n",
            "1061/1061 [==============================] - 2s 2ms/step - loss: 0.1003 - mse: 0.0173 - mae: 0.1003 - val_loss: 0.1340 - val_mse: 0.0353 - val_mae: 0.1340\n",
            "Epoch 43/300\n",
            "1061/1061 [==============================] - 2s 2ms/step - loss: 0.1003 - mse: 0.0172 - mae: 0.1003 - val_loss: 0.1336 - val_mse: 0.0350 - val_mae: 0.1336\n",
            "Epoch 44/300\n",
            "1061/1061 [==============================] - 2s 2ms/step - loss: 0.1002 - mse: 0.0172 - mae: 0.1002 - val_loss: 0.1348 - val_mse: 0.0360 - val_mae: 0.1348\n",
            "Epoch 45/300\n",
            "1061/1061 [==============================] - 2s 2ms/step - loss: 0.1002 - mse: 0.0172 - mae: 0.1002 - val_loss: 0.1342 - val_mse: 0.0355 - val_mae: 0.1342\n",
            "Epoch 46/300\n",
            "1061/1061 [==============================] - 2s 2ms/step - loss: 0.1001 - mse: 0.0172 - mae: 0.1001 - val_loss: 0.1334 - val_mse: 0.0350 - val_mae: 0.1334\n",
            "Epoch 47/300\n",
            "1061/1061 [==============================] - 2s 2ms/step - loss: 0.1002 - mse: 0.0172 - mae: 0.1002 - val_loss: 0.1340 - val_mse: 0.0356 - val_mae: 0.1340\n",
            "Epoch 48/300\n",
            "1061/1061 [==============================] - 2s 2ms/step - loss: 0.1001 - mse: 0.0172 - mae: 0.1001 - val_loss: 0.1339 - val_mse: 0.0355 - val_mae: 0.1339\n",
            "Epoch 49/300\n",
            "1061/1061 [==============================] - 2s 2ms/step - loss: 0.1002 - mse: 0.0172 - mae: 0.1002 - val_loss: 0.1345 - val_mse: 0.0357 - val_mae: 0.1345\n",
            "Epoch 50/300\n",
            "1061/1061 [==============================] - 2s 2ms/step - loss: 0.1001 - mse: 0.0172 - mae: 0.1001 - val_loss: 0.1334 - val_mse: 0.0351 - val_mae: 0.1334\n",
            "Epoch 51/300\n",
            "1061/1061 [==============================] - 2s 2ms/step - loss: 0.1003 - mse: 0.0172 - mae: 0.1003 - val_loss: 0.1336 - val_mse: 0.0351 - val_mae: 0.1336\n",
            "Epoch 52/300\n",
            "1061/1061 [==============================] - 2s 2ms/step - loss: 0.1002 - mse: 0.0172 - mae: 0.1002 - val_loss: 0.1343 - val_mse: 0.0355 - val_mae: 0.1343\n",
            "Epoch 53/300\n",
            "1061/1061 [==============================] - 2s 2ms/step - loss: 0.1001 - mse: 0.0172 - mae: 0.1001 - val_loss: 0.1343 - val_mse: 0.0353 - val_mae: 0.1343\n",
            "Epoch 54/300\n",
            "1061/1061 [==============================] - 2s 2ms/step - loss: 0.1001 - mse: 0.0172 - mae: 0.1001 - val_loss: 0.1341 - val_mse: 0.0354 - val_mae: 0.1341\n",
            "Epoch 55/300\n",
            "1061/1061 [==============================] - 2s 2ms/step - loss: 0.1002 - mse: 0.0172 - mae: 0.1002 - val_loss: 0.1336 - val_mse: 0.0352 - val_mae: 0.1336\n",
            "Epoch 56/300\n",
            "1061/1061 [==============================] - 2s 2ms/step - loss: 0.1001 - mse: 0.0172 - mae: 0.1001 - val_loss: 0.1342 - val_mse: 0.0361 - val_mae: 0.1342\n",
            "Epoch 57/300\n",
            "1008/1061 [===========================>..] - ETA: 0s - loss: 0.0949 - mse: 0.0144 - mae: 0.0949"
          ]
        },
        {
          "ename": "KeyboardInterrupt",
          "evalue": "",
          "output_type": "error",
          "traceback": [
            "\u001b[1;31m---------------------------------------------------------------------------\u001b[0m",
            "\u001b[1;31mKeyboardInterrupt\u001b[0m                         Traceback (most recent call last)",
            "Cell \u001b[1;32mIn[707], line 11\u001b[0m\n\u001b[0;32m      9\u001b[0m model \u001b[39m=\u001b[39m tf\u001b[39m.\u001b[39mkeras\u001b[39m.\u001b[39mmodels\u001b[39m.\u001b[39mload_model(os\u001b[39m.\u001b[39mpath\u001b[39m.\u001b[39mjoin(KERAS_DIR, LOG_NAME))\n\u001b[0;32m     10\u001b[0m LOG_NAME \u001b[39m+\u001b[39m\u001b[39m=\u001b[39m \u001b[39m\"\u001b[39m\u001b[39mI\u001b[39m\u001b[39m\"\u001b[39m\n\u001b[1;32m---> 11\u001b[0m history \u001b[39m=\u001b[39m model\u001b[39m.\u001b[39;49mfit(train_dataset, validation_data\u001b[39m=\u001b[39;49mval_dataset, epochs\u001b[39m=\u001b[39;49mEPOCH)\n\u001b[0;32m     12\u001b[0m end_time \u001b[39m=\u001b[39m time\u001b[39m.\u001b[39mtime()\n\u001b[0;32m     13\u001b[0m training_time \u001b[39m=\u001b[39m end_time \u001b[39m-\u001b[39m start_time\n",
            "File \u001b[1;32md:\\Apps2\\anaconda3\\envs\\tensorflow\\Lib\\site-packages\\keras\\utils\\traceback_utils.py:65\u001b[0m, in \u001b[0;36mfilter_traceback.<locals>.error_handler\u001b[1;34m(*args, **kwargs)\u001b[0m\n\u001b[0;32m     63\u001b[0m filtered_tb \u001b[39m=\u001b[39m \u001b[39mNone\u001b[39;00m\n\u001b[0;32m     64\u001b[0m \u001b[39mtry\u001b[39;00m:\n\u001b[1;32m---> 65\u001b[0m     \u001b[39mreturn\u001b[39;00m fn(\u001b[39m*\u001b[39;49margs, \u001b[39m*\u001b[39;49m\u001b[39m*\u001b[39;49mkwargs)\n\u001b[0;32m     66\u001b[0m \u001b[39mexcept\u001b[39;00m \u001b[39mException\u001b[39;00m \u001b[39mas\u001b[39;00m e:\n\u001b[0;32m     67\u001b[0m     filtered_tb \u001b[39m=\u001b[39m _process_traceback_frames(e\u001b[39m.\u001b[39m__traceback__)\n",
            "File \u001b[1;32md:\\Apps2\\anaconda3\\envs\\tensorflow\\Lib\\site-packages\\keras\\engine\\training.py:1685\u001b[0m, in \u001b[0;36mModel.fit\u001b[1;34m(self, x, y, batch_size, epochs, verbose, callbacks, validation_split, validation_data, shuffle, class_weight, sample_weight, initial_epoch, steps_per_epoch, validation_steps, validation_batch_size, validation_freq, max_queue_size, workers, use_multiprocessing)\u001b[0m\n\u001b[0;32m   1677\u001b[0m \u001b[39mwith\u001b[39;00m tf\u001b[39m.\u001b[39mprofiler\u001b[39m.\u001b[39mexperimental\u001b[39m.\u001b[39mTrace(\n\u001b[0;32m   1678\u001b[0m     \u001b[39m\"\u001b[39m\u001b[39mtrain\u001b[39m\u001b[39m\"\u001b[39m,\n\u001b[0;32m   1679\u001b[0m     epoch_num\u001b[39m=\u001b[39mepoch,\n\u001b[1;32m   (...)\u001b[0m\n\u001b[0;32m   1682\u001b[0m     _r\u001b[39m=\u001b[39m\u001b[39m1\u001b[39m,\n\u001b[0;32m   1683\u001b[0m ):\n\u001b[0;32m   1684\u001b[0m     callbacks\u001b[39m.\u001b[39mon_train_batch_begin(step)\n\u001b[1;32m-> 1685\u001b[0m     tmp_logs \u001b[39m=\u001b[39m \u001b[39mself\u001b[39;49m\u001b[39m.\u001b[39;49mtrain_function(iterator)\n\u001b[0;32m   1686\u001b[0m     \u001b[39mif\u001b[39;00m data_handler\u001b[39m.\u001b[39mshould_sync:\n\u001b[0;32m   1687\u001b[0m         context\u001b[39m.\u001b[39masync_wait()\n",
            "File \u001b[1;32md:\\Apps2\\anaconda3\\envs\\tensorflow\\Lib\\site-packages\\tensorflow\\python\\util\\traceback_utils.py:150\u001b[0m, in \u001b[0;36mfilter_traceback.<locals>.error_handler\u001b[1;34m(*args, **kwargs)\u001b[0m\n\u001b[0;32m    148\u001b[0m filtered_tb \u001b[39m=\u001b[39m \u001b[39mNone\u001b[39;00m\n\u001b[0;32m    149\u001b[0m \u001b[39mtry\u001b[39;00m:\n\u001b[1;32m--> 150\u001b[0m   \u001b[39mreturn\u001b[39;00m fn(\u001b[39m*\u001b[39;49margs, \u001b[39m*\u001b[39;49m\u001b[39m*\u001b[39;49mkwargs)\n\u001b[0;32m    151\u001b[0m \u001b[39mexcept\u001b[39;00m \u001b[39mException\u001b[39;00m \u001b[39mas\u001b[39;00m e:\n\u001b[0;32m    152\u001b[0m   filtered_tb \u001b[39m=\u001b[39m _process_traceback_frames(e\u001b[39m.\u001b[39m__traceback__)\n",
            "File \u001b[1;32md:\\Apps2\\anaconda3\\envs\\tensorflow\\Lib\\site-packages\\tensorflow\\python\\eager\\polymorphic_function\\polymorphic_function.py:894\u001b[0m, in \u001b[0;36mFunction.__call__\u001b[1;34m(self, *args, **kwds)\u001b[0m\n\u001b[0;32m    891\u001b[0m compiler \u001b[39m=\u001b[39m \u001b[39m\"\u001b[39m\u001b[39mxla\u001b[39m\u001b[39m\"\u001b[39m \u001b[39mif\u001b[39;00m \u001b[39mself\u001b[39m\u001b[39m.\u001b[39m_jit_compile \u001b[39melse\u001b[39;00m \u001b[39m\"\u001b[39m\u001b[39mnonXla\u001b[39m\u001b[39m\"\u001b[39m\n\u001b[0;32m    893\u001b[0m \u001b[39mwith\u001b[39;00m OptionalXlaContext(\u001b[39mself\u001b[39m\u001b[39m.\u001b[39m_jit_compile):\n\u001b[1;32m--> 894\u001b[0m   result \u001b[39m=\u001b[39m \u001b[39mself\u001b[39;49m\u001b[39m.\u001b[39;49m_call(\u001b[39m*\u001b[39;49margs, \u001b[39m*\u001b[39;49m\u001b[39m*\u001b[39;49mkwds)\n\u001b[0;32m    896\u001b[0m new_tracing_count \u001b[39m=\u001b[39m \u001b[39mself\u001b[39m\u001b[39m.\u001b[39mexperimental_get_tracing_count()\n\u001b[0;32m    897\u001b[0m without_tracing \u001b[39m=\u001b[39m (tracing_count \u001b[39m==\u001b[39m new_tracing_count)\n",
            "File \u001b[1;32md:\\Apps2\\anaconda3\\envs\\tensorflow\\Lib\\site-packages\\tensorflow\\python\\eager\\polymorphic_function\\polymorphic_function.py:926\u001b[0m, in \u001b[0;36mFunction._call\u001b[1;34m(self, *args, **kwds)\u001b[0m\n\u001b[0;32m    923\u001b[0m   \u001b[39mself\u001b[39m\u001b[39m.\u001b[39m_lock\u001b[39m.\u001b[39mrelease()\n\u001b[0;32m    924\u001b[0m   \u001b[39m# In this case we have created variables on the first call, so we run the\u001b[39;00m\n\u001b[0;32m    925\u001b[0m   \u001b[39m# defunned version which is guaranteed to never create variables.\u001b[39;00m\n\u001b[1;32m--> 926\u001b[0m   \u001b[39mreturn\u001b[39;00m \u001b[39mself\u001b[39;49m\u001b[39m.\u001b[39;49m_no_variable_creation_fn(\u001b[39m*\u001b[39;49margs, \u001b[39m*\u001b[39;49m\u001b[39m*\u001b[39;49mkwds)  \u001b[39m# pylint: disable=not-callable\u001b[39;00m\n\u001b[0;32m    927\u001b[0m \u001b[39melif\u001b[39;00m \u001b[39mself\u001b[39m\u001b[39m.\u001b[39m_variable_creation_fn \u001b[39mis\u001b[39;00m \u001b[39mnot\u001b[39;00m \u001b[39mNone\u001b[39;00m:\n\u001b[0;32m    928\u001b[0m   \u001b[39m# Release the lock early so that multiple threads can perform the call\u001b[39;00m\n\u001b[0;32m    929\u001b[0m   \u001b[39m# in parallel.\u001b[39;00m\n\u001b[0;32m    930\u001b[0m   \u001b[39mself\u001b[39m\u001b[39m.\u001b[39m_lock\u001b[39m.\u001b[39mrelease()\n",
            "File \u001b[1;32md:\\Apps2\\anaconda3\\envs\\tensorflow\\Lib\\site-packages\\tensorflow\\python\\eager\\polymorphic_function\\tracing_compiler.py:143\u001b[0m, in \u001b[0;36mTracingCompiler.__call__\u001b[1;34m(self, *args, **kwargs)\u001b[0m\n\u001b[0;32m    140\u001b[0m \u001b[39mwith\u001b[39;00m \u001b[39mself\u001b[39m\u001b[39m.\u001b[39m_lock:\n\u001b[0;32m    141\u001b[0m   (concrete_function,\n\u001b[0;32m    142\u001b[0m    filtered_flat_args) \u001b[39m=\u001b[39m \u001b[39mself\u001b[39m\u001b[39m.\u001b[39m_maybe_define_function(args, kwargs)\n\u001b[1;32m--> 143\u001b[0m \u001b[39mreturn\u001b[39;00m concrete_function\u001b[39m.\u001b[39;49m_call_flat(\n\u001b[0;32m    144\u001b[0m     filtered_flat_args, captured_inputs\u001b[39m=\u001b[39;49mconcrete_function\u001b[39m.\u001b[39;49mcaptured_inputs)\n",
            "File \u001b[1;32md:\\Apps2\\anaconda3\\envs\\tensorflow\\Lib\\site-packages\\tensorflow\\python\\eager\\polymorphic_function\\monomorphic_function.py:1757\u001b[0m, in \u001b[0;36mConcreteFunction._call_flat\u001b[1;34m(self, args, captured_inputs, cancellation_manager)\u001b[0m\n\u001b[0;32m   1753\u001b[0m possible_gradient_type \u001b[39m=\u001b[39m gradients_util\u001b[39m.\u001b[39mPossibleTapeGradientTypes(args)\n\u001b[0;32m   1754\u001b[0m \u001b[39mif\u001b[39;00m (possible_gradient_type \u001b[39m==\u001b[39m gradients_util\u001b[39m.\u001b[39mPOSSIBLE_GRADIENT_TYPES_NONE\n\u001b[0;32m   1755\u001b[0m     \u001b[39mand\u001b[39;00m executing_eagerly):\n\u001b[0;32m   1756\u001b[0m   \u001b[39m# No tape is watching; skip to running the function.\u001b[39;00m\n\u001b[1;32m-> 1757\u001b[0m   \u001b[39mreturn\u001b[39;00m \u001b[39mself\u001b[39m\u001b[39m.\u001b[39m_build_call_outputs(\u001b[39mself\u001b[39;49m\u001b[39m.\u001b[39;49m_inference_function\u001b[39m.\u001b[39;49mcall(\n\u001b[0;32m   1758\u001b[0m       ctx, args, cancellation_manager\u001b[39m=\u001b[39;49mcancellation_manager))\n\u001b[0;32m   1759\u001b[0m forward_backward \u001b[39m=\u001b[39m \u001b[39mself\u001b[39m\u001b[39m.\u001b[39m_select_forward_and_backward_functions(\n\u001b[0;32m   1760\u001b[0m     args,\n\u001b[0;32m   1761\u001b[0m     possible_gradient_type,\n\u001b[0;32m   1762\u001b[0m     executing_eagerly)\n\u001b[0;32m   1763\u001b[0m forward_function, args_with_tangents \u001b[39m=\u001b[39m forward_backward\u001b[39m.\u001b[39mforward()\n",
            "File \u001b[1;32md:\\Apps2\\anaconda3\\envs\\tensorflow\\Lib\\site-packages\\tensorflow\\python\\eager\\polymorphic_function\\monomorphic_function.py:381\u001b[0m, in \u001b[0;36m_EagerDefinedFunction.call\u001b[1;34m(self, ctx, args, cancellation_manager)\u001b[0m\n\u001b[0;32m    379\u001b[0m \u001b[39mwith\u001b[39;00m _InterpolateFunctionError(\u001b[39mself\u001b[39m):\n\u001b[0;32m    380\u001b[0m   \u001b[39mif\u001b[39;00m cancellation_manager \u001b[39mis\u001b[39;00m \u001b[39mNone\u001b[39;00m:\n\u001b[1;32m--> 381\u001b[0m     outputs \u001b[39m=\u001b[39m execute\u001b[39m.\u001b[39;49mexecute(\n\u001b[0;32m    382\u001b[0m         \u001b[39mstr\u001b[39;49m(\u001b[39mself\u001b[39;49m\u001b[39m.\u001b[39;49msignature\u001b[39m.\u001b[39;49mname),\n\u001b[0;32m    383\u001b[0m         num_outputs\u001b[39m=\u001b[39;49m\u001b[39mself\u001b[39;49m\u001b[39m.\u001b[39;49m_num_outputs,\n\u001b[0;32m    384\u001b[0m         inputs\u001b[39m=\u001b[39;49margs,\n\u001b[0;32m    385\u001b[0m         attrs\u001b[39m=\u001b[39;49mattrs,\n\u001b[0;32m    386\u001b[0m         ctx\u001b[39m=\u001b[39;49mctx)\n\u001b[0;32m    387\u001b[0m   \u001b[39melse\u001b[39;00m:\n\u001b[0;32m    388\u001b[0m     outputs \u001b[39m=\u001b[39m execute\u001b[39m.\u001b[39mexecute_with_cancellation(\n\u001b[0;32m    389\u001b[0m         \u001b[39mstr\u001b[39m(\u001b[39mself\u001b[39m\u001b[39m.\u001b[39msignature\u001b[39m.\u001b[39mname),\n\u001b[0;32m    390\u001b[0m         num_outputs\u001b[39m=\u001b[39m\u001b[39mself\u001b[39m\u001b[39m.\u001b[39m_num_outputs,\n\u001b[1;32m   (...)\u001b[0m\n\u001b[0;32m    393\u001b[0m         ctx\u001b[39m=\u001b[39mctx,\n\u001b[0;32m    394\u001b[0m         cancellation_manager\u001b[39m=\u001b[39mcancellation_manager)\n",
            "File \u001b[1;32md:\\Apps2\\anaconda3\\envs\\tensorflow\\Lib\\site-packages\\tensorflow\\python\\eager\\execute.py:52\u001b[0m, in \u001b[0;36mquick_execute\u001b[1;34m(op_name, num_outputs, inputs, attrs, ctx, name)\u001b[0m\n\u001b[0;32m     50\u001b[0m \u001b[39mtry\u001b[39;00m:\n\u001b[0;32m     51\u001b[0m   ctx\u001b[39m.\u001b[39mensure_initialized()\n\u001b[1;32m---> 52\u001b[0m   tensors \u001b[39m=\u001b[39m pywrap_tfe\u001b[39m.\u001b[39;49mTFE_Py_Execute(ctx\u001b[39m.\u001b[39;49m_handle, device_name, op_name,\n\u001b[0;32m     53\u001b[0m                                       inputs, attrs, num_outputs)\n\u001b[0;32m     54\u001b[0m \u001b[39mexcept\u001b[39;00m core\u001b[39m.\u001b[39m_NotOkStatusException \u001b[39mas\u001b[39;00m e:\n\u001b[0;32m     55\u001b[0m   \u001b[39mif\u001b[39;00m name \u001b[39mis\u001b[39;00m \u001b[39mnot\u001b[39;00m \u001b[39mNone\u001b[39;00m:\n",
            "\u001b[1;31mKeyboardInterrupt\u001b[0m: "
          ]
        }
      ],
      "source": [
        "import time\n",
        "\n",
        "start_time = time.time()\n",
        "model.compile(optimizer= OPTIMIZER, \n",
        "              loss=LOSS_FN,\n",
        "              metrics=[\"mse\", \"mae\"])\n",
        "\n",
        "# LOG_NAME = LOG_NAME[:-1]\n",
        "model = tf.keras.models.load_model(os.path.join(KERAS_DIR, LOG_NAME))\n",
        "LOG_NAME += \"I\"\n",
        "history = model.fit(train_dataset, validation_data=val_dataset, epochs=EPOCH)\n",
        "end_time = time.time()\n",
        "training_time = end_time - start_time"
      ]
    },
    {
      "cell_type": "code",
      "execution_count": null,
      "metadata": {
        "id": "J_ppV-Ls6b0y"
      },
      "outputs": [],
      "source": [
        "def plot_history(history, save=False):\n",
        "    # Extract the loss, MAE, and MSE values from the history object\n",
        "    loss = history.history['loss']\n",
        "    mse = history.history['mse']\n",
        "    mae = history.history['mae']\n",
        "    val_loss = history.history['val_loss']\n",
        "    val_mse = history.history['val_mse']\n",
        "    val_mae = history.history['val_mae']\n",
        "\n",
        "    # Create a figure and set up the subplots\n",
        "    fig, (ax1, ax2, ax3) = plt.subplots(1, 3, figsize=(9, 3))\n",
        "\n",
        "    # Plot the loss history\n",
        "    plt.title(REMARK)\n",
        "    ax1.plot(loss, label='Loss')\n",
        "    ax1.plot(val_loss, label='Val Loss')\n",
        "    ax1.set_xlabel('Epochs')\n",
        "    ax1.set_ylabel('Loss')\n",
        "    ax1.legend()\n",
        "\n",
        "    # Plot the MSE history\n",
        "    ax2.plot(mse, label='MSE')\n",
        "    ax2.plot(val_mse, label='Val MSE')\n",
        "    ax2.set_xlabel('Epochs')\n",
        "    ax2.set_ylabel('MSE')\n",
        "    ax2.legend()\n",
        "\n",
        "    # Plot the MAE history\n",
        "    ax3.plot(mae, label='MAE')\n",
        "    ax3.plot(val_mae, label='Val MAE')\n",
        "    ax3.set_xlabel('Epochs')\n",
        "    ax3.set_ylabel('MAE')\n",
        "    ax3.legend()\n",
        "\n",
        "    # Show the plot\n",
        "    plt.tight_layout()\n",
        "    if (save):\n",
        "        if (not os.path.exists(os.path.join(PLOT_DIR, LOG_NAME))):\n",
        "            plt.savefig(os.path.join(PLOT_DIR, LOG_NAME))\n",
        "    \n",
        "    plt.show()"
      ]
    },
    {
      "cell_type": "code",
      "execution_count": null,
      "metadata": {
        "colab": {
          "base_uri": "https://localhost:8080/",
          "height": 307
        },
        "id": "uZKCc_zA6b0y",
        "outputId": "000f1cc0-cca1-4775-ba9d-3dc5a821d2dc"
      },
      "outputs": [
        {
          "data": {
            "image/png": "[encoded data removed]",
            "text/plain": [
              "<Figure size 900x300 with 3 Axes>"
            ]
          },
          "metadata": {},
          "output_type": "display_data"
        }
      ],
      "source": [
        "plot_history(history, save=True)\n"
      ]
    },
    {
      "cell_type": "markdown",
      "metadata": {
        "id": "rcNEeSLn6b0y"
      },
      "source": [
        "### Evaluation with test dataset"
      ]
    },
    {
      "cell_type": "code",
      "execution_count": null,
      "metadata": {
        "colab": {
          "base_uri": "https://localhost:8080/"
        },
        "id": "QSNAswWw6b0y",
        "outputId": "fcb7f48c-9ed5-45cb-d7fc-9f0a3a0bec87"
      },
      "outputs": [
        {
          "name": "stdout",
          "output_type": "stream",
          "text": [
            "67/67 [==============================] - 0s 970us/step\n"
          ]
        },
        {
          "data": {
            "text/plain": [
              "array([[0.87741065],\n",
              "       [0.81422114],\n",
              "       [0.77639896],\n",
              "       ...,\n",
              "       [0.6763321 ],\n",
              "       [0.8070545 ],\n",
              "       [0.7106554 ]], dtype=float32)"
            ]
          },
          "execution_count": 696,
          "metadata": {},
          "output_type": "execute_result"
        }
      ],
      "source": [
        "test_predict = model.predict(test_dataset)\n",
        "test_predict"
      ]
    },
    {
      "cell_type": "code",
      "execution_count": null,
      "metadata": {
        "colab": {
          "base_uri": "https://localhost:8080/",
          "height": 423
        },
        "id": "3HTlJ9Sz6b0z",
        "outputId": "3bd26e97-daf0-4c94-a7da-4b41e912a528"
      },
      "outputs": [
        {
          "data": {
            "text/html": [
              "<div>\n",
              "<style scoped>\n",
              "    .dataframe tbody tr th:only-of-type {\n",
              "        vertical-align: middle;\n",
              "    }\n",
              "\n",
              "    .dataframe tbody tr th {\n",
              "        vertical-align: top;\n",
              "    }\n",
              "\n",
              "    .dataframe thead th {\n",
              "        text-align: right;\n",
              "    }\n",
              "</style>\n",
              "<table border=\"1\" class=\"dataframe\">\n",
              "  <thead>\n",
              "    <tr style=\"text-align: right;\">\n",
              "      <th></th>\n",
              "      <th>predicted</th>\n",
              "      <th>real</th>\n",
              "      <th>error</th>\n",
              "    </tr>\n",
              "  </thead>\n",
              "  <tbody>\n",
              "    <tr>\n",
              "      <th>0</th>\n",
              "      <td>0.877411</td>\n",
              "      <td>1.000</td>\n",
              "      <td>0.122589</td>\n",
              "    </tr>\n",
              "    <tr>\n",
              "      <th>1</th>\n",
              "      <td>0.814221</td>\n",
              "      <td>0.960</td>\n",
              "      <td>0.145779</td>\n",
              "    </tr>\n",
              "    <tr>\n",
              "      <th>2</th>\n",
              "      <td>0.776399</td>\n",
              "      <td>0.788</td>\n",
              "      <td>0.011601</td>\n",
              "    </tr>\n",
              "    <tr>\n",
              "      <th>3</th>\n",
              "      <td>0.755059</td>\n",
              "      <td>0.752</td>\n",
              "      <td>0.003059</td>\n",
              "    </tr>\n",
              "    <tr>\n",
              "      <th>4</th>\n",
              "      <td>0.834277</td>\n",
              "      <td>0.780</td>\n",
              "      <td>0.054277</td>\n",
              "    </tr>\n",
              "    <tr>\n",
              "      <th>...</th>\n",
              "      <td>...</td>\n",
              "      <td>...</td>\n",
              "      <td>...</td>\n",
              "    </tr>\n",
              "    <tr>\n",
              "      <th>8552</th>\n",
              "      <td>0.730047</td>\n",
              "      <td>0.132</td>\n",
              "      <td>0.598047</td>\n",
              "    </tr>\n",
              "    <tr>\n",
              "      <th>8553</th>\n",
              "      <td>0.723941</td>\n",
              "      <td>0.400</td>\n",
              "      <td>0.323941</td>\n",
              "    </tr>\n",
              "    <tr>\n",
              "      <th>8554</th>\n",
              "      <td>0.676332</td>\n",
              "      <td>0.348</td>\n",
              "      <td>0.328332</td>\n",
              "    </tr>\n",
              "    <tr>\n",
              "      <th>8555</th>\n",
              "      <td>0.807055</td>\n",
              "      <td>0.368</td>\n",
              "      <td>0.439055</td>\n",
              "    </tr>\n",
              "    <tr>\n",
              "      <th>8556</th>\n",
              "      <td>0.710655</td>\n",
              "      <td>0.384</td>\n",
              "      <td>0.326655</td>\n",
              "    </tr>\n",
              "  </tbody>\n",
              "</table>\n",
              "<p>8557 rows × 3 columns</p>\n",
              "</div>"
            ],
            "text/plain": [
              "      predicted   real     error\n",
              "0      0.877411  1.000  0.122589\n",
              "1      0.814221  0.960  0.145779\n",
              "2      0.776399  0.788  0.011601\n",
              "3      0.755059  0.752  0.003059\n",
              "4      0.834277  0.780  0.054277\n",
              "...         ...    ...       ...\n",
              "8552   0.730047  0.132  0.598047\n",
              "8553   0.723941  0.400  0.323941\n",
              "8554   0.676332  0.348  0.328332\n",
              "8555   0.807055  0.368  0.439055\n",
              "8556   0.710655  0.384  0.326655\n",
              "\n",
              "[8557 rows x 3 columns]"
            ]
          },
          "execution_count": 697,
          "metadata": {},
          "output_type": "execute_result"
        }
      ],
      "source": [
        "test_labels = get_label(test_dataset)\n",
        "compare_test = pd.concat([pd.DataFrame(test_predict, columns=[\"predicted\"]), \n",
        "                     pd.DataFrame(test_labels, columns=[\"real\"])], axis=1)\n",
        "\n",
        "compare_test[\"error\"] = abs(compare_test[\"predicted\"] - compare_test[\"real\"])\n",
        "\n",
        "compare_test"
      ]
    },
    {
      "cell_type": "code",
      "execution_count": null,
      "metadata": {
        "colab": {
          "base_uri": "https://localhost:8080/",
          "height": 423
        },
        "id": "Aj27AgIK6b0z",
        "outputId": "512b6c4b-13c8-4e6c-c04b-be0be6b7870c"
      },
      "outputs": [
        {
          "data": {
            "text/html": [
              "<div>\n",
              "<style scoped>\n",
              "    .dataframe tbody tr th:only-of-type {\n",
              "        vertical-align: middle;\n",
              "    }\n",
              "\n",
              "    .dataframe tbody tr th {\n",
              "        vertical-align: top;\n",
              "    }\n",
              "\n",
              "    .dataframe thead th {\n",
              "        text-align: right;\n",
              "    }\n",
              "</style>\n",
              "<table border=\"1\" class=\"dataframe\">\n",
              "  <thead>\n",
              "    <tr style=\"text-align: right;\">\n",
              "      <th></th>\n",
              "      <th>predicted</th>\n",
              "      <th>real</th>\n",
              "      <th>error</th>\n",
              "    </tr>\n",
              "  </thead>\n",
              "  <tbody>\n",
              "    <tr>\n",
              "      <th>145</th>\n",
              "      <td>0.911261</td>\n",
              "      <td>0.408</td>\n",
              "      <td>0.503261</td>\n",
              "    </tr>\n",
              "    <tr>\n",
              "      <th>5837</th>\n",
              "      <td>0.912507</td>\n",
              "      <td>0.412</td>\n",
              "      <td>0.500507</td>\n",
              "    </tr>\n",
              "    <tr>\n",
              "      <th>7426</th>\n",
              "      <td>0.748308</td>\n",
              "      <td>0.188</td>\n",
              "      <td>0.560308</td>\n",
              "    </tr>\n",
              "    <tr>\n",
              "      <th>7428</th>\n",
              "      <td>0.801572</td>\n",
              "      <td>0.184</td>\n",
              "      <td>0.617572</td>\n",
              "    </tr>\n",
              "    <tr>\n",
              "      <th>7431</th>\n",
              "      <td>0.758142</td>\n",
              "      <td>0.144</td>\n",
              "      <td>0.614142</td>\n",
              "    </tr>\n",
              "    <tr>\n",
              "      <th>...</th>\n",
              "      <td>...</td>\n",
              "      <td>...</td>\n",
              "      <td>...</td>\n",
              "    </tr>\n",
              "    <tr>\n",
              "      <th>8539</th>\n",
              "      <td>0.711510</td>\n",
              "      <td>0.140</td>\n",
              "      <td>0.571510</td>\n",
              "    </tr>\n",
              "    <tr>\n",
              "      <th>8541</th>\n",
              "      <td>0.730912</td>\n",
              "      <td>0.196</td>\n",
              "      <td>0.534912</td>\n",
              "    </tr>\n",
              "    <tr>\n",
              "      <th>8547</th>\n",
              "      <td>0.870634</td>\n",
              "      <td>0.320</td>\n",
              "      <td>0.550634</td>\n",
              "    </tr>\n",
              "    <tr>\n",
              "      <th>8549</th>\n",
              "      <td>0.741402</td>\n",
              "      <td>0.176</td>\n",
              "      <td>0.565402</td>\n",
              "    </tr>\n",
              "    <tr>\n",
              "      <th>8552</th>\n",
              "      <td>0.730047</td>\n",
              "      <td>0.132</td>\n",
              "      <td>0.598047</td>\n",
              "    </tr>\n",
              "  </tbody>\n",
              "</table>\n",
              "<p>297 rows × 3 columns</p>\n",
              "</div>"
            ],
            "text/plain": [
              "      predicted   real     error\n",
              "145    0.911261  0.408  0.503261\n",
              "5837   0.912507  0.412  0.500507\n",
              "7426   0.748308  0.188  0.560308\n",
              "7428   0.801572  0.184  0.617572\n",
              "7431   0.758142  0.144  0.614142\n",
              "...         ...    ...       ...\n",
              "8539   0.711510  0.140  0.571510\n",
              "8541   0.730912  0.196  0.534912\n",
              "8547   0.870634  0.320  0.550634\n",
              "8549   0.741402  0.176  0.565402\n",
              "8552   0.730047  0.132  0.598047\n",
              "\n",
              "[297 rows x 3 columns]"
            ]
          },
          "execution_count": 698,
          "metadata": {},
          "output_type": "execute_result"
        }
      ],
      "source": [
        "compare_test[compare_test[\"error\"] > 5e-1]"
      ]
    },
    {
      "cell_type": "code",
      "execution_count": null,
      "metadata": {
        "colab": {
          "base_uri": "https://localhost:8080/"
        },
        "id": "qtZDYD7KInYN",
        "outputId": "fc8e8d93-1b34-42d4-f9b1-1385d9e4f660"
      },
      "outputs": [
        {
          "data": {
            "text/plain": [
              "0.1547014156527172"
            ]
          },
          "execution_count": 699,
          "metadata": {},
          "output_type": "execute_result"
        }
      ],
      "source": [
        "compare_test[\"error\"].mean()"
      ]
    },
    {
      "cell_type": "markdown",
      "metadata": {
        "id": "pAsiIuPT6b00"
      },
      "source": [
        "## Logging"
      ]
    },
    {
      "cell_type": "code",
      "execution_count": null,
      "metadata": {
        "id": "UuvKUV2I6b00"
      },
      "outputs": [
        {
          "name": "stderr",
          "output_type": "stream",
          "text": [
            "WARNING:absl:Found untraced functions such as _update_step_xla while saving (showing 1 of 1). These functions will not be directly callable after loading.\n"
          ]
        },
        {
          "name": "stdout",
          "output_type": "stream",
          "text": [
            "INFO:tensorflow:Assets written to: log/model/savedmodel/recommender-small-simplerr-III\\assets\n"
          ]
        },
        {
          "name": "stderr",
          "output_type": "stream",
          "text": [
            "INFO:tensorflow:Assets written to: log/model/savedmodel/recommender-small-simplerr-III\\assets\n"
          ]
        }
      ],
      "source": [
        "if (not os.path.exists(os.path.join(MODEL_DIR, LOG_NAME))):\n",
        "    tf.saved_model.save(model, os.path.join(MODEL_DIR, LOG_NAME))"
      ]
    },
    {
      "cell_type": "code",
      "execution_count": null,
      "metadata": {
        "id": "vbR05q6a6b00"
      },
      "outputs": [
        {
          "name": "stderr",
          "output_type": "stream",
          "text": [
            "WARNING:absl:Found untraced functions such as _update_step_xla while saving (showing 1 of 1). These functions will not be directly callable after loading.\n"
          ]
        },
        {
          "name": "stdout",
          "output_type": "stream",
          "text": [
            "INFO:tensorflow:Assets written to: log/model/keras/recommender-small-simplerr-III\\assets\n"
          ]
        },
        {
          "name": "stderr",
          "output_type": "stream",
          "text": [
            "INFO:tensorflow:Assets written to: log/model/keras/recommender-small-simplerr-III\\assets\n"
          ]
        }
      ],
      "source": [
        "if (not os.path.exists(os.path.join(KERAS_DIR, LOG_NAME))):\n",
        "    model.save(os.path.join(KERAS_DIR, LOG_NAME))"
      ]
    },
    {
      "cell_type": "code",
      "execution_count": null,
      "metadata": {
        "id": "3icvT0z-6b00"
      },
      "outputs": [],
      "source": [
        "def serialize(obj):\n",
        "    if isinstance(obj, np.integer):\n",
        "        return int(obj)\n",
        "    elif isinstance(obj, np.floating):\n",
        "        return float(obj)\n",
        "    elif isinstance(obj, np.ndarray):\n",
        "        return obj.tolist()\n",
        "    else:\n",
        "        raise TypeError(\"Object of type {} is not JSON serializable\".format(type(obj)))"
      ]
    },
    {
      "cell_type": "code",
      "execution_count": null,
      "metadata": {
        "id": "zS0MacWU6b00"
      },
      "outputs": [],
      "source": [
        "import json\n",
        "from datetime import timedelta\n",
        "\n",
        "log = {\n",
        "    \"name\": LOG_NAME,\n",
        "    \"training_time\": str(timedelta(training_time)),\n",
        "    \"remark\": REMARK,\n",
        "    \"test_error\": compare_test[\"error\"].mean(),\n",
        "    \"results\": {\n",
        "        \"last_loss\": history.history[\"loss\"][-1],\n",
        "        \"last_mae\": history.history[\"mae\"][-1],\n",
        "        \"last_mse\": history.history[\"mse\"][-1],\n",
        "        \"last_val_loss\": history.history[\"val_loss\"][-1],\n",
        "        \"last_val_mae\": history.history[\"val_mae\"][-1],\n",
        "        \"last_val_mse\": history.history[\"val_mse\"][-1],\n",
        "    },\n",
        "    \"hyperparameter\": {\n",
        "        \"learning_rate\": LEARNING_RATE,\n",
        "        \"epoch\": EPOCH,\n",
        "        \"batch_size\": BATCH_SIZE,\n",
        "        \"loss_func\": tf.keras.losses.serialize(LOSS_FN)[\"class_name\"],\n",
        "        \"optimizer\": tf.keras.optimizers.serialize(OPTIMIZER)[\"class_name\"],\n",
        "    },\n",
        "    # \"data_distribution\": {\n",
        "    #     \"positive\": POSITIVE_SIZE,\n",
        "    #     \"negative\": NEGATIVE_SIZE,\n",
        "    #     \"training_pos\": TRAIN_POS_SIZE,\n",
        "    #     \"training_neg\": TRAIN_NEG_SIZE,\n",
        "    # },\n",
        "    \"data_example\": {\n",
        "        \"influencer\": df_influencer.head().to_dict(),\n",
        "        \"owner\": df_own_norm.head().to_dict(),\n",
        "        \"history\": df_history.head().to_dict(),\n",
        "    },\n",
        "    \"eval\": {\n",
        "        \"loss\": history.history[\"loss\"],\n",
        "        \"mae\": history.history[\"mae\"],\n",
        "        \"mse\": history.history[\"mse\"],\n",
        "        \"val_loss\": history.history[\"val_loss\"],\n",
        "        \"val_mae\": history.history[\"val_mae\"],\n",
        "        \"val_mse\": history.history[\"val_mse\"],\n",
        "    }\n",
        "}\n",
        "if (not os.path.exists(os.path.join(DETAIL_DIR, LOG_NAME + \".json\"))):\n",
        "    with open(os.path.join(DETAIL_DIR, LOG_NAME + '.json'), 'w') as json_file:\n",
        "        log = json.dumps(log, default=serialize)\n",
        "        json_file.write(log)"
      ]
    },
    {
      "cell_type": "code",
      "execution_count": null,
      "metadata": {
        "colab": {
          "base_uri": "https://localhost:8080/"
        },
        "id": "iuIJ-9tD6b00",
        "outputId": "46695dc1-cd73-4aa8-e8d4-b63b44853a6c"
      },
      "outputs": [
        {
          "name": "stdout",
          "output_type": "stream",
          "text": [
            "Model: \"model_7\"\n",
            "__________________________________________________________________________________________________\n",
            " Layer (type)                   Output Shape         Param #     Connected to                     \n",
            "==================================================================================================\n",
            " inf_feature (InputLayer)       [(None, 24)]         0           []                               \n",
            "                                                                                                  \n",
            " own_feature (InputLayer)       [(None, 23)]         0           []                               \n",
            "                                                                                                  \n",
            " sequential_14 (Sequential)     (None, 32)           7328        ['inf_feature[0][0]']            \n",
            "                                                                                                  \n",
            " sequential_15 (Sequential)     (None, 32)           7200        ['own_feature[0][0]']            \n",
            "                                                                                                  \n",
            " tf.math.l2_normalize_14 (TFOpL  (None, 32)          0           ['sequential_14[0][0]']          \n",
            " ambda)                                                                                           \n",
            "                                                                                                  \n",
            " tf.math.l2_normalize_15 (TFOpL  (None, 32)          0           ['sequential_15[0][0]']          \n",
            " ambda)                                                                                           \n",
            "                                                                                                  \n",
            " dot_7 (Dot)                    (None, 1)            0           ['tf.math.l2_normalize_14[0][0]',\n",
            "                                                                  'tf.math.l2_normalize_15[0][0]']\n",
            "                                                                                                  \n",
            "==================================================================================================\n",
            "Total params: 14,528\n",
            "Trainable params: 14,528\n",
            "Non-trainable params: 0\n",
            "__________________________________________________________________________________________________\n"
          ]
        }
      ],
      "source": [
        "summary = model.summary()"
      ]
    },
    {
      "cell_type": "code",
      "execution_count": null,
      "metadata": {
        "id": "QtEaCtRk6b00"
      },
      "outputs": [],
      "source": [
        "from contextlib import redirect_stdout\n",
        "\n",
        "with open(os.path.join(SUMMARY_DIR, LOG_NAME + \".txt\"), 'w') as f:\n",
        "    with redirect_stdout(f):\n",
        "        print(\"Influencer Model:\")\n",
        "        model_influencer.summary()\n",
        "        \n",
        "        print(\"\\nOwner Model:\")\n",
        "        model_owner.summary()\n",
        "        \n",
        "        print(\"\\nFull Model:\")\n",
        "        model.summary()"
      ]
    },
    {
      "cell_type": "code",
      "execution_count": null,
      "metadata": {},
      "outputs": [
        {
          "ename": "NameError",
          "evalue": "name 'Stopper' is not defined",
          "output_type": "error",
          "traceback": [
            "\u001b[1;31m---------------------------------------------------------------------------\u001b[0m",
            "\u001b[1;31mNameError\u001b[0m                                 Traceback (most recent call last)",
            "Cell \u001b[1;32mIn[706], line 1\u001b[0m\n\u001b[1;32m----> 1\u001b[0m Stopper\n",
            "\u001b[1;31mNameError\u001b[0m: name 'Stopper' is not defined"
          ]
        }
      ],
      "source": [
        "Stopper"
      ]
    },
    {
      "cell_type": "markdown",
      "metadata": {},
      "source": [
        "##### Generate train, validation, and test dataset"
      ]
    },
    {
      "cell_type": "code",
      "execution_count": null,
      "metadata": {},
      "outputs": [
        {
          "data": {
            "text/plain": [
              "({'inf_feature': TensorSpec(shape=(24,), dtype=tf.float64, name=None),\n",
              "  'own_feature': TensorSpec(shape=(23,), dtype=tf.float64, name=None)},\n",
              " TensorSpec(shape=(), dtype=tf.float64, name=None))"
            ]
          },
          "metadata": {},
          "output_type": "display_data"
        }
      ],
      "source": [
        "SHUFFLE_BUFFER = 1000\n",
        "\n",
        "dataset = tf.data.Dataset.from_tensor_slices(({\"inf_feature\": df_inf_features, \"own_feature\": df_own_features}, df_labels))\n",
        "dataset = dataset.shuffle(SHUFFLE_BUFFER) \n",
        "\n",
        "dataset.element_spec"
      ]
    },
    {
      "cell_type": "code",
      "execution_count": null,
      "metadata": {},
      "outputs": [],
      "source": []
    },
    {
      "cell_type": "code",
      "execution_count": null,
      "metadata": {},
      "outputs": [
        {
          "name": "stdout",
          "output_type": "stream",
          "text": [
            "Training dataset has 377121 data\n",
            "Validation dataset has 9924 data\n",
            "Testing dataset has 9925 data\n"
          ]
        }
      ],
      "source": [
        "# Generate training, validation, and testing data\n",
        "DATASET_SIZE = dataset.cardinality().numpy()\n",
        "TRAIN_SIZE = int(DATASET_SIZE * 0.95)\n",
        "VAL_SIZE = int(DATASET_SIZE * 0.025)\n",
        "TEST_SIZE = DATASET_SIZE - TRAIN_SIZE - VAL_SIZE\n",
        "\n",
        "train_dataset = dataset.take(TRAIN_SIZE)\n",
        "val_dataset = dataset.skip(TRAIN_SIZE).take(VAL_SIZE)\n",
        "test_dataset = dataset.skip(TRAIN_SIZE + VAL_SIZE).take(TEST_SIZE)\n",
        "\n",
        "print(f\"Training dataset has {train_dataset.cardinality().numpy()} data\")\n",
        "print(f\"Validation dataset has {val_dataset.cardinality().numpy()} data\")\n",
        "print(f\"Testing dataset has {test_dataset.cardinality().numpy()} data\")"
      ]
    },
    {
      "cell_type": "code",
      "execution_count": null,
      "metadata": {},
      "outputs": [],
      "source": [
        "# Batching\n",
        "REPEAT = 2\n",
        "\n",
        "train_dataset = train_dataset.batch(BATCH_SIZE)\n",
        "val_dataset = val_dataset.batch(BATCH_SIZE)\n",
        "test_dataset = test_dataset.batch(BATCH_SIZE)"
      ]
    },
    {
      "cell_type": "code",
      "execution_count": null,
      "metadata": {},
      "outputs": [],
      "source": [
        "train_dataset = train_dataset.cache()\n",
        "train_dataset = train_dataset.prefetch(tf.data.experimental.AUTOTUNE)"
      ]
    },
    {
      "cell_type": "code",
      "execution_count": null,
      "metadata": {
        "id": "YMvdAcM66b01"
      },
      "outputs": [],
      "source": []
    }
  ],
  "metadata": {
    "accelerator": "GPU",
    "colab": {
      "gpuType": "T4",
      "provenance": []
    },
    "kernelspec": {
      "display_name": "Python 3",
      "name": "python3"
    },
    "language_info": {
      "codemirror_mode": {
        "name": "ipython",
        "version": 3
      },
      "file_extension": ".py",
      "mimetype": "text/x-python",
      "name": "python",
      "nbconvert_exporter": "python",
      "pygments_lexer": "ipython3",
      "version": "3.11.3"
    },
    "orig_nbformat": 4,
    "vscode": {
      "interpreter": {
        "hash": "d4735e28f7f627569bc07f7dc41131ed5d08a93f3d94f12e74778d501b659619"
      }
    }
  },
  "nbformat": 4,
  "nbformat_minor": 0
}
