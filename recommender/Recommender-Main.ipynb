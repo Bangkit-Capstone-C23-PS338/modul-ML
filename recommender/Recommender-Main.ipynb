{
 "cells": [
  {
   "attachments": {},
   "cell_type": "markdown",
   "metadata": {},
   "source": [
    "# <center> Recommender System </center>"
   ]
  },
  {
   "attachments": {},
   "cell_type": "markdown",
   "metadata": {},
   "source": [
    "## Data Extraction"
   ]
  },
  {
   "attachments": {},
   "cell_type": "markdown",
   "metadata": {},
   "source": [
    "### Load data from CSV"
   ]
  },
  {
   "attachments": {},
   "cell_type": "markdown",
   "metadata": {},
   "source": [
    "Data is generated randomly using Excel"
   ]
  },
  {
   "cell_type": "code",
   "execution_count": 217,
   "metadata": {},
   "outputs": [],
   "source": [
    "import pandas as pd\n",
    "import os\n",
    "\n",
    "DATA_DIR = os.path.join(\"data/random/\")\n",
    "INFLUENCER_FILE = os.path.join(DATA_DIR, \"data_content_influencer_categ.csv\")\n",
    "OWNER_FILE = os.path.join(DATA_DIR, \"data_content_owner_categ.csv\")\n",
    "HISTORY_FILE = os.path.join(DATA_DIR, \"historical_data.csv\")\n",
    "\n",
    "df_influencer = pd.read_csv(INFLUENCER_FILE)\n",
    "df_owner = pd.read_csv(OWNER_FILE)\n",
    "df_history = pd.read_csv(HISTORY_FILE)"
   ]
  },
  {
   "attachments": {},
   "cell_type": "markdown",
   "metadata": {},
   "source": [
    "### Data Exploration"
   ]
  },
  {
   "cell_type": "code",
   "execution_count": 218,
   "metadata": {},
   "outputs": [
    {
     "data": {
      "text/html": [
       "<div>\n",
       "<style scoped>\n",
       "    .dataframe tbody tr th:only-of-type {\n",
       "        vertical-align: middle;\n",
       "    }\n",
       "\n",
       "    .dataframe tbody tr th {\n",
       "        vertical-align: top;\n",
       "    }\n",
       "\n",
       "    .dataframe thead th {\n",
       "        text-align: right;\n",
       "    }\n",
       "</style>\n",
       "<table border=\"1\" class=\"dataframe\">\n",
       "  <thead>\n",
       "    <tr style=\"text-align: right;\">\n",
       "      <th></th>\n",
       "      <th>id</th>\n",
       "      <th>insta_follower</th>\n",
       "      <th>tiktok</th>\n",
       "      <th>youtube</th>\n",
       "      <th>price_normalized</th>\n",
       "      <th>categories</th>\n",
       "    </tr>\n",
       "  </thead>\n",
       "  <tbody>\n",
       "    <tr>\n",
       "      <th>0</th>\n",
       "      <td>INF1</td>\n",
       "      <td>868194</td>\n",
       "      <td>969648</td>\n",
       "      <td>616323</td>\n",
       "      <td>0.643695</td>\n",
       "      <td>Music;Fashion</td>\n",
       "    </tr>\n",
       "    <tr>\n",
       "      <th>1</th>\n",
       "      <td>INF2</td>\n",
       "      <td>362656</td>\n",
       "      <td>122314</td>\n",
       "      <td>693275</td>\n",
       "      <td>0.572601</td>\n",
       "      <td>Game;General</td>\n",
       "    </tr>\n",
       "    <tr>\n",
       "      <th>2</th>\n",
       "      <td>INF3</td>\n",
       "      <td>209193</td>\n",
       "      <td>828402</td>\n",
       "      <td>76364</td>\n",
       "      <td>0.441951</td>\n",
       "      <td>Fashion;Music;Tech</td>\n",
       "    </tr>\n",
       "    <tr>\n",
       "      <th>3</th>\n",
       "      <td>INF4</td>\n",
       "      <td>628052</td>\n",
       "      <td>265953</td>\n",
       "      <td>529438</td>\n",
       "      <td>0.445078</td>\n",
       "      <td>Game;Music;Tech;Sport</td>\n",
       "    </tr>\n",
       "    <tr>\n",
       "      <th>4</th>\n",
       "      <td>INF5</td>\n",
       "      <td>271472</td>\n",
       "      <td>531116</td>\n",
       "      <td>951829</td>\n",
       "      <td>0.590743</td>\n",
       "      <td>General;Fashion;Music;Pop Culture;Game;Sport</td>\n",
       "    </tr>\n",
       "  </tbody>\n",
       "</table>\n",
       "</div>"
      ],
      "text/plain": [
       "     id  insta_follower  tiktok  youtube  price_normalized  \\\n",
       "0  INF1          868194  969648   616323          0.643695   \n",
       "1  INF2          362656  122314   693275          0.572601   \n",
       "2  INF3          209193  828402    76364          0.441951   \n",
       "3  INF4          628052  265953   529438          0.445078   \n",
       "4  INF5          271472  531116   951829          0.590743   \n",
       "\n",
       "                                     categories  \n",
       "0                                 Music;Fashion  \n",
       "1                                  Game;General  \n",
       "2                            Fashion;Music;Tech  \n",
       "3                         Game;Music;Tech;Sport  \n",
       "4  General;Fashion;Music;Pop Culture;Game;Sport  "
      ]
     },
     "execution_count": 218,
     "metadata": {},
     "output_type": "execute_result"
    }
   ],
   "source": [
    "df_influencer.head(5)"
   ]
  },
  {
   "cell_type": "code",
   "execution_count": 219,
   "metadata": {},
   "outputs": [
    {
     "name": "stdout",
     "output_type": "stream",
     "text": [
      "<class 'pandas.core.frame.DataFrame'>\n",
      "RangeIndex: 4924 entries, 0 to 4923\n",
      "Data columns (total 6 columns):\n",
      " #   Column            Non-Null Count  Dtype  \n",
      "---  ------            --------------  -----  \n",
      " 0   id                4924 non-null   object \n",
      " 1   insta_follower    4924 non-null   int64  \n",
      " 2   tiktok            4924 non-null   int64  \n",
      " 3   youtube           4924 non-null   int64  \n",
      " 4   price_normalized  4924 non-null   float64\n",
      " 5   categories        4924 non-null   object \n",
      "dtypes: float64(1), int64(3), object(2)\n",
      "memory usage: 230.9+ KB\n"
     ]
    }
   ],
   "source": [
    "df_influencer.info()"
   ]
  },
  {
   "cell_type": "code",
   "execution_count": 220,
   "metadata": {},
   "outputs": [
    {
     "data": {
      "text/html": [
       "<div>\n",
       "<style scoped>\n",
       "    .dataframe tbody tr th:only-of-type {\n",
       "        vertical-align: middle;\n",
       "    }\n",
       "\n",
       "    .dataframe tbody tr th {\n",
       "        vertical-align: top;\n",
       "    }\n",
       "\n",
       "    .dataframe thead th {\n",
       "        text-align: right;\n",
       "    }\n",
       "</style>\n",
       "<table border=\"1\" class=\"dataframe\">\n",
       "  <thead>\n",
       "    <tr style=\"text-align: right;\">\n",
       "      <th></th>\n",
       "      <th>insta_follower</th>\n",
       "      <th>tiktok</th>\n",
       "      <th>youtube</th>\n",
       "      <th>price_normalized</th>\n",
       "    </tr>\n",
       "  </thead>\n",
       "  <tbody>\n",
       "    <tr>\n",
       "      <th>count</th>\n",
       "      <td>4924.00000</td>\n",
       "      <td>4924.000000</td>\n",
       "      <td>4924.000000</td>\n",
       "      <td>4924.000000</td>\n",
       "    </tr>\n",
       "    <tr>\n",
       "      <th>mean</th>\n",
       "      <td>497558.71446</td>\n",
       "      <td>503623.467100</td>\n",
       "      <td>507027.295491</td>\n",
       "      <td>0.499488</td>\n",
       "    </tr>\n",
       "    <tr>\n",
       "      <th>std</th>\n",
       "      <td>287672.99961</td>\n",
       "      <td>284878.137868</td>\n",
       "      <td>287343.088380</td>\n",
       "      <td>0.291946</td>\n",
       "    </tr>\n",
       "    <tr>\n",
       "      <th>min</th>\n",
       "      <td>4409.00000</td>\n",
       "      <td>4003.000000</td>\n",
       "      <td>4504.000000</td>\n",
       "      <td>0.000038</td>\n",
       "    </tr>\n",
       "    <tr>\n",
       "      <th>25%</th>\n",
       "      <td>246925.00000</td>\n",
       "      <td>257822.250000</td>\n",
       "      <td>260310.500000</td>\n",
       "      <td>0.245207</td>\n",
       "    </tr>\n",
       "    <tr>\n",
       "      <th>50%</th>\n",
       "      <td>496332.50000</td>\n",
       "      <td>505953.500000</td>\n",
       "      <td>508959.000000</td>\n",
       "      <td>0.499055</td>\n",
       "    </tr>\n",
       "    <tr>\n",
       "      <th>75%</th>\n",
       "      <td>742327.75000</td>\n",
       "      <td>745958.500000</td>\n",
       "      <td>753429.000000</td>\n",
       "      <td>0.753487</td>\n",
       "    </tr>\n",
       "    <tr>\n",
       "      <th>max</th>\n",
       "      <td>999940.00000</td>\n",
       "      <td>999910.000000</td>\n",
       "      <td>999710.000000</td>\n",
       "      <td>0.999777</td>\n",
       "    </tr>\n",
       "  </tbody>\n",
       "</table>\n",
       "</div>"
      ],
      "text/plain": [
       "       insta_follower         tiktok        youtube  price_normalized\n",
       "count      4924.00000    4924.000000    4924.000000       4924.000000\n",
       "mean     497558.71446  503623.467100  507027.295491          0.499488\n",
       "std      287672.99961  284878.137868  287343.088380          0.291946\n",
       "min        4409.00000    4003.000000    4504.000000          0.000038\n",
       "25%      246925.00000  257822.250000  260310.500000          0.245207\n",
       "50%      496332.50000  505953.500000  508959.000000          0.499055\n",
       "75%      742327.75000  745958.500000  753429.000000          0.753487\n",
       "max      999940.00000  999910.000000  999710.000000          0.999777"
      ]
     },
     "execution_count": 220,
     "metadata": {},
     "output_type": "execute_result"
    }
   ],
   "source": [
    "df_influencer.describe()"
   ]
  },
  {
   "cell_type": "code",
   "execution_count": 221,
   "metadata": {},
   "outputs": [
    {
     "data": {
      "text/html": [
       "<div>\n",
       "<style scoped>\n",
       "    .dataframe tbody tr th:only-of-type {\n",
       "        vertical-align: middle;\n",
       "    }\n",
       "\n",
       "    .dataframe tbody tr th {\n",
       "        vertical-align: top;\n",
       "    }\n",
       "\n",
       "    .dataframe thead th {\n",
       "        text-align: right;\n",
       "    }\n",
       "</style>\n",
       "<table border=\"1\" class=\"dataframe\">\n",
       "  <thead>\n",
       "    <tr style=\"text-align: right;\">\n",
       "      <th></th>\n",
       "      <th>id</th>\n",
       "      <th>categories</th>\n",
       "    </tr>\n",
       "  </thead>\n",
       "  <tbody>\n",
       "    <tr>\n",
       "      <th>0</th>\n",
       "      <td>OWN1</td>\n",
       "      <td>Music;Sport;General;Tech;Fashion;Game;Pop Culture</td>\n",
       "    </tr>\n",
       "    <tr>\n",
       "      <th>1</th>\n",
       "      <td>OWN2</td>\n",
       "      <td>Pop Culture;Game</td>\n",
       "    </tr>\n",
       "    <tr>\n",
       "      <th>2</th>\n",
       "      <td>OWN3</td>\n",
       "      <td>Fashion;Pop Culture;Music;Tech;General;Game;Sport</td>\n",
       "    </tr>\n",
       "    <tr>\n",
       "      <th>3</th>\n",
       "      <td>OWN4</td>\n",
       "      <td>Fashion;Pop Culture;Game;General</td>\n",
       "    </tr>\n",
       "    <tr>\n",
       "      <th>4</th>\n",
       "      <td>OWN5</td>\n",
       "      <td>General;Sport;Game</td>\n",
       "    </tr>\n",
       "  </tbody>\n",
       "</table>\n",
       "</div>"
      ],
      "text/plain": [
       "     id                                         categories\n",
       "0  OWN1  Music;Sport;General;Tech;Fashion;Game;Pop Culture\n",
       "1  OWN2                                   Pop Culture;Game\n",
       "2  OWN3  Fashion;Pop Culture;Music;Tech;General;Game;Sport\n",
       "3  OWN4                   Fashion;Pop Culture;Game;General\n",
       "4  OWN5                                 General;Sport;Game"
      ]
     },
     "execution_count": 221,
     "metadata": {},
     "output_type": "execute_result"
    }
   ],
   "source": [
    "df_owner.head(5)"
   ]
  },
  {
   "cell_type": "code",
   "execution_count": 222,
   "metadata": {},
   "outputs": [
    {
     "name": "stdout",
     "output_type": "stream",
     "text": [
      "<class 'pandas.core.frame.DataFrame'>\n",
      "RangeIndex: 1792 entries, 0 to 1791\n",
      "Data columns (total 2 columns):\n",
      " #   Column      Non-Null Count  Dtype \n",
      "---  ------      --------------  ----- \n",
      " 0   id          1792 non-null   object\n",
      " 1   categories  1792 non-null   object\n",
      "dtypes: object(2)\n",
      "memory usage: 28.1+ KB\n"
     ]
    }
   ],
   "source": [
    "df_owner.info()"
   ]
  },
  {
   "cell_type": "code",
   "execution_count": 223,
   "metadata": {},
   "outputs": [
    {
     "data": {
      "text/html": [
       "<div>\n",
       "<style scoped>\n",
       "    .dataframe tbody tr th:only-of-type {\n",
       "        vertical-align: middle;\n",
       "    }\n",
       "\n",
       "    .dataframe tbody tr th {\n",
       "        vertical-align: top;\n",
       "    }\n",
       "\n",
       "    .dataframe thead th {\n",
       "        text-align: right;\n",
       "    }\n",
       "</style>\n",
       "<table border=\"1\" class=\"dataframe\">\n",
       "  <thead>\n",
       "    <tr style=\"text-align: right;\">\n",
       "      <th></th>\n",
       "      <th>id</th>\n",
       "      <th>categories</th>\n",
       "    </tr>\n",
       "  </thead>\n",
       "  <tbody>\n",
       "    <tr>\n",
       "      <th>count</th>\n",
       "      <td>1792</td>\n",
       "      <td>1792</td>\n",
       "    </tr>\n",
       "    <tr>\n",
       "      <th>unique</th>\n",
       "      <td>1792</td>\n",
       "      <td>1156</td>\n",
       "    </tr>\n",
       "    <tr>\n",
       "      <th>top</th>\n",
       "      <td>OWN1</td>\n",
       "      <td>Music</td>\n",
       "    </tr>\n",
       "    <tr>\n",
       "      <th>freq</th>\n",
       "      <td>1</td>\n",
       "      <td>43</td>\n",
       "    </tr>\n",
       "  </tbody>\n",
       "</table>\n",
       "</div>"
      ],
      "text/plain": [
       "          id categories\n",
       "count   1792       1792\n",
       "unique  1792       1156\n",
       "top     OWN1      Music\n",
       "freq       1         43"
      ]
     },
     "execution_count": 223,
     "metadata": {},
     "output_type": "execute_result"
    }
   ],
   "source": [
    "df_owner.describe()"
   ]
  },
  {
   "cell_type": "code",
   "execution_count": 224,
   "metadata": {},
   "outputs": [
    {
     "data": {
      "text/html": [
       "<div>\n",
       "<style scoped>\n",
       "    .dataframe tbody tr th:only-of-type {\n",
       "        vertical-align: middle;\n",
       "    }\n",
       "\n",
       "    .dataframe tbody tr th {\n",
       "        vertical-align: top;\n",
       "    }\n",
       "\n",
       "    .dataframe thead th {\n",
       "        text-align: right;\n",
       "    }\n",
       "</style>\n",
       "<table border=\"1\" class=\"dataframe\">\n",
       "  <thead>\n",
       "    <tr style=\"text-align: right;\">\n",
       "      <th></th>\n",
       "      <th>own_id</th>\n",
       "      <th>inf_id</th>\n",
       "      <th>star_rating</th>\n",
       "      <th>sentiment_rating</th>\n",
       "    </tr>\n",
       "  </thead>\n",
       "  <tbody>\n",
       "    <tr>\n",
       "      <th>0</th>\n",
       "      <td>OWN1735</td>\n",
       "      <td>INF341</td>\n",
       "      <td>5</td>\n",
       "      <td>0.921058</td>\n",
       "    </tr>\n",
       "    <tr>\n",
       "      <th>1</th>\n",
       "      <td>OWN275</td>\n",
       "      <td>INF1253</td>\n",
       "      <td>2</td>\n",
       "      <td>0.001400</td>\n",
       "    </tr>\n",
       "    <tr>\n",
       "      <th>2</th>\n",
       "      <td>OWN1430</td>\n",
       "      <td>INF1423</td>\n",
       "      <td>4</td>\n",
       "      <td>0.702913</td>\n",
       "    </tr>\n",
       "    <tr>\n",
       "      <th>3</th>\n",
       "      <td>OWN176</td>\n",
       "      <td>INF580</td>\n",
       "      <td>2</td>\n",
       "      <td>0.398565</td>\n",
       "    </tr>\n",
       "    <tr>\n",
       "      <th>4</th>\n",
       "      <td>OWN1005</td>\n",
       "      <td>INF1495</td>\n",
       "      <td>3</td>\n",
       "      <td>0.122339</td>\n",
       "    </tr>\n",
       "  </tbody>\n",
       "</table>\n",
       "</div>"
      ],
      "text/plain": [
       "    own_id   inf_id  star_rating  sentiment_rating\n",
       "0  OWN1735   INF341            5          0.921058\n",
       "1   OWN275  INF1253            2          0.001400\n",
       "2  OWN1430  INF1423            4          0.702913\n",
       "3   OWN176   INF580            2          0.398565\n",
       "4  OWN1005  INF1495            3          0.122339"
      ]
     },
     "execution_count": 224,
     "metadata": {},
     "output_type": "execute_result"
    }
   ],
   "source": [
    "df_history.head(5)"
   ]
  },
  {
   "cell_type": "code",
   "execution_count": 225,
   "metadata": {},
   "outputs": [
    {
     "name": "stdout",
     "output_type": "stream",
     "text": [
      "<class 'pandas.core.frame.DataFrame'>\n",
      "RangeIndex: 17280 entries, 0 to 17279\n",
      "Data columns (total 4 columns):\n",
      " #   Column            Non-Null Count  Dtype  \n",
      "---  ------            --------------  -----  \n",
      " 0   own_id            17280 non-null  object \n",
      " 1   inf_id            17280 non-null  object \n",
      " 2   star_rating       17280 non-null  int64  \n",
      " 3   sentiment_rating  17280 non-null  float64\n",
      "dtypes: float64(1), int64(1), object(2)\n",
      "memory usage: 540.1+ KB\n"
     ]
    }
   ],
   "source": [
    "df_history.info()"
   ]
  },
  {
   "cell_type": "code",
   "execution_count": 226,
   "metadata": {},
   "outputs": [
    {
     "data": {
      "text/html": [
       "<div>\n",
       "<style scoped>\n",
       "    .dataframe tbody tr th:only-of-type {\n",
       "        vertical-align: middle;\n",
       "    }\n",
       "\n",
       "    .dataframe tbody tr th {\n",
       "        vertical-align: top;\n",
       "    }\n",
       "\n",
       "    .dataframe thead th {\n",
       "        text-align: right;\n",
       "    }\n",
       "</style>\n",
       "<table border=\"1\" class=\"dataframe\">\n",
       "  <thead>\n",
       "    <tr style=\"text-align: right;\">\n",
       "      <th></th>\n",
       "      <th>star_rating</th>\n",
       "      <th>sentiment_rating</th>\n",
       "    </tr>\n",
       "  </thead>\n",
       "  <tbody>\n",
       "    <tr>\n",
       "      <th>count</th>\n",
       "      <td>17280.000000</td>\n",
       "      <td>1.728000e+04</td>\n",
       "    </tr>\n",
       "    <tr>\n",
       "      <th>mean</th>\n",
       "      <td>3.010822</td>\n",
       "      <td>5.002024e-01</td>\n",
       "    </tr>\n",
       "    <tr>\n",
       "      <th>std</th>\n",
       "      <td>1.406766</td>\n",
       "      <td>2.890345e-01</td>\n",
       "    </tr>\n",
       "    <tr>\n",
       "      <th>min</th>\n",
       "      <td>1.000000</td>\n",
       "      <td>6.929700e-07</td>\n",
       "    </tr>\n",
       "    <tr>\n",
       "      <th>25%</th>\n",
       "      <td>2.000000</td>\n",
       "      <td>2.501317e-01</td>\n",
       "    </tr>\n",
       "    <tr>\n",
       "      <th>50%</th>\n",
       "      <td>3.000000</td>\n",
       "      <td>5.012116e-01</td>\n",
       "    </tr>\n",
       "    <tr>\n",
       "      <th>75%</th>\n",
       "      <td>4.000000</td>\n",
       "      <td>7.483516e-01</td>\n",
       "    </tr>\n",
       "    <tr>\n",
       "      <th>max</th>\n",
       "      <td>5.000000</td>\n",
       "      <td>9.998797e-01</td>\n",
       "    </tr>\n",
       "  </tbody>\n",
       "</table>\n",
       "</div>"
      ],
      "text/plain": [
       "        star_rating  sentiment_rating\n",
       "count  17280.000000      1.728000e+04\n",
       "mean       3.010822      5.002024e-01\n",
       "std        1.406766      2.890345e-01\n",
       "min        1.000000      6.929700e-07\n",
       "25%        2.000000      2.501317e-01\n",
       "50%        3.000000      5.012116e-01\n",
       "75%        4.000000      7.483516e-01\n",
       "max        5.000000      9.998797e-01"
      ]
     },
     "execution_count": 226,
     "metadata": {},
     "output_type": "execute_result"
    }
   ],
   "source": [
    "df_history.describe()"
   ]
  },
  {
   "attachments": {},
   "cell_type": "markdown",
   "metadata": {},
   "source": [
    "## Data Transformation"
   ]
  },
  {
   "attachments": {},
   "cell_type": "markdown",
   "metadata": {},
   "source": [
    "### Data cleaning"
   ]
  },
  {
   "attachments": {},
   "cell_type": "markdown",
   "metadata": {},
   "source": [
    "#### Missing value"
   ]
  },
  {
   "cell_type": "code",
   "execution_count": 227,
   "metadata": {},
   "outputs": [
    {
     "data": {
      "text/plain": [
       "id                  0\n",
       "insta_follower      0\n",
       "tiktok              0\n",
       "youtube             0\n",
       "price_normalized    0\n",
       "categories          0\n",
       "dtype: int64"
      ]
     },
     "execution_count": 227,
     "metadata": {},
     "output_type": "execute_result"
    }
   ],
   "source": [
    "df_influencer.isnull().sum()"
   ]
  },
  {
   "cell_type": "code",
   "execution_count": 228,
   "metadata": {},
   "outputs": [
    {
     "data": {
      "text/plain": [
       "id            0\n",
       "categories    0\n",
       "dtype: int64"
      ]
     },
     "execution_count": 228,
     "metadata": {},
     "output_type": "execute_result"
    }
   ],
   "source": [
    "df_owner.isnull().sum()"
   ]
  },
  {
   "cell_type": "code",
   "execution_count": 229,
   "metadata": {},
   "outputs": [
    {
     "data": {
      "text/plain": [
       "own_id              0\n",
       "inf_id              0\n",
       "star_rating         0\n",
       "sentiment_rating    0\n",
       "dtype: int64"
      ]
     },
     "execution_count": 229,
     "metadata": {},
     "output_type": "execute_result"
    }
   ],
   "source": [
    "df_history.isnull().sum()"
   ]
  },
  {
   "attachments": {},
   "cell_type": "markdown",
   "metadata": {},
   "source": [
    "No missing value"
   ]
  },
  {
   "attachments": {},
   "cell_type": "markdown",
   "metadata": {},
   "source": [
    "#### Irrelevant Data / Invalid Data"
   ]
  },
  {
   "attachments": {},
   "cell_type": "markdown",
   "metadata": {},
   "source": [
    "Check if all history has valid influencer and owner ID"
   ]
  },
  {
   "cell_type": "code",
   "execution_count": 230,
   "metadata": {},
   "outputs": [
    {
     "data": {
      "text/plain": [
       "True"
      ]
     },
     "execution_count": 230,
     "metadata": {},
     "output_type": "execute_result"
    }
   ],
   "source": [
    "df_history[\"inf_id\"].isin(df_influencer[\"id\"]).all()"
   ]
  },
  {
   "cell_type": "code",
   "execution_count": 231,
   "metadata": {},
   "outputs": [
    {
     "data": {
      "text/plain": [
       "True"
      ]
     },
     "execution_count": 231,
     "metadata": {},
     "output_type": "execute_result"
    }
   ],
   "source": [
    "df_history[\"own_id\"].isin(df_owner[\"id\"]).all()"
   ]
  },
  {
   "attachments": {},
   "cell_type": "markdown",
   "metadata": {},
   "source": [
    "All history data has valid influencer and owner ID"
   ]
  },
  {
   "attachments": {},
   "cell_type": "markdown",
   "metadata": {},
   "source": [
    "## Data Normalization"
   ]
  },
  {
   "attachments": {},
   "cell_type": "markdown",
   "metadata": {},
   "source": [
    "This process will be using Tensorflow Dataset (when I actually have time lol)"
   ]
  },
  {
   "attachments": {},
   "cell_type": "markdown",
   "metadata": {},
   "source": [
    "Normalize influencer data: Scale follower count and One-hot categories"
   ]
  },
  {
   "cell_type": "code",
   "execution_count": 232,
   "metadata": {},
   "outputs": [
    {
     "data": {
      "text/html": [
       "<div>\n",
       "<style scoped>\n",
       "    .dataframe tbody tr th:only-of-type {\n",
       "        vertical-align: middle;\n",
       "    }\n",
       "\n",
       "    .dataframe tbody tr th {\n",
       "        vertical-align: top;\n",
       "    }\n",
       "\n",
       "    .dataframe thead th {\n",
       "        text-align: right;\n",
       "    }\n",
       "</style>\n",
       "<table border=\"1\" class=\"dataframe\">\n",
       "  <thead>\n",
       "    <tr style=\"text-align: right;\">\n",
       "      <th></th>\n",
       "      <th>id</th>\n",
       "      <th>insta_follower</th>\n",
       "      <th>tiktok</th>\n",
       "      <th>youtube</th>\n",
       "      <th>price_normalized</th>\n",
       "      <th>Fashion</th>\n",
       "      <th>Game</th>\n",
       "      <th>General</th>\n",
       "      <th>Music</th>\n",
       "      <th>Pop Culture</th>\n",
       "      <th>Sport</th>\n",
       "      <th>Tech</th>\n",
       "    </tr>\n",
       "  </thead>\n",
       "  <tbody>\n",
       "    <tr>\n",
       "      <th>0</th>\n",
       "      <td>INF1</td>\n",
       "      <td>1.288522</td>\n",
       "      <td>1.636039</td>\n",
       "      <td>0.380405</td>\n",
       "      <td>0.643695</td>\n",
       "      <td>1</td>\n",
       "      <td>0</td>\n",
       "      <td>0</td>\n",
       "      <td>1</td>\n",
       "      <td>0</td>\n",
       "      <td>0</td>\n",
       "      <td>0</td>\n",
       "    </tr>\n",
       "    <tr>\n",
       "      <th>1</th>\n",
       "      <td>INF2</td>\n",
       "      <td>-0.468992</td>\n",
       "      <td>-1.338636</td>\n",
       "      <td>0.648238</td>\n",
       "      <td>0.572601</td>\n",
       "      <td>0</td>\n",
       "      <td>1</td>\n",
       "      <td>1</td>\n",
       "      <td>0</td>\n",
       "      <td>0</td>\n",
       "      <td>0</td>\n",
       "      <td>0</td>\n",
       "    </tr>\n",
       "    <tr>\n",
       "      <th>2</th>\n",
       "      <td>INF3</td>\n",
       "      <td>-1.002510</td>\n",
       "      <td>1.140177</td>\n",
       "      <td>-1.498930</td>\n",
       "      <td>0.441951</td>\n",
       "      <td>1</td>\n",
       "      <td>0</td>\n",
       "      <td>0</td>\n",
       "      <td>1</td>\n",
       "      <td>0</td>\n",
       "      <td>0</td>\n",
       "      <td>1</td>\n",
       "    </tr>\n",
       "    <tr>\n",
       "      <th>3</th>\n",
       "      <td>INF4</td>\n",
       "      <td>0.453663</td>\n",
       "      <td>-0.834373</td>\n",
       "      <td>0.078001</td>\n",
       "      <td>0.445078</td>\n",
       "      <td>0</td>\n",
       "      <td>1</td>\n",
       "      <td>0</td>\n",
       "      <td>1</td>\n",
       "      <td>0</td>\n",
       "      <td>1</td>\n",
       "      <td>1</td>\n",
       "    </tr>\n",
       "    <tr>\n",
       "      <th>4</th>\n",
       "      <td>INF5</td>\n",
       "      <td>-0.785995</td>\n",
       "      <td>0.096516</td>\n",
       "      <td>1.548138</td>\n",
       "      <td>0.590743</td>\n",
       "      <td>1</td>\n",
       "      <td>1</td>\n",
       "      <td>1</td>\n",
       "      <td>1</td>\n",
       "      <td>1</td>\n",
       "      <td>1</td>\n",
       "      <td>0</td>\n",
       "    </tr>\n",
       "  </tbody>\n",
       "</table>\n",
       "</div>"
      ],
      "text/plain": [
       "     id  insta_follower    tiktok   youtube  price_normalized  Fashion  Game  \\\n",
       "0  INF1        1.288522  1.636039  0.380405          0.643695        1     0   \n",
       "1  INF2       -0.468992 -1.338636  0.648238          0.572601        0     1   \n",
       "2  INF3       -1.002510  1.140177 -1.498930          0.441951        1     0   \n",
       "3  INF4        0.453663 -0.834373  0.078001          0.445078        0     1   \n",
       "4  INF5       -0.785995  0.096516  1.548138          0.590743        1     1   \n",
       "\n",
       "   General  Music  Pop Culture  Sport  Tech  \n",
       "0        0      1            0      0     0  \n",
       "1        1      0            0      0     0  \n",
       "2        0      1            0      0     1  \n",
       "3        0      1            0      1     1  \n",
       "4        1      1            1      1     0  "
      ]
     },
     "execution_count": 232,
     "metadata": {},
     "output_type": "execute_result"
    }
   ],
   "source": [
    "from sklearn.preprocessing import StandardScaler\n",
    "\n",
    "follower_scaler = StandardScaler()\n",
    "\n",
    "df_inf_norm = df_influencer.copy()\n",
    "df_inf_norm[[\"insta_follower\", \"tiktok\", \"youtube\"]] = follower_scaler.fit_transform(df_inf_norm[[\"insta_follower\", \"tiktok\", \"youtube\"]])\n",
    "\n",
    "one_hot_categories = df_inf_norm['categories'].str.get_dummies(sep=';')\n",
    "df_inf_norm = pd.concat([df_inf_norm, one_hot_categories], axis=1)\n",
    "df_inf_norm = df_inf_norm.drop('categories', axis=1)\n",
    "df_inf_norm.head()"
   ]
  },
  {
   "attachments": {},
   "cell_type": "markdown",
   "metadata": {},
   "source": [
    "Normalize owner data: One-hot categories"
   ]
  },
  {
   "cell_type": "code",
   "execution_count": 233,
   "metadata": {},
   "outputs": [
    {
     "data": {
      "text/html": [
       "<div>\n",
       "<style scoped>\n",
       "    .dataframe tbody tr th:only-of-type {\n",
       "        vertical-align: middle;\n",
       "    }\n",
       "\n",
       "    .dataframe tbody tr th {\n",
       "        vertical-align: top;\n",
       "    }\n",
       "\n",
       "    .dataframe thead th {\n",
       "        text-align: right;\n",
       "    }\n",
       "</style>\n",
       "<table border=\"1\" class=\"dataframe\">\n",
       "  <thead>\n",
       "    <tr style=\"text-align: right;\">\n",
       "      <th></th>\n",
       "      <th>id</th>\n",
       "      <th>Fashion</th>\n",
       "      <th>Game</th>\n",
       "      <th>General</th>\n",
       "      <th>Music</th>\n",
       "      <th>Pop Culture</th>\n",
       "      <th>Sport</th>\n",
       "      <th>Tech</th>\n",
       "    </tr>\n",
       "  </thead>\n",
       "  <tbody>\n",
       "    <tr>\n",
       "      <th>0</th>\n",
       "      <td>OWN1</td>\n",
       "      <td>1</td>\n",
       "      <td>1</td>\n",
       "      <td>1</td>\n",
       "      <td>1</td>\n",
       "      <td>1</td>\n",
       "      <td>1</td>\n",
       "      <td>1</td>\n",
       "    </tr>\n",
       "    <tr>\n",
       "      <th>1</th>\n",
       "      <td>OWN2</td>\n",
       "      <td>0</td>\n",
       "      <td>1</td>\n",
       "      <td>0</td>\n",
       "      <td>0</td>\n",
       "      <td>1</td>\n",
       "      <td>0</td>\n",
       "      <td>0</td>\n",
       "    </tr>\n",
       "    <tr>\n",
       "      <th>2</th>\n",
       "      <td>OWN3</td>\n",
       "      <td>1</td>\n",
       "      <td>1</td>\n",
       "      <td>1</td>\n",
       "      <td>1</td>\n",
       "      <td>1</td>\n",
       "      <td>1</td>\n",
       "      <td>1</td>\n",
       "    </tr>\n",
       "    <tr>\n",
       "      <th>3</th>\n",
       "      <td>OWN4</td>\n",
       "      <td>1</td>\n",
       "      <td>1</td>\n",
       "      <td>1</td>\n",
       "      <td>0</td>\n",
       "      <td>1</td>\n",
       "      <td>0</td>\n",
       "      <td>0</td>\n",
       "    </tr>\n",
       "    <tr>\n",
       "      <th>4</th>\n",
       "      <td>OWN5</td>\n",
       "      <td>0</td>\n",
       "      <td>1</td>\n",
       "      <td>1</td>\n",
       "      <td>0</td>\n",
       "      <td>0</td>\n",
       "      <td>1</td>\n",
       "      <td>0</td>\n",
       "    </tr>\n",
       "  </tbody>\n",
       "</table>\n",
       "</div>"
      ],
      "text/plain": [
       "     id  Fashion  Game  General  Music  Pop Culture  Sport  Tech\n",
       "0  OWN1        1     1        1      1            1      1     1\n",
       "1  OWN2        0     1        0      0            1      0     0\n",
       "2  OWN3        1     1        1      1            1      1     1\n",
       "3  OWN4        1     1        1      0            1      0     0\n",
       "4  OWN5        0     1        1      0            0      1     0"
      ]
     },
     "execution_count": 233,
     "metadata": {},
     "output_type": "execute_result"
    }
   ],
   "source": [
    "df_own_norm = df_owner.copy()\n",
    "\n",
    "one_hot_categories = df_own_norm['categories'].str.get_dummies(sep=';')\n",
    "df_own_norm = pd.concat([df_own_norm, one_hot_categories], axis=1)\n",
    "df_own_norm = df_own_norm.drop('categories', axis=1)\n",
    "df_own_norm.head()"
   ]
  },
  {
   "attachments": {},
   "cell_type": "markdown",
   "metadata": {},
   "source": [
    "I give up documenting"
   ]
  },
  {
   "cell_type": "code",
   "execution_count": 234,
   "metadata": {},
   "outputs": [
    {
     "data": {
      "text/html": [
       "<div>\n",
       "<style scoped>\n",
       "    .dataframe tbody tr th:only-of-type {\n",
       "        vertical-align: middle;\n",
       "    }\n",
       "\n",
       "    .dataframe tbody tr th {\n",
       "        vertical-align: top;\n",
       "    }\n",
       "\n",
       "    .dataframe thead th {\n",
       "        text-align: right;\n",
       "    }\n",
       "</style>\n",
       "<table border=\"1\" class=\"dataframe\">\n",
       "  <thead>\n",
       "    <tr style=\"text-align: right;\">\n",
       "      <th></th>\n",
       "      <th>own_id</th>\n",
       "      <th>inf_id</th>\n",
       "      <th>star_rating</th>\n",
       "      <th>sentiment_rating</th>\n",
       "      <th>combined_rating</th>\n",
       "    </tr>\n",
       "  </thead>\n",
       "  <tbody>\n",
       "    <tr>\n",
       "      <th>0</th>\n",
       "      <td>OWN1735</td>\n",
       "      <td>INF341</td>\n",
       "      <td>5</td>\n",
       "      <td>0.921058</td>\n",
       "      <td>0.976317</td>\n",
       "    </tr>\n",
       "    <tr>\n",
       "      <th>1</th>\n",
       "      <td>OWN275</td>\n",
       "      <td>INF1253</td>\n",
       "      <td>2</td>\n",
       "      <td>0.001400</td>\n",
       "      <td>0.280420</td>\n",
       "    </tr>\n",
       "    <tr>\n",
       "      <th>2</th>\n",
       "      <td>OWN1430</td>\n",
       "      <td>INF1423</td>\n",
       "      <td>4</td>\n",
       "      <td>0.702913</td>\n",
       "      <td>0.770874</td>\n",
       "    </tr>\n",
       "    <tr>\n",
       "      <th>3</th>\n",
       "      <td>OWN176</td>\n",
       "      <td>INF580</td>\n",
       "      <td>2</td>\n",
       "      <td>0.398565</td>\n",
       "      <td>0.399570</td>\n",
       "    </tr>\n",
       "    <tr>\n",
       "      <th>4</th>\n",
       "      <td>OWN1005</td>\n",
       "      <td>INF1495</td>\n",
       "      <td>3</td>\n",
       "      <td>0.122339</td>\n",
       "      <td>0.456702</td>\n",
       "    </tr>\n",
       "    <tr>\n",
       "      <th>...</th>\n",
       "      <td>...</td>\n",
       "      <td>...</td>\n",
       "      <td>...</td>\n",
       "      <td>...</td>\n",
       "      <td>...</td>\n",
       "    </tr>\n",
       "    <tr>\n",
       "      <th>17275</th>\n",
       "      <td>OWN1141</td>\n",
       "      <td>INF99</td>\n",
       "      <td>5</td>\n",
       "      <td>0.164265</td>\n",
       "      <td>0.749279</td>\n",
       "    </tr>\n",
       "    <tr>\n",
       "      <th>17276</th>\n",
       "      <td>OWN136</td>\n",
       "      <td>INF719</td>\n",
       "      <td>2</td>\n",
       "      <td>0.464404</td>\n",
       "      <td>0.419321</td>\n",
       "    </tr>\n",
       "    <tr>\n",
       "      <th>17277</th>\n",
       "      <td>OWN777</td>\n",
       "      <td>INF337</td>\n",
       "      <td>4</td>\n",
       "      <td>0.062841</td>\n",
       "      <td>0.578852</td>\n",
       "    </tr>\n",
       "    <tr>\n",
       "      <th>17278</th>\n",
       "      <td>OWN974</td>\n",
       "      <td>INF482</td>\n",
       "      <td>1</td>\n",
       "      <td>0.916436</td>\n",
       "      <td>0.414931</td>\n",
       "    </tr>\n",
       "    <tr>\n",
       "      <th>17279</th>\n",
       "      <td>OWN69</td>\n",
       "      <td>INF165</td>\n",
       "      <td>5</td>\n",
       "      <td>0.195050</td>\n",
       "      <td>0.758515</td>\n",
       "    </tr>\n",
       "  </tbody>\n",
       "</table>\n",
       "<p>17280 rows × 5 columns</p>\n",
       "</div>"
      ],
      "text/plain": [
       "        own_id   inf_id  star_rating  sentiment_rating  combined_rating\n",
       "0      OWN1735   INF341            5          0.921058         0.976317\n",
       "1       OWN275  INF1253            2          0.001400         0.280420\n",
       "2      OWN1430  INF1423            4          0.702913         0.770874\n",
       "3       OWN176   INF580            2          0.398565         0.399570\n",
       "4      OWN1005  INF1495            3          0.122339         0.456702\n",
       "...        ...      ...          ...               ...              ...\n",
       "17275  OWN1141    INF99            5          0.164265         0.749279\n",
       "17276   OWN136   INF719            2          0.464404         0.419321\n",
       "17277   OWN777   INF337            4          0.062841         0.578852\n",
       "17278   OWN974   INF482            1          0.916436         0.414931\n",
       "17279    OWN69   INF165            5          0.195050         0.758515\n",
       "\n",
       "[17280 rows x 5 columns]"
      ]
     },
     "execution_count": 234,
     "metadata": {},
     "output_type": "execute_result"
    }
   ],
   "source": [
    "STAR_WEIGHT = 0.7\n",
    "SENTIMENT_WEIGHT = 0.3\n",
    "\n",
    "df_history[\"combined_rating\"] = STAR_WEIGHT * df_history[\"star_rating\"] / 5 + SENTIMENT_WEIGHT * df_history[\"sentiment_rating\"]\n",
    "df_history"
   ]
  },
  {
   "attachments": {},
   "cell_type": "markdown",
   "metadata": {},
   "source": [
    "#### Data Splitting"
   ]
  },
  {
   "attachments": {},
   "cell_type": "markdown",
   "metadata": {},
   "source": [
    "##### Process feature and label"
   ]
  },
  {
   "cell_type": "code",
   "execution_count": 235,
   "metadata": {},
   "outputs": [
    {
     "data": {
      "text/html": [
       "<div>\n",
       "<style scoped>\n",
       "    .dataframe tbody tr th:only-of-type {\n",
       "        vertical-align: middle;\n",
       "    }\n",
       "\n",
       "    .dataframe tbody tr th {\n",
       "        vertical-align: top;\n",
       "    }\n",
       "\n",
       "    .dataframe thead th {\n",
       "        text-align: right;\n",
       "    }\n",
       "</style>\n",
       "<table border=\"1\" class=\"dataframe\">\n",
       "  <thead>\n",
       "    <tr style=\"text-align: right;\">\n",
       "      <th></th>\n",
       "      <th>own_id</th>\n",
       "      <th>inf_id</th>\n",
       "      <th>star_rating</th>\n",
       "      <th>sentiment_rating</th>\n",
       "      <th>combined_rating</th>\n",
       "      <th>id</th>\n",
       "      <th>insta_follower</th>\n",
       "      <th>tiktok</th>\n",
       "      <th>youtube</th>\n",
       "      <th>price_normalized</th>\n",
       "      <th>Fashion</th>\n",
       "      <th>Game</th>\n",
       "      <th>General</th>\n",
       "      <th>Music</th>\n",
       "      <th>Pop Culture</th>\n",
       "      <th>Sport</th>\n",
       "      <th>Tech</th>\n",
       "    </tr>\n",
       "  </thead>\n",
       "  <tbody>\n",
       "    <tr>\n",
       "      <th>0</th>\n",
       "      <td>OWN1735</td>\n",
       "      <td>INF341</td>\n",
       "      <td>5</td>\n",
       "      <td>0.921058</td>\n",
       "      <td>0.976317</td>\n",
       "      <td>INF341</td>\n",
       "      <td>-0.218179</td>\n",
       "      <td>-0.920987</td>\n",
       "      <td>0.301485</td>\n",
       "      <td>0.980579</td>\n",
       "      <td>1</td>\n",
       "      <td>0</td>\n",
       "      <td>0</td>\n",
       "      <td>0</td>\n",
       "      <td>1</td>\n",
       "      <td>1</td>\n",
       "      <td>1</td>\n",
       "    </tr>\n",
       "    <tr>\n",
       "      <th>1</th>\n",
       "      <td>OWN275</td>\n",
       "      <td>INF1253</td>\n",
       "      <td>2</td>\n",
       "      <td>0.001400</td>\n",
       "      <td>0.280420</td>\n",
       "      <td>INF1253</td>\n",
       "      <td>0.862352</td>\n",
       "      <td>-0.493326</td>\n",
       "      <td>0.826565</td>\n",
       "      <td>0.900812</td>\n",
       "      <td>1</td>\n",
       "      <td>1</td>\n",
       "      <td>1</td>\n",
       "      <td>1</td>\n",
       "      <td>1</td>\n",
       "      <td>1</td>\n",
       "      <td>1</td>\n",
       "    </tr>\n",
       "    <tr>\n",
       "      <th>2</th>\n",
       "      <td>OWN1430</td>\n",
       "      <td>INF1423</td>\n",
       "      <td>4</td>\n",
       "      <td>0.702913</td>\n",
       "      <td>0.770874</td>\n",
       "      <td>INF1423</td>\n",
       "      <td>-0.069119</td>\n",
       "      <td>1.681685</td>\n",
       "      <td>-0.899213</td>\n",
       "      <td>0.365875</td>\n",
       "      <td>1</td>\n",
       "      <td>1</td>\n",
       "      <td>1</td>\n",
       "      <td>1</td>\n",
       "      <td>1</td>\n",
       "      <td>1</td>\n",
       "      <td>1</td>\n",
       "    </tr>\n",
       "    <tr>\n",
       "      <th>3</th>\n",
       "      <td>OWN176</td>\n",
       "      <td>INF580</td>\n",
       "      <td>2</td>\n",
       "      <td>0.398565</td>\n",
       "      <td>0.399570</td>\n",
       "      <td>INF580</td>\n",
       "      <td>1.425987</td>\n",
       "      <td>-0.901770</td>\n",
       "      <td>1.669671</td>\n",
       "      <td>0.404617</td>\n",
       "      <td>1</td>\n",
       "      <td>1</td>\n",
       "      <td>0</td>\n",
       "      <td>1</td>\n",
       "      <td>0</td>\n",
       "      <td>0</td>\n",
       "      <td>0</td>\n",
       "    </tr>\n",
       "    <tr>\n",
       "      <th>4</th>\n",
       "      <td>OWN1005</td>\n",
       "      <td>INF1495</td>\n",
       "      <td>3</td>\n",
       "      <td>0.122339</td>\n",
       "      <td>0.456702</td>\n",
       "      <td>INF1495</td>\n",
       "      <td>-1.603896</td>\n",
       "      <td>-0.487319</td>\n",
       "      <td>-1.368330</td>\n",
       "      <td>0.128867</td>\n",
       "      <td>0</td>\n",
       "      <td>1</td>\n",
       "      <td>0</td>\n",
       "      <td>1</td>\n",
       "      <td>0</td>\n",
       "      <td>1</td>\n",
       "      <td>0</td>\n",
       "    </tr>\n",
       "  </tbody>\n",
       "</table>\n",
       "</div>"
      ],
      "text/plain": [
       "    own_id   inf_id  star_rating  sentiment_rating  combined_rating       id  \\\n",
       "0  OWN1735   INF341            5          0.921058         0.976317   INF341   \n",
       "1   OWN275  INF1253            2          0.001400         0.280420  INF1253   \n",
       "2  OWN1430  INF1423            4          0.702913         0.770874  INF1423   \n",
       "3   OWN176   INF580            2          0.398565         0.399570   INF580   \n",
       "4  OWN1005  INF1495            3          0.122339         0.456702  INF1495   \n",
       "\n",
       "   insta_follower    tiktok   youtube  price_normalized  Fashion  Game  \\\n",
       "0       -0.218179 -0.920987  0.301485          0.980579        1     0   \n",
       "1        0.862352 -0.493326  0.826565          0.900812        1     1   \n",
       "2       -0.069119  1.681685 -0.899213          0.365875        1     1   \n",
       "3        1.425987 -0.901770  1.669671          0.404617        1     1   \n",
       "4       -1.603896 -0.487319 -1.368330          0.128867        0     1   \n",
       "\n",
       "   General  Music  Pop Culture  Sport  Tech  \n",
       "0        0      0            1      1     1  \n",
       "1        1      1            1      1     1  \n",
       "2        1      1            1      1     1  \n",
       "3        0      1            0      0     0  \n",
       "4        0      1            0      1     0  "
      ]
     },
     "execution_count": 235,
     "metadata": {},
     "output_type": "execute_result"
    }
   ],
   "source": [
    "# Merge history and influencer data by inf_id\n",
    "df_inf_features = pd.merge(df_history, df_inf_norm, left_on='inf_id', right_on='id', how='left')\n",
    "\n",
    "df_inf_features.head()"
   ]
  },
  {
   "cell_type": "code",
   "execution_count": 236,
   "metadata": {},
   "outputs": [
    {
     "name": "stdout",
     "output_type": "stream",
     "text": [
      "<class 'pandas.core.frame.DataFrame'>\n",
      "Int64Index: 17280 entries, 0 to 17279\n",
      "Data columns (total 11 columns):\n",
      " #   Column            Non-Null Count  Dtype  \n",
      "---  ------            --------------  -----  \n",
      " 0   insta_follower    17280 non-null  float64\n",
      " 1   tiktok            17280 non-null  float64\n",
      " 2   youtube           17280 non-null  float64\n",
      " 3   price_normalized  17280 non-null  float64\n",
      " 4   Fashion           17280 non-null  int64  \n",
      " 5   Game              17280 non-null  int64  \n",
      " 6   General           17280 non-null  int64  \n",
      " 7   Music             17280 non-null  int64  \n",
      " 8   Pop Culture       17280 non-null  int64  \n",
      " 9   Sport             17280 non-null  int64  \n",
      " 10  Tech              17280 non-null  int64  \n",
      "dtypes: float64(4), int64(7)\n",
      "memory usage: 1.6 MB\n"
     ]
    }
   ],
   "source": [
    "# Remove ID and labels\n",
    "df_inf_features = df_inf_features.drop([\"own_id\", \"inf_id\", \"id\", \"star_rating\", \"sentiment_rating\", \"combined_rating\"], axis=1)\n",
    "INFLUENCER_FEATURE_COUNT = len(df_inf_features.columns)\n",
    "\n",
    "df_inf_features.info()"
   ]
  },
  {
   "cell_type": "code",
   "execution_count": 237,
   "metadata": {},
   "outputs": [
    {
     "data": {
      "text/html": [
       "<div>\n",
       "<style scoped>\n",
       "    .dataframe tbody tr th:only-of-type {\n",
       "        vertical-align: middle;\n",
       "    }\n",
       "\n",
       "    .dataframe tbody tr th {\n",
       "        vertical-align: top;\n",
       "    }\n",
       "\n",
       "    .dataframe thead th {\n",
       "        text-align: right;\n",
       "    }\n",
       "</style>\n",
       "<table border=\"1\" class=\"dataframe\">\n",
       "  <thead>\n",
       "    <tr style=\"text-align: right;\">\n",
       "      <th></th>\n",
       "      <th>own_id</th>\n",
       "      <th>inf_id</th>\n",
       "      <th>star_rating</th>\n",
       "      <th>sentiment_rating</th>\n",
       "      <th>combined_rating</th>\n",
       "      <th>id</th>\n",
       "      <th>Fashion</th>\n",
       "      <th>Game</th>\n",
       "      <th>General</th>\n",
       "      <th>Music</th>\n",
       "      <th>Pop Culture</th>\n",
       "      <th>Sport</th>\n",
       "      <th>Tech</th>\n",
       "    </tr>\n",
       "  </thead>\n",
       "  <tbody>\n",
       "    <tr>\n",
       "      <th>0</th>\n",
       "      <td>OWN1735</td>\n",
       "      <td>INF341</td>\n",
       "      <td>5</td>\n",
       "      <td>0.921058</td>\n",
       "      <td>0.976317</td>\n",
       "      <td>OWN1735</td>\n",
       "      <td>0</td>\n",
       "      <td>1</td>\n",
       "      <td>0</td>\n",
       "      <td>1</td>\n",
       "      <td>0</td>\n",
       "      <td>0</td>\n",
       "      <td>0</td>\n",
       "    </tr>\n",
       "    <tr>\n",
       "      <th>1</th>\n",
       "      <td>OWN275</td>\n",
       "      <td>INF1253</td>\n",
       "      <td>2</td>\n",
       "      <td>0.001400</td>\n",
       "      <td>0.280420</td>\n",
       "      <td>OWN275</td>\n",
       "      <td>0</td>\n",
       "      <td>0</td>\n",
       "      <td>1</td>\n",
       "      <td>0</td>\n",
       "      <td>1</td>\n",
       "      <td>1</td>\n",
       "      <td>0</td>\n",
       "    </tr>\n",
       "    <tr>\n",
       "      <th>2</th>\n",
       "      <td>OWN1430</td>\n",
       "      <td>INF1423</td>\n",
       "      <td>4</td>\n",
       "      <td>0.702913</td>\n",
       "      <td>0.770874</td>\n",
       "      <td>OWN1430</td>\n",
       "      <td>0</td>\n",
       "      <td>0</td>\n",
       "      <td>0</td>\n",
       "      <td>1</td>\n",
       "      <td>0</td>\n",
       "      <td>0</td>\n",
       "      <td>0</td>\n",
       "    </tr>\n",
       "    <tr>\n",
       "      <th>3</th>\n",
       "      <td>OWN176</td>\n",
       "      <td>INF580</td>\n",
       "      <td>2</td>\n",
       "      <td>0.398565</td>\n",
       "      <td>0.399570</td>\n",
       "      <td>OWN176</td>\n",
       "      <td>1</td>\n",
       "      <td>1</td>\n",
       "      <td>1</td>\n",
       "      <td>1</td>\n",
       "      <td>1</td>\n",
       "      <td>1</td>\n",
       "      <td>1</td>\n",
       "    </tr>\n",
       "    <tr>\n",
       "      <th>4</th>\n",
       "      <td>OWN1005</td>\n",
       "      <td>INF1495</td>\n",
       "      <td>3</td>\n",
       "      <td>0.122339</td>\n",
       "      <td>0.456702</td>\n",
       "      <td>OWN1005</td>\n",
       "      <td>1</td>\n",
       "      <td>0</td>\n",
       "      <td>1</td>\n",
       "      <td>0</td>\n",
       "      <td>0</td>\n",
       "      <td>1</td>\n",
       "      <td>1</td>\n",
       "    </tr>\n",
       "  </tbody>\n",
       "</table>\n",
       "</div>"
      ],
      "text/plain": [
       "    own_id   inf_id  star_rating  sentiment_rating  combined_rating       id  \\\n",
       "0  OWN1735   INF341            5          0.921058         0.976317  OWN1735   \n",
       "1   OWN275  INF1253            2          0.001400         0.280420   OWN275   \n",
       "2  OWN1430  INF1423            4          0.702913         0.770874  OWN1430   \n",
       "3   OWN176   INF580            2          0.398565         0.399570   OWN176   \n",
       "4  OWN1005  INF1495            3          0.122339         0.456702  OWN1005   \n",
       "\n",
       "   Fashion  Game  General  Music  Pop Culture  Sport  Tech  \n",
       "0        0     1        0      1            0      0     0  \n",
       "1        0     0        1      0            1      1     0  \n",
       "2        0     0        0      1            0      0     0  \n",
       "3        1     1        1      1            1      1     1  \n",
       "4        1     0        1      0            0      1     1  "
      ]
     },
     "execution_count": 237,
     "metadata": {},
     "output_type": "execute_result"
    }
   ],
   "source": [
    "# Join history and owner data by own_id\n",
    "df_own_features = pd.merge(df_history, df_own_norm, left_on='own_id', right_on='id', how='left')\n",
    "\n",
    "df_own_features.head()"
   ]
  },
  {
   "cell_type": "code",
   "execution_count": 238,
   "metadata": {},
   "outputs": [
    {
     "name": "stdout",
     "output_type": "stream",
     "text": [
      "<class 'pandas.core.frame.DataFrame'>\n",
      "Int64Index: 17280 entries, 0 to 17279\n",
      "Data columns (total 7 columns):\n",
      " #   Column       Non-Null Count  Dtype\n",
      "---  ------       --------------  -----\n",
      " 0   Fashion      17280 non-null  int64\n",
      " 1   Game         17280 non-null  int64\n",
      " 2   General      17280 non-null  int64\n",
      " 3   Music        17280 non-null  int64\n",
      " 4   Pop Culture  17280 non-null  int64\n",
      " 5   Sport        17280 non-null  int64\n",
      " 6   Tech         17280 non-null  int64\n",
      "dtypes: int64(7)\n",
      "memory usage: 1.1 MB\n"
     ]
    }
   ],
   "source": [
    "# Remove ID and labels\n",
    "df_own_features = df_own_features.drop([\"own_id\", \"inf_id\", \"id\", \"star_rating\", \"sentiment_rating\", \"combined_rating\"], axis=1)\n",
    "OWNER_FEATURE_COUNT = len(df_own_features.columns)\n",
    "\n",
    "df_own_features.info()"
   ]
  },
  {
   "cell_type": "code",
   "execution_count": 239,
   "metadata": {},
   "outputs": [
    {
     "data": {
      "text/plain": [
       "0    0.976317\n",
       "1    0.280420\n",
       "2    0.770874\n",
       "3    0.399570\n",
       "4    0.456702\n",
       "Name: combined_rating, dtype: float64"
      ]
     },
     "execution_count": 239,
     "metadata": {},
     "output_type": "execute_result"
    }
   ],
   "source": [
    "# Get labels from history data\n",
    "df_labels = df_history[\"combined_rating\"]\n",
    "df_labels.head()"
   ]
  },
  {
   "attachments": {},
   "cell_type": "markdown",
   "metadata": {},
   "source": [
    "##### Generate train, validation, and test dataset"
   ]
  },
  {
   "cell_type": "code",
   "execution_count": 240,
   "metadata": {},
   "outputs": [
    {
     "data": {
      "text/plain": [
       "({'inf_feature': TensorSpec(shape=(11,), dtype=tf.float64, name=None),\n",
       "  'own_feature': TensorSpec(shape=(7,), dtype=tf.int64, name=None)},\n",
       " TensorSpec(shape=(), dtype=tf.float64, name=None))"
      ]
     },
     "execution_count": 240,
     "metadata": {},
     "output_type": "execute_result"
    }
   ],
   "source": [
    "# Shuffle and batch data\n",
    "import tensorflow as tf\n",
    "\n",
    "SHUFFLE_BUFFER = 1000\n",
    "\n",
    "dataset = tf.data.Dataset.from_tensor_slices(({\"inf_feature\": df_inf_features, \"own_feature\": df_own_features}, df_labels))\n",
    "dataset = dataset.shuffle(SHUFFLE_BUFFER) \n",
    "\n",
    "dataset.element_spec"
   ]
  },
  {
   "cell_type": "code",
   "execution_count": 241,
   "metadata": {},
   "outputs": [
    {
     "name": "stdout",
     "output_type": "stream",
     "text": [
      "Training dataset has 13824 data\n",
      "Validation dataset has 1728 data\n",
      "Testing dataset has 1728 data\n"
     ]
    }
   ],
   "source": [
    "# Generate training, validation, and testing data\n",
    "DATASET_SIZE = dataset.cardinality().numpy()\n",
    "TRAIN_SIZE = int(DATASET_SIZE * 0.8)\n",
    "VAL_SIZE = int(DATASET_SIZE * 0.1)\n",
    "TEST_SIZE = DATASET_SIZE - TRAIN_SIZE - VAL_SIZE\n",
    "\n",
    "train_dataset = dataset.take(TRAIN_SIZE)\n",
    "val_dataset = dataset.skip(TRAIN_SIZE).take(VAL_SIZE)\n",
    "test_dataset = dataset.skip(TRAIN_SIZE + VAL_SIZE).take(TEST_SIZE)\n",
    "\n",
    "print(f\"Training dataset has {train_dataset.cardinality().numpy()} data\")\n",
    "print(f\"Validation dataset has {val_dataset.cardinality().numpy()} data\")\n",
    "print(f\"Testing dataset has {test_dataset.cardinality().numpy()} data\")"
   ]
  },
  {
   "cell_type": "code",
   "execution_count": 242,
   "metadata": {},
   "outputs": [],
   "source": [
    "# Batching\n",
    "BATCH_SIZE = 32\n",
    "REPEAT = 2\n",
    "\n",
    "train_dataset = train_dataset.batch(BATCH_SIZE).repeat(REPEAT)\n",
    "val_dataset = val_dataset.batch(BATCH_SIZE)\n",
    "test_dataset = test_dataset.batch(BATCH_SIZE)"
   ]
  },
  {
   "cell_type": "markdown",
   "metadata": {},
   "source": [
    "## Creating Model"
   ]
  },
  {
   "cell_type": "markdown",
   "metadata": {},
   "source": [
    "Model consists of two neural networks that would be combined with Dot layer. The first neural network has influencer features as input and a vector as an output. The second one has owner features as input and a vector as an output. These two vectors will be combined with Dot layer and produces a single combined rating"
   ]
  },
  {
   "cell_type": "code",
   "execution_count": 243,
   "metadata": {},
   "outputs": [
    {
     "name": "stdout",
     "output_type": "stream",
     "text": [
      "Model: \"model_6\"\n",
      "__________________________________________________________________________________________________\n",
      " Layer (type)                   Output Shape         Param #     Connected to                     \n",
      "==================================================================================================\n",
      " inf_feature (InputLayer)       [(None, 11)]         0           []                               \n",
      "                                                                                                  \n",
      " own_feature (InputLayer)       [(None, 7)]          0           []                               \n",
      "                                                                                                  \n",
      " sequential_12 (Sequential)     (None, 32)           40096       ['inf_feature[0][0]']            \n",
      "                                                                                                  \n",
      " sequential_13 (Sequential)     (None, 32)           39072       ['own_feature[0][0]']            \n",
      "                                                                                                  \n",
      " tf.math.l2_normalize_12 (TFOpL  (None, 32)          0           ['sequential_12[0][0]']          \n",
      " ambda)                                                                                           \n",
      "                                                                                                  \n",
      " tf.math.l2_normalize_13 (TFOpL  (None, 32)          0           ['sequential_13[0][0]']          \n",
      " ambda)                                                                                           \n",
      "                                                                                                  \n",
      " dot_6 (Dot)                    (None, 1)            0           ['tf.math.l2_normalize_12[0][0]',\n",
      "                                                                  'tf.math.l2_normalize_13[0][0]']\n",
      "                                                                                                  \n",
      " tf.math.sigmoid_1 (TFOpLambda)  (None, 1)           0           ['dot_6[0][0]']                  \n",
      "                                                                                                  \n",
      "==================================================================================================\n",
      "Total params: 79,168\n",
      "Trainable params: 79,168\n",
      "Non-trainable params: 0\n",
      "__________________________________________________________________________________________________\n"
     ]
    }
   ],
   "source": [
    "VECTOR_SIZE = 32\n",
    "# tf.random.set_seed(1)\n",
    "\n",
    "model_influencer = tf.keras.models.Sequential([\n",
    "    tf.keras.layers.Dense(units=256, activation='relu'),\n",
    "    tf.keras.layers.Dense(units=128, activation='relu'),\n",
    "    tf.keras.layers.Dense(units=VECTOR_SIZE, activation='linear'),\n",
    "])\n",
    "\n",
    "# create the influencer input and point to the base network\n",
    "input_influencer = tf.keras.layers.Input(shape=(INFLUENCER_FEATURE_COUNT), name=\"inf_feature\")\n",
    "vi = model_influencer(input_influencer)\n",
    "vi = tf.linalg.l2_normalize(vi, axis=1)\n",
    "\n",
    "model_owner = tf.keras.models.Sequential([\n",
    "    tf.keras.layers.Dense(units=256, activation='relu'),\n",
    "    tf.keras.layers.Dense(units=128, activation='relu'),\n",
    "    tf.keras.layers.Dense(units=VECTOR_SIZE, activation='linear'),\n",
    "])\n",
    "\n",
    "# create the owner input and point to the base network\n",
    "input_owner = tf.keras.layers.Input(shape=(OWNER_FEATURE_COUNT), name=\"own_feature\")\n",
    "vo = model_owner(input_owner)\n",
    "vo = tf.linalg.l2_normalize(vo, axis=1)\n",
    "\n",
    "# compute the dot product of the two vectors vi and vo\n",
    "dot_product = tf.keras.layers.Dot(axes=1)([vi, vo])\n",
    "output = tf.keras.activations.sigmoid(dot_product)\n",
    "\n",
    "# specify the inputs and output of the model\n",
    "model = tf.keras.Model([input_influencer, input_owner], output)\n",
    "\n",
    "model.summary()"
   ]
  },
  {
   "cell_type": "code",
   "execution_count": 244,
   "metadata": {},
   "outputs": [
    {
     "name": "stdout",
     "output_type": "stream",
     "text": [
      "Epoch 1/10\n",
      "864/864 [==============================] - 3s 2ms/step - loss: 0.0463 - accuracy: 0.0000e+00 - mae: 0.1823 - val_loss: 0.0446 - val_accuracy: 0.0000e+00 - val_mae: 0.1780\n",
      "Epoch 2/10\n",
      "864/864 [==============================] - 2s 2ms/step - loss: 0.0460 - accuracy: 0.0000e+00 - mae: 0.1817 - val_loss: 0.0459 - val_accuracy: 0.0000e+00 - val_mae: 0.1801\n",
      "Epoch 3/10\n",
      "864/864 [==============================] - 2s 2ms/step - loss: 0.0460 - accuracy: 0.0000e+00 - mae: 0.1817 - val_loss: 0.0454 - val_accuracy: 0.0000e+00 - val_mae: 0.1798\n",
      "Epoch 4/10\n",
      "864/864 [==============================] - 2s 2ms/step - loss: 0.0460 - accuracy: 0.0000e+00 - mae: 0.1815 - val_loss: 0.0450 - val_accuracy: 0.0000e+00 - val_mae: 0.1779\n",
      "Epoch 5/10\n",
      "864/864 [==============================] - 2s 2ms/step - loss: 0.0459 - accuracy: 0.0000e+00 - mae: 0.1814 - val_loss: 0.0439 - val_accuracy: 0.0000e+00 - val_mae: 0.1759\n",
      "Epoch 6/10\n",
      "864/864 [==============================] - 2s 2ms/step - loss: 0.0459 - accuracy: 0.0000e+00 - mae: 0.1816 - val_loss: 0.0452 - val_accuracy: 0.0000e+00 - val_mae: 0.1790\n",
      "Epoch 7/10\n",
      "864/864 [==============================] - 2s 2ms/step - loss: 0.0459 - accuracy: 0.0000e+00 - mae: 0.1814 - val_loss: 0.0454 - val_accuracy: 0.0000e+00 - val_mae: 0.1802\n",
      "Epoch 8/10\n",
      "864/864 [==============================] - 2s 2ms/step - loss: 0.0459 - accuracy: 0.0000e+00 - mae: 0.1813 - val_loss: 0.0457 - val_accuracy: 0.0000e+00 - val_mae: 0.1804\n",
      "Epoch 9/10\n",
      "864/864 [==============================] - 2s 2ms/step - loss: 0.0458 - accuracy: 0.0000e+00 - mae: 0.1813 - val_loss: 0.0451 - val_accuracy: 0.0000e+00 - val_mae: 0.1789\n",
      "Epoch 10/10\n",
      "864/864 [==============================] - 2s 2ms/step - loss: 0.0456 - accuracy: 0.0000e+00 - mae: 0.1807 - val_loss: 0.0455 - val_accuracy: 0.0000e+00 - val_mae: 0.1792\n"
     ]
    },
    {
     "data": {
      "text/plain": [
       "<keras.callbacks.History at 0x229618874f0>"
      ]
     },
     "execution_count": 244,
     "metadata": {},
     "output_type": "execute_result"
    }
   ],
   "source": [
    "LEARNING_RATE = 1e-2\n",
    "\n",
    "model.compile(optimizer=tf.keras.optimizers.Adam(learning_rate=LEARNING_RATE), \n",
    "              loss=tf.keras.losses.MeanSquaredError(),\n",
    "              metrics=[\"accuracy\", \"mae\"])\n",
    "\n",
    "model.fit(train_dataset, validation_data=val_dataset, epochs=10)"
   ]
  },
  {
   "attachments": {},
   "cell_type": "markdown",
   "metadata": {},
   "source": [
    "Random data fails, since there are no pattern to learn"
   ]
  },
  {
   "cell_type": "code",
   "execution_count": null,
   "metadata": {},
   "outputs": [],
   "source": []
  }
 ],
 "metadata": {
  "kernelspec": {
   "display_name": "tensorflow",
   "language": "python",
   "name": "python3"
  },
  "language_info": {
   "codemirror_mode": {
    "name": "ipython",
    "version": 3
   },
   "file_extension": ".py",
   "mimetype": "text/x-python",
   "name": "python",
   "nbconvert_exporter": "python",
   "pygments_lexer": "ipython3",
   "version": "3.10.11"
  },
  "orig_nbformat": 4,
  "vscode": {
   "interpreter": {
    "hash": "d4735e28f7f627569bc07f7dc41131ed5d08a93f3d94f12e74778d501b659619"
   }
  }
 },
 "nbformat": 4,
 "nbformat_minor": 2
}
